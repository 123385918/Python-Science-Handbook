{
 "cells": [
  {
   "cell_type": "code",
   "execution_count": 2,
   "metadata": {},
   "outputs": [],
   "source": [
    "import pandas as pd\n",
    "import matplotlib.pyplot as plt\n",
    "import numpy as np\n",
    "import seaborn as sns\n",
    "import scipy\n",
    "# %matplotlib qt5\n",
    "%matplotlib inline"
   ]
  },
  {
   "cell_type": "code",
   "execution_count": 177,
   "metadata": {},
   "outputs": [],
   "source": [
    "data_test = pd.read_csv('./cs-test.csv',index_col=0)"
   ]
  },
  {
   "cell_type": "code",
   "execution_count": 5,
   "metadata": {},
   "outputs": [
    {
     "name": "stdout",
     "output_type": "stream",
     "text": [
      "<class 'pandas.core.frame.DataFrame'>\n",
      "Int64Index: 101503 entries, 1 to 101503\n",
      "Data columns (total 11 columns):\n",
      "SeriousDlqin2yrs                        0 non-null float64\n",
      "RevolvingUtilizationOfUnsecuredLines    101503 non-null float64\n",
      "age                                     101503 non-null int64\n",
      "NumberOfTime30-59DaysPastDueNotWorse    101503 non-null int64\n",
      "DebtRatio                               101503 non-null float64\n",
      "MonthlyIncome                           81400 non-null float64\n",
      "NumberOfOpenCreditLinesAndLoans         101503 non-null int64\n",
      "NumberOfTimes90DaysLate                 101503 non-null int64\n",
      "NumberRealEstateLoansOrLines            101503 non-null int64\n",
      "NumberOfTime60-89DaysPastDueNotWorse    101503 non-null int64\n",
      "NumberOfDependents                      98877 non-null float64\n",
      "dtypes: float64(5), int64(6)\n",
      "memory usage: 9.3 MB\n"
     ]
    }
   ],
   "source": [
    "data_test.info()"
   ]
  },
  {
   "cell_type": "code",
   "execution_count": 25,
   "metadata": {},
   "outputs": [],
   "source": [
    "data_train = pd.read_csv('./cs-training.csv',index_col=0)"
   ]
  },
  {
   "cell_type": "code",
   "execution_count": 26,
   "metadata": {},
   "outputs": [
    {
     "data": {
      "text/plain": [
       "Index(['DebtRatio', 'MonthlyIncome', 'NumberOfDependents',\n",
       "       'NumberOfOpenCreditLinesAndLoans',\n",
       "       'NumberOfTime30-59DaysPastDueNotWorse',\n",
       "       'NumberOfTime60-89DaysPastDueNotWorse', 'NumberOfTimes90DaysLate',\n",
       "       'NumberRealEstateLoansOrLines', 'RevolvingUtilizationOfUnsecuredLines',\n",
       "       'SeriousDlqin2yrs', 'age'],\n",
       "      dtype='object')"
      ]
     },
     "execution_count": 26,
     "metadata": {},
     "output_type": "execute_result"
    }
   ],
   "source": [
    "data_train.columns.sort_values()"
   ]
  },
  {
   "cell_type": "code",
   "execution_count": 27,
   "metadata": {},
   "outputs": [],
   "source": [
    "col_replace = {'SeriousDlqin2yrs':'target', ## 违约客户及超过90天逾期客户，bool型；\n",
    "            'RevolvingUtilizationOfUnsecuredLines':'percentage', ## 贷款以及信用卡可用额度与总额度比例，百分比；\n",
    "           'NumberOfOpenCreditLinesAndLoans':'open_loan', ## 开放式信贷和贷款数量，开放式贷款（分期付款如汽车贷款或抵押贷款）和信贷（如信用卡）的数量，整型；\n",
    "           'NumberOfTimes90DaysLate':'90-', ## 90天逾期次数：借款者有90天或更高逾期的次数，整型；\n",
    "           'NumberRealEstateLoansOrLines':'estate_loan', ## 不动产贷款或额度数量：抵押贷款和不动产放款包括房屋净值信贷额度，整型；\n",
    "           'NumberOfTime60-89DaysPastDueNotWorse':'60-89', ## 60-89天逾期但不糟糕次数，整型；\n",
    "           'NumberOfDependents':'Dependents', ## 家属数量：不包括本人在内的家属数量，整型；\n",
    "           'NumberOfTime30-59DaysPastDueNotWorse':'30-59' ## 35-59天逾期但不糟糕次数，整型；\n",
    "              }\n",
    "data_train.rename(columns=col_replace,inplace=True)"
   ]
  },
  {
   "cell_type": "code",
   "execution_count": 28,
   "metadata": {},
   "outputs": [
    {
     "data": {
      "text/html": [
       "<div>\n",
       "<style scoped>\n",
       "    .dataframe tbody tr th:only-of-type {\n",
       "        vertical-align: middle;\n",
       "    }\n",
       "\n",
       "    .dataframe tbody tr th {\n",
       "        vertical-align: top;\n",
       "    }\n",
       "\n",
       "    .dataframe thead th {\n",
       "        text-align: right;\n",
       "    }\n",
       "</style>\n",
       "<table border=\"1\" class=\"dataframe\">\n",
       "  <thead>\n",
       "    <tr style=\"text-align: right;\">\n",
       "      <th></th>\n",
       "      <th>target</th>\n",
       "      <th>percentage</th>\n",
       "      <th>age</th>\n",
       "      <th>30-59</th>\n",
       "      <th>DebtRatio</th>\n",
       "      <th>MonthlyIncome</th>\n",
       "      <th>open_loan</th>\n",
       "      <th>90-</th>\n",
       "      <th>estate_loan</th>\n",
       "      <th>60-89</th>\n",
       "      <th>Dependents</th>\n",
       "    </tr>\n",
       "  </thead>\n",
       "  <tbody>\n",
       "    <tr>\n",
       "      <th>1</th>\n",
       "      <td>1</td>\n",
       "      <td>0.766127</td>\n",
       "      <td>45</td>\n",
       "      <td>2</td>\n",
       "      <td>0.802982</td>\n",
       "      <td>9120.0</td>\n",
       "      <td>13</td>\n",
       "      <td>0</td>\n",
       "      <td>6</td>\n",
       "      <td>0</td>\n",
       "      <td>2.0</td>\n",
       "    </tr>\n",
       "    <tr>\n",
       "      <th>2</th>\n",
       "      <td>0</td>\n",
       "      <td>0.957151</td>\n",
       "      <td>40</td>\n",
       "      <td>0</td>\n",
       "      <td>0.121876</td>\n",
       "      <td>2600.0</td>\n",
       "      <td>4</td>\n",
       "      <td>0</td>\n",
       "      <td>0</td>\n",
       "      <td>0</td>\n",
       "      <td>1.0</td>\n",
       "    </tr>\n",
       "    <tr>\n",
       "      <th>3</th>\n",
       "      <td>0</td>\n",
       "      <td>0.658180</td>\n",
       "      <td>38</td>\n",
       "      <td>1</td>\n",
       "      <td>0.085113</td>\n",
       "      <td>3042.0</td>\n",
       "      <td>2</td>\n",
       "      <td>1</td>\n",
       "      <td>0</td>\n",
       "      <td>0</td>\n",
       "      <td>0.0</td>\n",
       "    </tr>\n",
       "    <tr>\n",
       "      <th>4</th>\n",
       "      <td>0</td>\n",
       "      <td>0.233810</td>\n",
       "      <td>30</td>\n",
       "      <td>0</td>\n",
       "      <td>0.036050</td>\n",
       "      <td>3300.0</td>\n",
       "      <td>5</td>\n",
       "      <td>0</td>\n",
       "      <td>0</td>\n",
       "      <td>0</td>\n",
       "      <td>0.0</td>\n",
       "    </tr>\n",
       "    <tr>\n",
       "      <th>5</th>\n",
       "      <td>0</td>\n",
       "      <td>0.907239</td>\n",
       "      <td>49</td>\n",
       "      <td>1</td>\n",
       "      <td>0.024926</td>\n",
       "      <td>63588.0</td>\n",
       "      <td>7</td>\n",
       "      <td>0</td>\n",
       "      <td>1</td>\n",
       "      <td>0</td>\n",
       "      <td>0.0</td>\n",
       "    </tr>\n",
       "  </tbody>\n",
       "</table>\n",
       "</div>"
      ],
      "text/plain": [
       "   target  percentage  age  30-59  DebtRatio  MonthlyIncome  open_loan  90-  \\\n",
       "1       1    0.766127   45      2   0.802982         9120.0         13    0   \n",
       "2       0    0.957151   40      0   0.121876         2600.0          4    0   \n",
       "3       0    0.658180   38      1   0.085113         3042.0          2    1   \n",
       "4       0    0.233810   30      0   0.036050         3300.0          5    0   \n",
       "5       0    0.907239   49      1   0.024926        63588.0          7    0   \n",
       "\n",
       "   estate_loan  60-89  Dependents  \n",
       "1            6      0         2.0  \n",
       "2            0      0         1.0  \n",
       "3            0      0         0.0  \n",
       "4            0      0         0.0  \n",
       "5            1      0         0.0  "
      ]
     },
     "execution_count": 28,
     "metadata": {},
     "output_type": "execute_result"
    }
   ],
   "source": [
    "data_train.head()"
   ]
  },
  {
   "cell_type": "code",
   "execution_count": 29,
   "metadata": {},
   "outputs": [
    {
     "name": "stdout",
     "output_type": "stream",
     "text": [
      "<class 'pandas.core.frame.DataFrame'>\n",
      "Int64Index: 150000 entries, 1 to 150000\n",
      "Data columns (total 11 columns):\n",
      "target           150000 non-null int64\n",
      "percentage       150000 non-null float64\n",
      "age              150000 non-null int64\n",
      "30-59            150000 non-null int64\n",
      "DebtRatio        150000 non-null float64\n",
      "MonthlyIncome    120269 non-null float64\n",
      "open_loan        150000 non-null int64\n",
      "90-              150000 non-null int64\n",
      "estate_loan      150000 non-null int64\n",
      "60-89            150000 non-null int64\n",
      "Dependents       146076 non-null float64\n",
      "dtypes: float64(4), int64(7)\n",
      "memory usage: 13.7 MB\n"
     ]
    }
   ],
   "source": [
    "data_train.info() ## 说明只有两项有缺失值"
   ]
  },
  {
   "cell_type": "markdown",
   "metadata": {},
   "source": [
    "## 重复值"
   ]
  },
  {
   "cell_type": "code",
   "execution_count": 30,
   "metadata": {},
   "outputs": [
    {
     "data": {
      "text/plain": [
       "609"
      ]
     },
     "execution_count": 30,
     "metadata": {},
     "output_type": "execute_result"
    }
   ],
   "source": [
    "data_train.duplicated().sum()"
   ]
  },
  {
   "cell_type": "code",
   "execution_count": 31,
   "metadata": {},
   "outputs": [],
   "source": [
    "data_train.drop_duplicates(inplace=True)"
   ]
  },
  {
   "cell_type": "markdown",
   "metadata": {},
   "source": [
    "## 缺失值"
   ]
  },
  {
   "cell_type": "code",
   "execution_count": 32,
   "metadata": {},
   "outputs": [
    {
     "data": {
      "text/plain": [
       "0.13100167687621916"
      ]
     },
     "execution_count": 32,
     "metadata": {},
     "output_type": "execute_result"
    }
   ],
   "source": [
    "data_train.loc[data_train.MonthlyIncome.isna(),'Dependents'].isna().mean()"
   ]
  },
  {
   "cell_type": "code",
   "execution_count": 33,
   "metadata": {},
   "outputs": [
    {
     "data": {
      "text/plain": [
       "1.0"
      ]
     },
     "execution_count": 33,
     "metadata": {},
     "output_type": "execute_result"
    }
   ],
   "source": [
    "data_train.loc[data_train.Dependents.isna(),'MonthlyIncome'].isna().mean() ## 结果1，说明家属没填的，月收入都没填。"
   ]
  },
  {
   "cell_type": "code",
   "execution_count": 34,
   "metadata": {},
   "outputs": [],
   "source": [
    "data_train.dropna(subset=['Dependents'],inplace=True) ## 去掉两项都缺的项。"
   ]
  },
  {
   "cell_type": "code",
   "execution_count": 36,
   "metadata": {},
   "outputs": [
    {
     "data": {
      "image/png": "[encoded data removed]",
      "text/plain": [
       "<Figure size 1152x648 with 11 Axes>"
      ]
     },
     "metadata": {
      "needs_background": "light"
     },
     "output_type": "display_data"
    }
   ],
   "source": [
    "## 考察其他项有什么特征\n",
    "plt.figure(figsize=(16,9))\n",
    "for i,col in enumerate(data_train.columns):\n",
    "    plt.subplot(3,4,i+1)\n",
    "    data_train[col].hist(bins=50)\n",
    "    plt.ylabel(col)"
   ]
  },
  {
   "cell_type": "code",
   "execution_count": 38,
   "metadata": {},
   "outputs": [
    {
     "data": {
      "text/plain": [
       "(array([ 7830., 19028., 24132., 21627., 14975., 11265.,  7993.,  4405.,\n",
       "         2623.,  1762.]),\n",
       " array([    0. ,  1599.9,  3199.8,  4799.7,  6399.6,  7999.5,  9599.4,\n",
       "        11199.3, 12799.2, 14399.1, 15999. ]),\n",
       " <a list of 10 Patch objects>)"
      ]
     },
     "execution_count": 38,
     "metadata": {},
     "output_type": "execute_result"
    },
    {
     "data": {
      "image/png": "[encoded data removed]",
      "text/plain": [
       "<Figure size 432x288 with 2 Axes>"
      ]
     },
     "metadata": {
      "needs_background": "light"
     },
     "output_type": "display_data"
    }
   ],
   "source": [
    "## 填充缺失值\n",
    "from sklearn.experimental import enable_iterative_imputer\n",
    "from sklearn.impute import IterativeImputer\n",
    "from sklearn.ensemble import ExtraTreesRegressor\n",
    "from sklearn.impute import KNNImputer\n",
    "miss_imputer = IterativeImputer(ExtraTreesRegressor(10),initial_strategy=\"most_frequent\",max_iter=5)\n",
    "# miss_imputer2 = KNNImputer()\n",
    "data_train_bak = data_train.copy()\n",
    "data_train_bak.iloc[:,:-1]=miss_imputer.fit_transform(X=data_train.iloc[:,:-1])\n",
    "\n",
    "plt.subplot(121)\n",
    "plt.hist(data_train_bak.loc[data_train_bak.MonthlyIncome<16000,'MonthlyIncome'])\n",
    "plt.subplot(122)\n",
    "plt.hist(data_train.loc[data_train.MonthlyIncome<16000,'MonthlyIncome'])\n",
    "## 填充结果改变了数据分布，不采用。"
   ]
  },
  {
   "cell_type": "code",
   "execution_count": 39,
   "metadata": {},
   "outputs": [],
   "source": [
    "## 有缺失值的两列均改用未缺失项随机抽样填充\n",
    "fill_len = data_train.MonthlyIncome.isna().sum()\n",
    "data_train.loc[data_train.MonthlyIncome.isna(),'MonthlyIncome']=\\\n",
    "np.random.choice(data_train.loc[data_train.MonthlyIncome.notna(),'MonthlyIncome'],fill_len,False)"
   ]
  },
  {
   "cell_type": "code",
   "execution_count": 40,
   "metadata": {},
   "outputs": [
    {
     "name": "stdout",
     "output_type": "stream",
     "text": [
      "<class 'pandas.core.frame.DataFrame'>\n",
      "Int64Index: 145563 entries, 1 to 150000\n",
      "Data columns (total 11 columns):\n",
      "target           145563 non-null int64\n",
      "percentage       145563 non-null float64\n",
      "age              145563 non-null int64\n",
      "30-59            145563 non-null int64\n",
      "DebtRatio        145563 non-null float64\n",
      "MonthlyIncome    145563 non-null float64\n",
      "open_loan        145563 non-null int64\n",
      "90-              145563 non-null int64\n",
      "estate_loan      145563 non-null int64\n",
      "60-89            145563 non-null int64\n",
      "Dependents       145563 non-null float64\n",
      "dtypes: float64(4), int64(7)\n",
      "memory usage: 13.3 MB\n"
     ]
    }
   ],
   "source": [
    "data_train.info()"
   ]
  },
  {
   "cell_type": "code",
   "execution_count": 41,
   "metadata": {},
   "outputs": [
    {
     "data": {
      "text/plain": [
       "<matplotlib.axes._subplots.AxesSubplot at 0x283805a0f48>"
      ]
     },
     "execution_count": 41,
     "metadata": {},
     "output_type": "execute_result"
    },
    {
     "data": {
      "image/png": "[encoded data removed]",
      "text/plain": [
       "<Figure size 1152x648 with 2 Axes>"
      ]
     },
     "metadata": {
      "needs_background": "light"
     },
     "output_type": "display_data"
    }
   ],
   "source": [
    "plt.figure(figsize=(16,9))\n",
    "sns.heatmap(data_train.corr(method='spearman'),annot=True)\n",
    "## 无>0.5的相关性, 暂不考虑降维"
   ]
  },
  {
   "cell_type": "code",
   "execution_count": 42,
   "metadata": {},
   "outputs": [],
   "source": [
    "## 特征工程前，重置索引\n",
    "data_train.reset_index(drop=True, inplace=True)"
   ]
  },
  {
   "cell_type": "markdown",
   "metadata": {},
   "source": [
    "## 划分训练集验证集"
   ]
  },
  {
   "cell_type": "code",
   "execution_count": 43,
   "metadata": {},
   "outputs": [],
   "source": [
    "from sklearn.model_selection import train_test_split"
   ]
  },
  {
   "cell_type": "code",
   "execution_count": 53,
   "metadata": {},
   "outputs": [],
   "source": [
    "df_train, df_test = train_test_split(data_train,stratify=data_train.target)"
   ]
  },
  {
   "cell_type": "markdown",
   "metadata": {},
   "source": [
    "## 自定分箱 卡方分箱 spearman分箱"
   ]
  },
  {
   "cell_type": "code",
   "execution_count": 54,
   "metadata": {},
   "outputs": [],
   "source": [
    "import scipy"
   ]
  },
  {
   "cell_type": "code",
   "execution_count": 55,
   "metadata": {},
   "outputs": [],
   "source": [
    "def init_box(df,n_split):\n",
    "    ## 待份变量等频初始化分箱，统计分箱后标签频数\n",
    "    categ = pd.cut(df.iloc[:,0],n_split,duplicates='raise')\n",
    "    freq = pd.crosstab(categ, df.iloc[:,1]).reset_index()\n",
    "    freq.iloc[:,0] = freq.iloc[:,0].astype(object)\n",
    "\n",
    "    ## 计算WOE,IV\n",
    "    freq['woe'] = np.log(freq[1]/freq[0]*freq[0].sum()/freq[1].sum())\n",
    "    iv = freq.woe.dot((freq[1]/freq[1].sum()-freq[0]/freq[0].sum()))\n",
    "    \n",
    "    return freq.set_index(freq.columns[0]), iv ## reindex方便后续计算"
   ]
  },
  {
   "cell_type": "code",
   "execution_count": 56,
   "metadata": {},
   "outputs": [],
   "source": [
    "def mychi2(freq):\n",
    "    R = freq.sum(1,keepdims=True)\n",
    "    C = freq.sum(0)\n",
    "    N = R.sum()\n",
    "    E = R*C / N\n",
    "    sqr = np.square(freq-E)/E\n",
    "    sqr[E==0] = 0\n",
    "    return sqr.sum()"
   ]
  },
  {
   "cell_type": "code",
   "execution_count": 57,
   "metadata": {},
   "outputs": [],
   "source": [
    "chi2 = lambda x: scipy.stats.chi2_contingency(x,correction=False)[1]\n",
    "add = lambda in1,in2: pd.Interval(in1.left,in2.right)\n",
    "def chi2_box(df, n_split=20, p_thr=.05):\n",
    "    '''\n",
    "    df:两列，第一列是待分箱变量，第二列是标签\n",
    "    n_split: 初始划分区间数\n",
    "    p_thr: 拒绝概率\n",
    "    '''\n",
    "    ## 待份变量等频初始化分箱，统计分箱后标签频数\n",
    "    categ = pd.qcut(df.iloc[:,0],n_split,duplicates='drop')\n",
    "    freq = pd.crosstab(categ, df.iloc[:,1]).reset_index()\n",
    "    freq.iloc[:,0] = freq.iloc[:,0].astype(object)\n",
    "    \n",
    "    ## 相邻箱计算p值\n",
    "    while True:\n",
    "        p_val = [chi2(freq.iloc[i:i+2,1:]) for i in range(len(freq))]\n",
    "        p_max = np.argmax(p_val[:-1])\n",
    "        if p_val[p_max] <= p_thr:\n",
    "            break\n",
    "        freq.iloc[p_max,0] = add(freq.iloc[p_max,0], freq.iloc[p_max+1,0])\n",
    "        freq.iloc[p_max,1:] = freq.iloc[p_max,1:] + freq.iloc[p_max+1,1:]\n",
    "        freq.drop(index=freq.index[p_max+1],inplace=True)\n",
    "    freq.iloc[-1,0] = add(freq.iloc[-1,0], pd.Interval(0,np.inf)) ## 适配数据\n",
    "    freq.iloc[0,0] = add(pd.Interval(-np.inf,0), freq.iloc[0,0]) ## 适配数据\n",
    "\n",
    "    ## 计算WOE,IV\n",
    "    freq['p_val'] = p_val\n",
    "    freq['woe'] = np.log(freq[1]/freq[0]*freq[0].sum()/freq[1].sum())\n",
    "    iv = freq.woe.dot((freq[1]/freq[1].sum()-freq[0]/freq[0].sum()))\n",
    "    \n",
    "    return freq.set_index(freq.columns[0]),iv\n",
    "    "
   ]
  },
  {
   "cell_type": "code",
   "execution_count": 58,
   "metadata": {},
   "outputs": [
    {
     "data": {
      "text/plain": [
       "(y                0     1          p_val       woe\n",
       " age                                              \n",
       " (-inf, 9.0]   9011   989  1.604685e-286 -1.809248\n",
       " (9.75, 29.0]  6959  3041  1.115745e-183 -0.427590\n",
       " (29.5, 44.0]  4953  5047  3.187757e-170  0.419060\n",
       " (44.25, inf]  3027  6973   1.000000e+00  1.234733,\n",
       " 1.0379472405262833)"
      ]
     },
     "execution_count": 58,
     "metadata": {},
     "output_type": "execute_result"
    },
    {
     "data": {
      "image/png": "[encoded data removed]",
      "text/plain": [
       "<Figure size 432x288 with 1 Axes>"
      ]
     },
     "metadata": {
      "needs_background": "light"
     },
     "output_type": "display_data"
    }
   ],
   "source": [
    "## test function \n",
    "\n",
    "num = 10000  ##构造一个有40000数据量的数据\n",
    "x1 = np.random.randint(1,10,num)\n",
    "x2 = np.random.randint(10,30,num)\n",
    "x3 = np.random.randint(30,45,num)\n",
    "x4 = np.random.randint(45,80,num)\n",
    "x = np.r_[x1,x2,x3,x4]\n",
    "\n",
    "y1 = np.random.choice([0,1],num,p=[.9,.1])\n",
    "y2 = np.random.choice([0,1],num,p=[.7,.3])\n",
    "y3 = np.random.choice([0,1],num,p=[.5,.5])\n",
    "y4 = np.random.choice([0,1],num,p=[.3,.7])\n",
    "y = np.r_[y1,y2,y3,y4]\n",
    "\n",
    "testdata = pd.DataFrame({\"age\":x,\"y\":y})\n",
    "testdata.groupby('age')['y'].mean().plot()\n",
    "chi2_box(testdata,100,.001)"
   ]
  },
  {
   "cell_type": "code",
   "execution_count": 59,
   "metadata": {},
   "outputs": [],
   "source": [
    "spearman = lambda x: scipy.stats.spearmanr(x.iloc[:,0], x.iloc[:,1])[0]\n",
    "def spearman_box(df, n = 20, r_thr=1):\n",
    "    r = 0\n",
    "    while np.abs(r) < r_thr:\n",
    "        categ = pd.qcut(df.iloc[:,0], n, duplicates='drop')\n",
    "        d2 = df.groupby(categ).mean()\n",
    "        r = spearman(d2)\n",
    "        n = n - 1\n",
    "    freq = pd.crosstab(categ, df.iloc[:,1]).reset_index()\n",
    "    freq['woe'] = np.log(freq[1]/freq[0]*freq[0].sum()/freq[1].sum())\n",
    "    iv = freq.woe.dot((freq[1]/freq[1].sum()-freq[0]/freq[0].sum()))\n",
    "    return freq.set_index(freq.columns[0]),iv"
   ]
  },
  {
   "cell_type": "code",
   "execution_count": 60,
   "metadata": {},
   "outputs": [
    {
     "data": {
      "text/html": [
       "<div>\n",
       "<style scoped>\n",
       "    .dataframe tbody tr th:only-of-type {\n",
       "        vertical-align: middle;\n",
       "    }\n",
       "\n",
       "    .dataframe tbody tr th {\n",
       "        vertical-align: top;\n",
       "    }\n",
       "\n",
       "    .dataframe thead th {\n",
       "        text-align: right;\n",
       "    }\n",
       "</style>\n",
       "<table border=\"1\" class=\"dataframe\">\n",
       "  <thead>\n",
       "    <tr style=\"text-align: right;\">\n",
       "      <th>target</th>\n",
       "      <th>0</th>\n",
       "      <th>1</th>\n",
       "      <th>p_val</th>\n",
       "      <th>woe</th>\n",
       "    </tr>\n",
       "    <tr>\n",
       "      <th>age</th>\n",
       "      <th></th>\n",
       "      <th></th>\n",
       "      <th></th>\n",
       "      <th></th>\n",
       "    </tr>\n",
       "  </thead>\n",
       "  <tbody>\n",
       "    <tr>\n",
       "      <th>(-inf, 35.0]</th>\n",
       "      <td>13805</td>\n",
       "      <td>1742</td>\n",
       "      <td>1.124320e-08</td>\n",
       "      <td>0.555179</td>\n",
       "    </tr>\n",
       "    <tr>\n",
       "      <th>(35.0, 42.0]</th>\n",
       "      <td>13324</td>\n",
       "      <td>1352</td>\n",
       "      <td>3.949404e-07</td>\n",
       "      <td>0.337194</td>\n",
       "    </tr>\n",
       "    <tr>\n",
       "      <th>(42.0, 54.0]</th>\n",
       "      <td>29456</td>\n",
       "      <td>2499</td>\n",
       "      <td>1.382729e-04</td>\n",
       "      <td>0.158169</td>\n",
       "    </tr>\n",
       "    <tr>\n",
       "      <th>(54.0, 56.0]</th>\n",
       "      <td>4804</td>\n",
       "      <td>323</td>\n",
       "      <td>4.197696e-05</td>\n",
       "      <td>-0.074376</td>\n",
       "    </tr>\n",
       "    <tr>\n",
       "      <th>(56.0, 62.0]</th>\n",
       "      <td>14177</td>\n",
       "      <td>719</td>\n",
       "      <td>4.288981e-09</td>\n",
       "      <td>-0.356339</td>\n",
       "    </tr>\n",
       "    <tr>\n",
       "      <th>(62.0, 67.0]</th>\n",
       "      <td>10123</td>\n",
       "      <td>348</td>\n",
       "      <td>2.489703e-06</td>\n",
       "      <td>-0.745187</td>\n",
       "    </tr>\n",
       "    <tr>\n",
       "      <th>(67.0, inf]</th>\n",
       "      <td>16110</td>\n",
       "      <td>390</td>\n",
       "      <td>1.000000e+00</td>\n",
       "      <td>-1.095873</td>\n",
       "    </tr>\n",
       "  </tbody>\n",
       "</table>\n",
       "</div>"
      ],
      "text/plain": [
       "target            0     1         p_val       woe\n",
       "age                                              \n",
       "(-inf, 35.0]  13805  1742  1.124320e-08  0.555179\n",
       "(35.0, 42.0]  13324  1352  3.949404e-07  0.337194\n",
       "(42.0, 54.0]  29456  2499  1.382729e-04  0.158169\n",
       "(54.0, 56.0]   4804   323  4.197696e-05 -0.074376\n",
       "(56.0, 62.0]  14177   719  4.288981e-09 -0.356339\n",
       "(62.0, 67.0]  10123   348  2.489703e-06 -0.745187\n",
       "(67.0, inf]   16110   390  1.000000e+00 -1.095873"
      ]
     },
     "metadata": {},
     "output_type": "display_data"
    },
    {
     "data": {
      "text/plain": [
       "<matplotlib.axes._subplots.AxesSubplot at 0x283814752c8>"
      ]
     },
     "metadata": {},
     "output_type": "display_data"
    },
    {
     "data": {
      "image/png": "[encoded data removed]",
      "text/plain": [
       "<Figure size 432x288 with 1 Axes>"
      ]
     },
     "metadata": {
      "needs_background": "light"
     },
     "output_type": "display_data"
    }
   ],
   "source": [
    "age_box,age_iv = chi2_box(df_train[['age','target']],50,.001)\n",
    "display(age_box,age_box.woe.plot(kind='bar',title=f'IV: {age_iv:.4f}'))"
   ]
  },
  {
   "cell_type": "code",
   "execution_count": 61,
   "metadata": {},
   "outputs": [
    {
     "data": {
      "text/html": [
       "<div>\n",
       "<style scoped>\n",
       "    .dataframe tbody tr th:only-of-type {\n",
       "        vertical-align: middle;\n",
       "    }\n",
       "\n",
       "    .dataframe tbody tr th {\n",
       "        vertical-align: top;\n",
       "    }\n",
       "\n",
       "    .dataframe thead th {\n",
       "        text-align: right;\n",
       "    }\n",
       "</style>\n",
       "<table border=\"1\" class=\"dataframe\">\n",
       "  <thead>\n",
       "    <tr style=\"text-align: right;\">\n",
       "      <th>target</th>\n",
       "      <th>0</th>\n",
       "      <th>1</th>\n",
       "      <th>p_val</th>\n",
       "      <th>woe</th>\n",
       "    </tr>\n",
       "    <tr>\n",
       "      <th>MonthlyIncome</th>\n",
       "      <th></th>\n",
       "      <th></th>\n",
       "      <th></th>\n",
       "      <th></th>\n",
       "    </tr>\n",
       "  </thead>\n",
       "  <tbody>\n",
       "    <tr>\n",
       "      <th>(-inf, 1300.0]</th>\n",
       "      <td>5139</td>\n",
       "      <td>339</td>\n",
       "      <td>5.315548e-12</td>\n",
       "      <td>-0.093438</td>\n",
       "    </tr>\n",
       "    <tr>\n",
       "      <th>(1300.0, 3400.0]</th>\n",
       "      <td>19938</td>\n",
       "      <td>1995</td>\n",
       "      <td>5.507840e-05</td>\n",
       "      <td>0.323192</td>\n",
       "    </tr>\n",
       "    <tr>\n",
       "      <th>(3400.0, 4560.0]</th>\n",
       "      <td>14974</td>\n",
       "      <td>1289</td>\n",
       "      <td>5.015111e-05</td>\n",
       "      <td>0.172727</td>\n",
       "    </tr>\n",
       "    <tr>\n",
       "      <th>(4560.0, 6332.0]</th>\n",
       "      <td>20342</td>\n",
       "      <td>1492</td>\n",
       "      <td>6.019980e-10</td>\n",
       "      <td>0.012605</td>\n",
       "    </tr>\n",
       "    <tr>\n",
       "      <th>(6332.0, 10109.35]</th>\n",
       "      <td>25790</td>\n",
       "      <td>1498</td>\n",
       "      <td>1.057793e-04</td>\n",
       "      <td>-0.220680</td>\n",
       "    </tr>\n",
       "    <tr>\n",
       "      <th>(10109.35, inf]</th>\n",
       "      <td>15616</td>\n",
       "      <td>760</td>\n",
       "      <td>1.000000e+00</td>\n",
       "      <td>-0.397557</td>\n",
       "    </tr>\n",
       "  </tbody>\n",
       "</table>\n",
       "</div>"
      ],
      "text/plain": [
       "target                  0     1         p_val       woe\n",
       "MonthlyIncome                                          \n",
       "(-inf, 1300.0]       5139   339  5.315548e-12 -0.093438\n",
       "(1300.0, 3400.0]    19938  1995  5.507840e-05  0.323192\n",
       "(3400.0, 4560.0]    14974  1289  5.015111e-05  0.172727\n",
       "(4560.0, 6332.0]    20342  1492  6.019980e-10  0.012605\n",
       "(6332.0, 10109.35]  25790  1498  1.057793e-04 -0.220680\n",
       "(10109.35, inf]     15616   760  1.000000e+00 -0.397557"
      ]
     },
     "metadata": {},
     "output_type": "display_data"
    },
    {
     "data": {
      "text/plain": [
       "<matplotlib.axes._subplots.AxesSubplot at 0x2838163e208>"
      ]
     },
     "metadata": {},
     "output_type": "display_data"
    },
    {
     "data": {
      "image/png": "[encoded data removed]",
      "text/plain": [
       "<Figure size 432x288 with 1 Axes>"
      ]
     },
     "metadata": {
      "needs_background": "light"
     },
     "output_type": "display_data"
    }
   ],
   "source": [
    "MI_box,MI_iv = chi2_box(df_train[['MonthlyIncome','target']],20,.01)\n",
    "display(MI_box,MI_box.woe.plot(kind='bar',title=f'IV: {MI_iv:.4f}'))"
   ]
  },
  {
   "cell_type": "code",
   "execution_count": 62,
   "metadata": {},
   "outputs": [
    {
     "data": {
      "text/html": [
       "<div>\n",
       "<style scoped>\n",
       "    .dataframe tbody tr th:only-of-type {\n",
       "        vertical-align: middle;\n",
       "    }\n",
       "\n",
       "    .dataframe tbody tr th {\n",
       "        vertical-align: top;\n",
       "    }\n",
       "\n",
       "    .dataframe thead th {\n",
       "        text-align: right;\n",
       "    }\n",
       "</style>\n",
       "<table border=\"1\" class=\"dataframe\">\n",
       "  <thead>\n",
       "    <tr style=\"text-align: right;\">\n",
       "      <th>target</th>\n",
       "      <th>0</th>\n",
       "      <th>1</th>\n",
       "      <th>p_val</th>\n",
       "      <th>woe</th>\n",
       "    </tr>\n",
       "    <tr>\n",
       "      <th>percentage</th>\n",
       "      <th></th>\n",
       "      <th></th>\n",
       "      <th></th>\n",
       "      <th></th>\n",
       "    </tr>\n",
       "  </thead>\n",
       "  <tbody>\n",
       "    <tr>\n",
       "      <th>(-inf, 0.00354]</th>\n",
       "      <td>10645</td>\n",
       "      <td>273</td>\n",
       "      <td>2.869790e-10</td>\n",
       "      <td>-1.038198</td>\n",
       "    </tr>\n",
       "    <tr>\n",
       "      <th>(0.00354, 0.0627]</th>\n",
       "      <td>26870</td>\n",
       "      <td>422</td>\n",
       "      <td>2.694397e-04</td>\n",
       "      <td>-1.528585</td>\n",
       "    </tr>\n",
       "    <tr>\n",
       "      <th>(0.0627, 0.118]</th>\n",
       "      <td>10690</td>\n",
       "      <td>227</td>\n",
       "      <td>5.711722e-06</td>\n",
       "      <td>-1.226938</td>\n",
       "    </tr>\n",
       "    <tr>\n",
       "      <th>(0.118, 0.211]</th>\n",
       "      <td>10585</td>\n",
       "      <td>333</td>\n",
       "      <td>5.024018e-03</td>\n",
       "      <td>-0.833875</td>\n",
       "    </tr>\n",
       "    <tr>\n",
       "      <th>(0.211, 0.276]</th>\n",
       "      <td>5246</td>\n",
       "      <td>212</td>\n",
       "      <td>1.555553e-04</td>\n",
       "      <td>-0.583459</td>\n",
       "    </tr>\n",
       "    <tr>\n",
       "      <th>(0.276, 0.448]</th>\n",
       "      <td>10347</td>\n",
       "      <td>570</td>\n",
       "      <td>2.006255e-09</td>\n",
       "      <td>-0.273640</td>\n",
       "    </tr>\n",
       "    <tr>\n",
       "      <th>(0.448, 0.562]</th>\n",
       "      <td>5045</td>\n",
       "      <td>414</td>\n",
       "      <td>5.142975e-06</td>\n",
       "      <td>0.124889</td>\n",
       "    </tr>\n",
       "    <tr>\n",
       "      <th>(0.562, 0.699]</th>\n",
       "      <td>4909</td>\n",
       "      <td>549</td>\n",
       "      <td>2.155511e-10</td>\n",
       "      <td>0.434449</td>\n",
       "    </tr>\n",
       "    <tr>\n",
       "      <th>(0.699, 0.851]</th>\n",
       "      <td>4694</td>\n",
       "      <td>765</td>\n",
       "      <td>4.361176e-18</td>\n",
       "      <td>0.811011</td>\n",
       "    </tr>\n",
       "    <tr>\n",
       "      <th>(0.851, 1.0]</th>\n",
       "      <td>11227</td>\n",
       "      <td>2687</td>\n",
       "      <td>9.946110e-89</td>\n",
       "      <td>1.195279</td>\n",
       "    </tr>\n",
       "    <tr>\n",
       "      <th>(1.0, inf]</th>\n",
       "      <td>1541</td>\n",
       "      <td>921</td>\n",
       "      <td>1.000000e+00</td>\n",
       "      <td>2.110449</td>\n",
       "    </tr>\n",
       "  </tbody>\n",
       "</table>\n",
       "</div>"
      ],
      "text/plain": [
       "target                 0     1         p_val       woe\n",
       "percentage                                            \n",
       "(-inf, 0.00354]    10645   273  2.869790e-10 -1.038198\n",
       "(0.00354, 0.0627]  26870   422  2.694397e-04 -1.528585\n",
       "(0.0627, 0.118]    10690   227  5.711722e-06 -1.226938\n",
       "(0.118, 0.211]     10585   333  5.024018e-03 -0.833875\n",
       "(0.211, 0.276]      5246   212  1.555553e-04 -0.583459\n",
       "(0.276, 0.448]     10347   570  2.006255e-09 -0.273640\n",
       "(0.448, 0.562]      5045   414  5.142975e-06  0.124889\n",
       "(0.562, 0.699]      4909   549  2.155511e-10  0.434449\n",
       "(0.699, 0.851]      4694   765  4.361176e-18  0.811011\n",
       "(0.851, 1.0]       11227  2687  9.946110e-89  1.195279\n",
       "(1.0, inf]          1541   921  1.000000e+00  2.110449"
      ]
     },
     "metadata": {},
     "output_type": "display_data"
    },
    {
     "data": {
      "text/plain": [
       "1.1406010896723342"
      ]
     },
     "metadata": {},
     "output_type": "display_data"
    },
    {
     "data": {
      "text/plain": [
       "<matplotlib.axes._subplots.AxesSubplot at 0x283837e9488>"
      ]
     },
     "metadata": {},
     "output_type": "display_data"
    },
    {
     "data": {
      "image/png": "[encoded data removed]",
      "text/plain": [
       "<Figure size 432x288 with 1 Axes>"
      ]
     },
     "metadata": {
      "needs_background": "light"
     },
     "output_type": "display_data"
    }
   ],
   "source": [
    "per_box,per_iv = chi2_box(df_train[['percentage','target']],20,.01)\n",
    "display(per_box,per_iv,per_box.woe.plot(kind='bar',title=f'IV: {per_iv:.4f}'))"
   ]
  },
  {
   "cell_type": "code",
   "execution_count": 65,
   "metadata": {},
   "outputs": [
    {
     "data": {
      "text/plain": [
       "<matplotlib.axes._subplots.AxesSubplot at 0x283815b8f88>"
      ]
     },
     "execution_count": 65,
     "metadata": {},
     "output_type": "execute_result"
    },
    {
     "data": {
      "image/png": "[encoded data removed]",
      "text/plain": [
       "<Figure size 432x288 with 2 Axes>"
      ]
     },
     "metadata": {
      "needs_background": "light"
     },
     "output_type": "display_data"
    }
   ],
   "source": [
    "ax1 = plt.subplot(122)\n",
    "df_train.loc[df_train['30-59'].lt(20),['30-59']].hist(ax=ax1,bins=50)\n",
    "ax2=plt.subplot(121)\n",
    "df_train[['30-59']].boxplot(ax=ax2)"
   ]
  },
  {
   "cell_type": "code",
   "execution_count": 66,
   "metadata": {},
   "outputs": [
    {
     "data": {
      "text/html": [
       "<div>\n",
       "<style scoped>\n",
       "    .dataframe tbody tr th:only-of-type {\n",
       "        vertical-align: middle;\n",
       "    }\n",
       "\n",
       "    .dataframe tbody tr th {\n",
       "        vertical-align: top;\n",
       "    }\n",
       "\n",
       "    .dataframe thead th {\n",
       "        text-align: right;\n",
       "    }\n",
       "</style>\n",
       "<table border=\"1\" class=\"dataframe\">\n",
       "  <thead>\n",
       "    <tr style=\"text-align: right;\">\n",
       "      <th>target</th>\n",
       "      <th>0</th>\n",
       "      <th>1</th>\n",
       "      <th>p_val</th>\n",
       "      <th>woe</th>\n",
       "    </tr>\n",
       "    <tr>\n",
       "      <th>30-59</th>\n",
       "      <th></th>\n",
       "      <th></th>\n",
       "      <th></th>\n",
       "      <th></th>\n",
       "    </tr>\n",
       "  </thead>\n",
       "  <tbody>\n",
       "    <tr>\n",
       "      <th>(-inf, 1.0]</th>\n",
       "      <td>97840</td>\n",
       "      <td>5473</td>\n",
       "      <td>0.000000e+00</td>\n",
       "      <td>-0.258331</td>\n",
       "    </tr>\n",
       "    <tr>\n",
       "      <th>(1.0, 2.0]</th>\n",
       "      <td>2504</td>\n",
       "      <td>887</td>\n",
       "      <td>2.782438e-33</td>\n",
       "      <td>1.587376</td>\n",
       "    </tr>\n",
       "    <tr>\n",
       "      <th>(2.0, inf]</th>\n",
       "      <td>1455</td>\n",
       "      <td>1013</td>\n",
       "      <td>1.000000e+00</td>\n",
       "      <td>2.263086</td>\n",
       "    </tr>\n",
       "  </tbody>\n",
       "</table>\n",
       "</div>"
      ],
      "text/plain": [
       "target           0     1         p_val       woe\n",
       "30-59                                           \n",
       "(-inf, 1.0]  97840  5473  0.000000e+00 -0.258331\n",
       "(1.0, 2.0]    2504   887  2.782438e-33  1.587376\n",
       "(2.0, inf]    1455  1013  1.000000e+00  2.263086"
      ]
     },
     "metadata": {},
     "output_type": "display_data"
    },
    {
     "data": {
      "text/plain": [
       "0.4870330365988019"
      ]
     },
     "metadata": {},
     "output_type": "display_data"
    }
   ],
   "source": [
    "n30_box,n30_iv = chi2_box(df_train[['30-59','target']],20,.05)\n",
    "display(n30_box,n30_iv) ## 每箱数量差别太大，改手动分箱。"
   ]
  },
  {
   "cell_type": "code",
   "execution_count": 67,
   "metadata": {},
   "outputs": [
    {
     "data": {
      "text/html": [
       "<div>\n",
       "<style scoped>\n",
       "    .dataframe tbody tr th:only-of-type {\n",
       "        vertical-align: middle;\n",
       "    }\n",
       "\n",
       "    .dataframe tbody tr th {\n",
       "        vertical-align: top;\n",
       "    }\n",
       "\n",
       "    .dataframe thead th {\n",
       "        text-align: right;\n",
       "    }\n",
       "</style>\n",
       "<table border=\"1\" class=\"dataframe\">\n",
       "  <thead>\n",
       "    <tr style=\"text-align: right;\">\n",
       "      <th>target</th>\n",
       "      <th>0</th>\n",
       "      <th>1</th>\n",
       "      <th>woe</th>\n",
       "    </tr>\n",
       "    <tr>\n",
       "      <th>30-59</th>\n",
       "      <th></th>\n",
       "      <th></th>\n",
       "      <th></th>\n",
       "    </tr>\n",
       "  </thead>\n",
       "  <tbody>\n",
       "    <tr>\n",
       "      <th>(-inf, 0.1]</th>\n",
       "      <td>87770</td>\n",
       "      <td>3695</td>\n",
       "      <td>-0.542564</td>\n",
       "    </tr>\n",
       "    <tr>\n",
       "      <th>(0.1, 1.1]</th>\n",
       "      <td>10070</td>\n",
       "      <td>1778</td>\n",
       "      <td>0.891104</td>\n",
       "    </tr>\n",
       "    <tr>\n",
       "      <th>(1.1, 2.1]</th>\n",
       "      <td>2504</td>\n",
       "      <td>887</td>\n",
       "      <td>1.587376</td>\n",
       "    </tr>\n",
       "    <tr>\n",
       "      <th>(2.1, 3.1]</th>\n",
       "      <td>852</td>\n",
       "      <td>469</td>\n",
       "      <td>2.028192</td>\n",
       "    </tr>\n",
       "    <tr>\n",
       "      <th>(3.1, 4.1]</th>\n",
       "      <td>320</td>\n",
       "      <td>244</td>\n",
       "      <td>2.354023</td>\n",
       "    </tr>\n",
       "    <tr>\n",
       "      <th>(4.1, inf]</th>\n",
       "      <td>283</td>\n",
       "      <td>300</td>\n",
       "      <td>2.683511</td>\n",
       "    </tr>\n",
       "  </tbody>\n",
       "</table>\n",
       "</div>"
      ],
      "text/plain": [
       "target           0     1       woe\n",
       "30-59                             \n",
       "(-inf, 0.1]  87770  3695 -0.542564\n",
       "(0.1, 1.1]   10070  1778  0.891104\n",
       "(1.1, 2.1]    2504   887  1.587376\n",
       "(2.1, 3.1]     852   469  2.028192\n",
       "(3.1, 4.1]     320   244  2.354023\n",
       "(4.1, inf]     283   300  2.683511"
      ]
     },
     "metadata": {},
     "output_type": "display_data"
    },
    {
     "data": {
      "text/plain": [
       "<matplotlib.axes._subplots.AxesSubplot at 0x28380c8c488>"
      ]
     },
     "metadata": {},
     "output_type": "display_data"
    },
    {
     "data": {
      "image/png": "[encoded data removed]",
      "text/plain": [
       "<Figure size 432x288 with 1 Axes>"
      ]
     },
     "metadata": {
      "needs_background": "light"
     },
     "output_type": "display_data"
    }
   ],
   "source": [
    "split = [-np.inf,.1,*np.arange(1.1,5,1),np.inf]\n",
    "n30_box,n30_iv = init_box(df_train[['30-59','target']],split)\n",
    "display(n30_box,n30_box.woe.plot(kind='bar',title=f'IV: {n30_iv:.4f}'))"
   ]
  },
  {
   "cell_type": "code",
   "execution_count": 68,
   "metadata": {},
   "outputs": [
    {
     "data": {
      "text/plain": [
       "<matplotlib.axes._subplots.AxesSubplot at 0x283b7637108>"
      ]
     },
     "execution_count": 68,
     "metadata": {},
     "output_type": "execute_result"
    },
    {
     "data": {
      "image/png": "[encoded data removed]",
      "text/plain": [
       "<Figure size 432x288 with 2 Axes>"
      ]
     },
     "metadata": {
      "needs_background": "light"
     },
     "output_type": "display_data"
    }
   ],
   "source": [
    "ax1 = plt.subplot(122)\n",
    "df_train.loc[df_train['60-89'].lt(20),['60-89']].hist(ax=ax1,bins=50)\n",
    "ax2=plt.subplot(121)\n",
    "df_train[['60-89']].boxplot(ax=ax2)"
   ]
  },
  {
   "cell_type": "code",
   "execution_count": 69,
   "metadata": {},
   "outputs": [
    {
     "data": {
      "text/html": [
       "<div>\n",
       "<style scoped>\n",
       "    .dataframe tbody tr th:only-of-type {\n",
       "        vertical-align: middle;\n",
       "    }\n",
       "\n",
       "    .dataframe tbody tr th {\n",
       "        vertical-align: top;\n",
       "    }\n",
       "\n",
       "    .dataframe thead th {\n",
       "        text-align: right;\n",
       "    }\n",
       "</style>\n",
       "<table border=\"1\" class=\"dataframe\">\n",
       "  <thead>\n",
       "    <tr style=\"text-align: right;\">\n",
       "      <th>target</th>\n",
       "      <th>0</th>\n",
       "      <th>1</th>\n",
       "      <th>p_val</th>\n",
       "      <th>woe</th>\n",
       "    </tr>\n",
       "    <tr>\n",
       "      <th>60-89</th>\n",
       "      <th></th>\n",
       "      <th></th>\n",
       "      <th></th>\n",
       "      <th></th>\n",
       "    </tr>\n",
       "  </thead>\n",
       "  <tbody>\n",
       "    <tr>\n",
       "      <th>(-inf, 1.0]</th>\n",
       "      <td>134899</td>\n",
       "      <td>8876</td>\n",
       "      <td>0.0</td>\n",
       "      <td>-0.096034</td>\n",
       "    </tr>\n",
       "    <tr>\n",
       "      <th>(1.0, inf]</th>\n",
       "      <td>833</td>\n",
       "      <td>955</td>\n",
       "      <td>1.0</td>\n",
       "      <td>2.761819</td>\n",
       "    </tr>\n",
       "  </tbody>\n",
       "</table>\n",
       "</div>"
      ],
      "text/plain": [
       "target            0     1  p_val       woe\n",
       "60-89                                     \n",
       "(-inf, 1.0]  134899  8876    0.0 -0.096034\n",
       "(1.0, inf]      833   955    1.0  2.761819"
      ]
     },
     "metadata": {},
     "output_type": "display_data"
    },
    {
     "data": {
      "text/plain": [
       "0.2600777758140071"
      ]
     },
     "metadata": {},
     "output_type": "display_data"
    }
   ],
   "source": [
    "n60_box,n60_iv = chi2_box(data_train[['60-89','target']],20,.05)\n",
    "display(n60_box,n60_iv) ## 每箱数量差别太大，改手动分箱。"
   ]
  },
  {
   "cell_type": "code",
   "execution_count": 78,
   "metadata": {},
   "outputs": [
    {
     "data": {
      "text/html": [
       "<div>\n",
       "<style scoped>\n",
       "    .dataframe tbody tr th:only-of-type {\n",
       "        vertical-align: middle;\n",
       "    }\n",
       "\n",
       "    .dataframe tbody tr th {\n",
       "        vertical-align: top;\n",
       "    }\n",
       "\n",
       "    .dataframe thead th {\n",
       "        text-align: right;\n",
       "    }\n",
       "</style>\n",
       "<table border=\"1\" class=\"dataframe\">\n",
       "  <thead>\n",
       "    <tr style=\"text-align: right;\">\n",
       "      <th>target</th>\n",
       "      <th>0</th>\n",
       "      <th>1</th>\n",
       "      <th>woe</th>\n",
       "    </tr>\n",
       "    <tr>\n",
       "      <th>60-89</th>\n",
       "      <th></th>\n",
       "      <th></th>\n",
       "      <th></th>\n",
       "    </tr>\n",
       "  </thead>\n",
       "  <tbody>\n",
       "    <tr>\n",
       "      <th>(-inf, 0.1]</th>\n",
       "      <td>98257</td>\n",
       "      <td>5331</td>\n",
       "      <td>-0.288872</td>\n",
       "    </tr>\n",
       "    <tr>\n",
       "      <th>(0.1, 1.1]</th>\n",
       "      <td>2927</td>\n",
       "      <td>1321</td>\n",
       "      <td>1.829587</td>\n",
       "    </tr>\n",
       "    <tr>\n",
       "      <th>(1.1, 2.1]</th>\n",
       "      <td>404</td>\n",
       "      <td>414</td>\n",
       "      <td>2.649627</td>\n",
       "    </tr>\n",
       "    <tr>\n",
       "      <th>(2.1, 3.1]</th>\n",
       "      <td>99</td>\n",
       "      <td>134</td>\n",
       "      <td>2.927896</td>\n",
       "    </tr>\n",
       "    <tr>\n",
       "      <th>(3.1, 5.1]</th>\n",
       "      <td>45</td>\n",
       "      <td>70</td>\n",
       "      <td>3.067008</td>\n",
       "    </tr>\n",
       "    <tr>\n",
       "      <th>(5.1, inf]</th>\n",
       "      <td>67</td>\n",
       "      <td>103</td>\n",
       "      <td>3.055212</td>\n",
       "    </tr>\n",
       "  </tbody>\n",
       "</table>\n",
       "</div>"
      ],
      "text/plain": [
       "target           0     1       woe\n",
       "60-89                             \n",
       "(-inf, 0.1]  98257  5331 -0.288872\n",
       "(0.1, 1.1]    2927  1321  1.829587\n",
       "(1.1, 2.1]     404   414  2.649627\n",
       "(2.1, 3.1]      99   134  2.927896\n",
       "(3.1, 5.1]      45    70  3.067008\n",
       "(5.1, inf]      67   103  3.055212"
      ]
     },
     "metadata": {},
     "output_type": "display_data"
    },
    {
     "data": {
      "text/plain": [
       "<matplotlib.axes._subplots.AxesSubplot at 0x28385901288>"
      ]
     },
     "metadata": {},
     "output_type": "display_data"
    },
    {
     "data": {
      "image/png": "[encoded data removed]",
      "text/plain": [
       "<Figure size 432x288 with 1 Axes>"
      ]
     },
     "metadata": {
      "needs_background": "light"
     },
     "output_type": "display_data"
    }
   ],
   "source": [
    "split = [-np.inf,.1,1.1, 2.1, 3.1,  5.1,np.inf]\n",
    "n60_box,n60_iv = init_box(df_train[['60-89','target']],split)\n",
    "display(n60_box,n60_box.woe.plot(kind='bar',title=f'IV: {n60_iv:.4f}'))"
   ]
  },
  {
   "cell_type": "code",
   "execution_count": 80,
   "metadata": {},
   "outputs": [
    {
     "data": {
      "text/plain": [
       "<matplotlib.axes._subplots.AxesSubplot at 0x28385c547c8>"
      ]
     },
     "execution_count": 80,
     "metadata": {},
     "output_type": "execute_result"
    },
    {
     "data": {
      "image/png": "[encoded data removed]",
      "text/plain": [
       "<Figure size 432x288 with 2 Axes>"
      ]
     },
     "metadata": {
      "needs_background": "light"
     },
     "output_type": "display_data"
    }
   ],
   "source": [
    "ax1 = plt.subplot(122)\n",
    "df_train.loc[df_train['90-'].lt(20),['90-']].hist(ax=ax1,bins=50)\n",
    "ax2=plt.subplot(121)\n",
    "df_train[['90-']].boxplot(ax=ax2)"
   ]
  },
  {
   "cell_type": "code",
   "execution_count": 81,
   "metadata": {},
   "outputs": [
    {
     "data": {
      "text/html": [
       "<div>\n",
       "<style scoped>\n",
       "    .dataframe tbody tr th:only-of-type {\n",
       "        vertical-align: middle;\n",
       "    }\n",
       "\n",
       "    .dataframe tbody tr th {\n",
       "        vertical-align: top;\n",
       "    }\n",
       "\n",
       "    .dataframe thead th {\n",
       "        text-align: right;\n",
       "    }\n",
       "</style>\n",
       "<table border=\"1\" class=\"dataframe\">\n",
       "  <thead>\n",
       "    <tr style=\"text-align: right;\">\n",
       "      <th>target</th>\n",
       "      <th>0</th>\n",
       "      <th>1</th>\n",
       "      <th>p_val</th>\n",
       "      <th>woe</th>\n",
       "    </tr>\n",
       "    <tr>\n",
       "      <th>90-</th>\n",
       "      <th></th>\n",
       "      <th></th>\n",
       "      <th></th>\n",
       "      <th></th>\n",
       "    </tr>\n",
       "  </thead>\n",
       "  <tbody>\n",
       "    <tr>\n",
       "      <th>(-inf, 1.0]</th>\n",
       "      <td>131855</td>\n",
       "      <td>8083</td>\n",
       "      <td>0.0</td>\n",
       "      <td>-0.174559</td>\n",
       "    </tr>\n",
       "    <tr>\n",
       "      <th>(1.0, inf]</th>\n",
       "      <td>1307</td>\n",
       "      <td>1637</td>\n",
       "      <td>1.0</td>\n",
       "      <td>2.842512</td>\n",
       "    </tr>\n",
       "  </tbody>\n",
       "</table>\n",
       "</div>"
      ],
      "text/plain": [
       "target            0     1  p_val       woe\n",
       "90-                                       \n",
       "(-inf, 1.0]  131855  8083    0.0 -0.174559\n",
       "(1.0, inf]     1307  1637    1.0  2.842512"
      ]
     },
     "metadata": {},
     "output_type": "display_data"
    },
    {
     "data": {
      "text/plain": [
       "0.4785089835547469"
      ]
     },
     "metadata": {},
     "output_type": "display_data"
    }
   ],
   "source": [
    "n90_box,n90_iv = chi2_box(data_train.loc[data_train.MonthlyIncome>1,['90-','target']],20,.05)\n",
    "display(n90_box,n90_iv) ## 每箱数量差别太大，改手动分箱。"
   ]
  },
  {
   "cell_type": "code",
   "execution_count": 82,
   "metadata": {},
   "outputs": [
    {
     "data": {
      "text/html": [
       "<div>\n",
       "<style scoped>\n",
       "    .dataframe tbody tr th:only-of-type {\n",
       "        vertical-align: middle;\n",
       "    }\n",
       "\n",
       "    .dataframe tbody tr th {\n",
       "        vertical-align: top;\n",
       "    }\n",
       "\n",
       "    .dataframe thead th {\n",
       "        text-align: right;\n",
       "    }\n",
       "</style>\n",
       "<table border=\"1\" class=\"dataframe\">\n",
       "  <thead>\n",
       "    <tr style=\"text-align: right;\">\n",
       "      <th>target</th>\n",
       "      <th>0</th>\n",
       "      <th>1</th>\n",
       "      <th>woe</th>\n",
       "    </tr>\n",
       "    <tr>\n",
       "      <th>90-</th>\n",
       "      <th></th>\n",
       "      <th></th>\n",
       "      <th></th>\n",
       "    </tr>\n",
       "  </thead>\n",
       "  <tbody>\n",
       "    <tr>\n",
       "      <th>(-inf, 0.1]</th>\n",
       "      <td>98272</td>\n",
       "      <td>4828</td>\n",
       "      <td>-0.388131</td>\n",
       "    </tr>\n",
       "    <tr>\n",
       "      <th>(0.1, 1.1]</th>\n",
       "      <td>2567</td>\n",
       "      <td>1315</td>\n",
       "      <td>1.956274</td>\n",
       "    </tr>\n",
       "    <tr>\n",
       "      <th>(1.1, 2.1]</th>\n",
       "      <td>551</td>\n",
       "      <td>577</td>\n",
       "      <td>2.671283</td>\n",
       "    </tr>\n",
       "    <tr>\n",
       "      <th>(2.1, 3.1]</th>\n",
       "      <td>208</td>\n",
       "      <td>276</td>\n",
       "      <td>2.908038</td>\n",
       "    </tr>\n",
       "    <tr>\n",
       "      <th>(3.1, inf]</th>\n",
       "      <td>201</td>\n",
       "      <td>377</td>\n",
       "      <td>3.254116</td>\n",
       "    </tr>\n",
       "  </tbody>\n",
       "</table>\n",
       "</div>"
      ],
      "text/plain": [
       "target           0     1       woe\n",
       "90-                               \n",
       "(-inf, 0.1]  98272  4828 -0.388131\n",
       "(0.1, 1.1]    2567  1315  1.956274\n",
       "(1.1, 2.1]     551   577  2.671283\n",
       "(2.1, 3.1]     208   276  2.908038\n",
       "(3.1, inf]     201   377  3.254116"
      ]
     },
     "metadata": {},
     "output_type": "display_data"
    },
    {
     "data": {
      "text/plain": [
       "<matplotlib.axes._subplots.AxesSubplot at 0x2838585a908>"
      ]
     },
     "metadata": {},
     "output_type": "display_data"
    },
    {
     "data": {
      "image/png": "[encoded data removed]",
      "text/plain": [
       "<Figure size 432x288 with 1 Axes>"
      ]
     },
     "metadata": {
      "needs_background": "light"
     },
     "output_type": "display_data"
    }
   ],
   "source": [
    "split = [-np.inf,.1,*np.arange(1.1,4,1),np.inf]\n",
    "n90_box,n90_iv = init_box(df_train[['90-','target']],split)\n",
    "display(n90_box,n90_box.woe.plot(kind='bar',title=f'IV: {n60_iv:.4f}')) ## 每箱数量差别太大，改手动分箱。"
   ]
  },
  {
   "cell_type": "code",
   "execution_count": 84,
   "metadata": {},
   "outputs": [
    {
     "data": {
      "text/html": [
       "<div>\n",
       "<style scoped>\n",
       "    .dataframe tbody tr th:only-of-type {\n",
       "        vertical-align: middle;\n",
       "    }\n",
       "\n",
       "    .dataframe tbody tr th {\n",
       "        vertical-align: top;\n",
       "    }\n",
       "\n",
       "    .dataframe thead th {\n",
       "        text-align: right;\n",
       "    }\n",
       "</style>\n",
       "<table border=\"1\" class=\"dataframe\">\n",
       "  <thead>\n",
       "    <tr style=\"text-align: right;\">\n",
       "      <th>target</th>\n",
       "      <th>0</th>\n",
       "      <th>1</th>\n",
       "      <th>p_val</th>\n",
       "      <th>woe</th>\n",
       "    </tr>\n",
       "    <tr>\n",
       "      <th>DebtRatio</th>\n",
       "      <th></th>\n",
       "      <th></th>\n",
       "      <th></th>\n",
       "      <th></th>\n",
       "    </tr>\n",
       "  </thead>\n",
       "  <tbody>\n",
       "    <tr>\n",
       "      <th>(-inf, 0.00325]</th>\n",
       "      <td>4096</td>\n",
       "      <td>273</td>\n",
       "      <td>9.664519e-06</td>\n",
       "      <td>-0.083119</td>\n",
       "    </tr>\n",
       "    <tr>\n",
       "      <th>(0.00325, 0.017]</th>\n",
       "      <td>4184</td>\n",
       "      <td>181</td>\n",
       "      <td>1.858064e-09</td>\n",
       "      <td>-0.515350</td>\n",
       "    </tr>\n",
       "    <tr>\n",
       "      <th>(0.017, 0.226]</th>\n",
       "      <td>24495</td>\n",
       "      <td>1706</td>\n",
       "      <td>4.524071e-07</td>\n",
       "      <td>-0.039142</td>\n",
       "    </tr>\n",
       "    <tr>\n",
       "      <th>(0.226, 0.312]</th>\n",
       "      <td>12417</td>\n",
       "      <td>684</td>\n",
       "      <td>1.068731e-06</td>\n",
       "      <td>-0.273688</td>\n",
       "    </tr>\n",
       "    <tr>\n",
       "      <th>(0.312, 0.502]</th>\n",
       "      <td>20414</td>\n",
       "      <td>1420</td>\n",
       "      <td>3.706980e-12</td>\n",
       "      <td>-0.040388</td>\n",
       "    </tr>\n",
       "    <tr>\n",
       "      <th>(0.502, 0.661]</th>\n",
       "      <td>7968</td>\n",
       "      <td>766</td>\n",
       "      <td>3.164217e-09</td>\n",
       "      <td>0.283169</td>\n",
       "    </tr>\n",
       "    <tr>\n",
       "      <th>(0.661, 1.349]</th>\n",
       "      <td>7731</td>\n",
       "      <td>1002</td>\n",
       "      <td>8.045471e-19</td>\n",
       "      <td>0.581935</td>\n",
       "    </tr>\n",
       "    <tr>\n",
       "      <th>(1.349, 690.0]</th>\n",
       "      <td>8079</td>\n",
       "      <td>659</td>\n",
       "      <td>1.932078e-12</td>\n",
       "      <td>0.118876</td>\n",
       "    </tr>\n",
       "    <tr>\n",
       "      <th>(690.0, inf]</th>\n",
       "      <td>12415</td>\n",
       "      <td>682</td>\n",
       "      <td>1.000000e+00</td>\n",
       "      <td>-0.276455</td>\n",
       "    </tr>\n",
       "  </tbody>\n",
       "</table>\n",
       "</div>"
      ],
      "text/plain": [
       "target                0     1         p_val       woe\n",
       "DebtRatio                                            \n",
       "(-inf, 0.00325]    4096   273  9.664519e-06 -0.083119\n",
       "(0.00325, 0.017]   4184   181  1.858064e-09 -0.515350\n",
       "(0.017, 0.226]    24495  1706  4.524071e-07 -0.039142\n",
       "(0.226, 0.312]    12417   684  1.068731e-06 -0.273688\n",
       "(0.312, 0.502]    20414  1420  3.706980e-12 -0.040388\n",
       "(0.502, 0.661]     7968   766  3.164217e-09  0.283169\n",
       "(0.661, 1.349]     7731  1002  8.045471e-19  0.581935\n",
       "(1.349, 690.0]     8079   659  1.932078e-12  0.118876\n",
       "(690.0, inf]      12415   682  1.000000e+00 -0.276455"
      ]
     },
     "metadata": {},
     "output_type": "display_data"
    },
    {
     "data": {
      "text/plain": [
       "0.06895234525965363"
      ]
     },
     "metadata": {},
     "output_type": "display_data"
    },
    {
     "data": {
      "text/plain": [
       "<matplotlib.axes._subplots.AxesSubplot at 0x2838bc2dfc8>"
      ]
     },
     "execution_count": 84,
     "metadata": {},
     "output_type": "execute_result"
    },
    {
     "data": {
      "image/png": "[encoded data removed]",
      "text/plain": [
       "<Figure size 432x288 with 1 Axes>"
      ]
     },
     "metadata": {
      "needs_background": "light"
     },
     "output_type": "display_data"
    }
   ],
   "source": [
    "debt_box,debt_iv = chi2_box(df_train.loc[:,['DebtRatio','target']],25,.001)\n",
    "display(debt_box,debt_iv)\n",
    "debt_box.woe.plot(kind='bar',title=f'IV: {debt_iv:.4f}') ## 效果差，用手动分箱"
   ]
  },
  {
   "cell_type": "code",
   "execution_count": 85,
   "metadata": {},
   "outputs": [
    {
     "name": "stderr",
     "output_type": "stream",
     "text": [
      "D:\\Program Files\\Anaconda3\\lib\\site-packages\\pandas\\plotting\\_matplotlib\\tools.py:307: MatplotlibDeprecationWarning: \n",
      "The rowNum attribute was deprecated in Matplotlib 3.2 and will be removed two minor releases later. Use ax.get_subplotspec().rowspan.start instead.\n",
      "  layout[ax.rowNum, ax.colNum] = ax.get_visible()\n",
      "D:\\Program Files\\Anaconda3\\lib\\site-packages\\pandas\\plotting\\_matplotlib\\tools.py:307: MatplotlibDeprecationWarning: \n",
      "The colNum attribute was deprecated in Matplotlib 3.2 and will be removed two minor releases later. Use ax.get_subplotspec().colspan.start instead.\n",
      "  layout[ax.rowNum, ax.colNum] = ax.get_visible()\n",
      "D:\\Program Files\\Anaconda3\\lib\\site-packages\\pandas\\plotting\\_matplotlib\\tools.py:313: MatplotlibDeprecationWarning: \n",
      "The rowNum attribute was deprecated in Matplotlib 3.2 and will be removed two minor releases later. Use ax.get_subplotspec().rowspan.start instead.\n",
      "  if not layout[ax.rowNum + 1, ax.colNum]:\n",
      "D:\\Program Files\\Anaconda3\\lib\\site-packages\\pandas\\plotting\\_matplotlib\\tools.py:313: MatplotlibDeprecationWarning: \n",
      "The colNum attribute was deprecated in Matplotlib 3.2 and will be removed two minor releases later. Use ax.get_subplotspec().colspan.start instead.\n",
      "  if not layout[ax.rowNum + 1, ax.colNum]:\n"
     ]
    },
    {
     "data": {
      "text/plain": [
       "<matplotlib.axes._subplots.AxesSubplot at 0x28389378a08>"
      ]
     },
     "execution_count": 85,
     "metadata": {},
     "output_type": "execute_result"
    },
    {
     "data": {
      "image/png": "[encoded data removed]",
      "text/plain": [
       "<Figure size 576x648 with 2 Axes>"
      ]
     },
     "metadata": {
      "needs_background": "light"
     },
     "output_type": "display_data"
    }
   ],
   "source": [
    "ax1 = plt.subplot(211)\n",
    "data_train.query('6>DebtRatio')[['DebtRatio']].plot(kind='hist',ax=ax1, bins=500,figsize=(8,9))\n",
    "## 0.04之前有异常，单独分一个箱\n",
    "ax2 = plt.subplot(212)\n",
    "data_train.query('6<=DebtRatio')[['DebtRatio']].plot(kind='hist',ax=ax2, bins=500,figsize=(8,9))\n",
    "## 后面是一个长尾分布"
   ]
  },
  {
   "cell_type": "code",
   "execution_count": 86,
   "metadata": {},
   "outputs": [
    {
     "data": {
      "text/html": [
       "<div>\n",
       "<style scoped>\n",
       "    .dataframe tbody tr th:only-of-type {\n",
       "        vertical-align: middle;\n",
       "    }\n",
       "\n",
       "    .dataframe tbody tr th {\n",
       "        vertical-align: top;\n",
       "    }\n",
       "\n",
       "    .dataframe thead th {\n",
       "        text-align: right;\n",
       "    }\n",
       "</style>\n",
       "<table border=\"1\" class=\"dataframe\">\n",
       "  <thead>\n",
       "    <tr style=\"text-align: right;\">\n",
       "      <th>target</th>\n",
       "      <th>0</th>\n",
       "      <th>1</th>\n",
       "      <th>woe</th>\n",
       "    </tr>\n",
       "    <tr>\n",
       "      <th>DebtRatio</th>\n",
       "      <th></th>\n",
       "      <th></th>\n",
       "      <th></th>\n",
       "    </tr>\n",
       "  </thead>\n",
       "  <tbody>\n",
       "    <tr>\n",
       "      <th>(-inf, 0.08]</th>\n",
       "      <td>14503</td>\n",
       "      <td>934</td>\n",
       "      <td>-0.117459</td>\n",
       "    </tr>\n",
       "    <tr>\n",
       "      <th>(0.08, 0.2]</th>\n",
       "      <td>14606</td>\n",
       "      <td>995</td>\n",
       "      <td>-0.061269</td>\n",
       "    </tr>\n",
       "    <tr>\n",
       "      <th>(0.2, 0.3]</th>\n",
       "      <td>14435</td>\n",
       "      <td>833</td>\n",
       "      <td>-0.227202</td>\n",
       "    </tr>\n",
       "    <tr>\n",
       "      <th>(0.3, 0.4]</th>\n",
       "      <td>12760</td>\n",
       "      <td>807</td>\n",
       "      <td>-0.135571</td>\n",
       "    </tr>\n",
       "    <tr>\n",
       "      <th>(0.4, 0.5]</th>\n",
       "      <td>9162</td>\n",
       "      <td>685</td>\n",
       "      <td>0.031775</td>\n",
       "    </tr>\n",
       "    <tr>\n",
       "      <th>(0.5, 0.6]</th>\n",
       "      <td>5718</td>\n",
       "      <td>525</td>\n",
       "      <td>0.237199</td>\n",
       "    </tr>\n",
       "    <tr>\n",
       "      <th>(0.6, 0.7]</th>\n",
       "      <td>3654</td>\n",
       "      <td>390</td>\n",
       "      <td>0.387745</td>\n",
       "    </tr>\n",
       "    <tr>\n",
       "      <th>(0.7, 0.8]</th>\n",
       "      <td>2270</td>\n",
       "      <td>303</td>\n",
       "      <td>0.611373</td>\n",
       "    </tr>\n",
       "    <tr>\n",
       "      <th>(0.8, 0.9]</th>\n",
       "      <td>1459</td>\n",
       "      <td>181</td>\n",
       "      <td>0.538166</td>\n",
       "    </tr>\n",
       "    <tr>\n",
       "      <th>(0.9, 1.0]</th>\n",
       "      <td>1114</td>\n",
       "      <td>144</td>\n",
       "      <td>0.579276</td>\n",
       "    </tr>\n",
       "    <tr>\n",
       "      <th>(1.0, 2.0]</th>\n",
       "      <td>2625</td>\n",
       "      <td>397</td>\n",
       "      <td>0.736276</td>\n",
       "    </tr>\n",
       "    <tr>\n",
       "      <th>(2.0, 21.0]</th>\n",
       "      <td>1975</td>\n",
       "      <td>127</td>\n",
       "      <td>-0.118961</td>\n",
       "    </tr>\n",
       "    <tr>\n",
       "      <th>(21.0, 98.0]</th>\n",
       "      <td>1937</td>\n",
       "      <td>100</td>\n",
       "      <td>-0.338550</td>\n",
       "    </tr>\n",
       "    <tr>\n",
       "      <th>(98.0, 433.0]</th>\n",
       "      <td>1908</td>\n",
       "      <td>159</td>\n",
       "      <td>0.140269</td>\n",
       "    </tr>\n",
       "    <tr>\n",
       "      <th>(433.0, 840.0]</th>\n",
       "      <td>1912</td>\n",
       "      <td>155</td>\n",
       "      <td>0.112696</td>\n",
       "    </tr>\n",
       "    <tr>\n",
       "      <th>(840.0, 1272.0]</th>\n",
       "      <td>1945</td>\n",
       "      <td>118</td>\n",
       "      <td>-0.177157</td>\n",
       "    </tr>\n",
       "    <tr>\n",
       "      <th>(1272.0, 1694.2]</th>\n",
       "      <td>1969</td>\n",
       "      <td>98</td>\n",
       "      <td>-0.375138</td>\n",
       "    </tr>\n",
       "    <tr>\n",
       "      <th>(1694.2, 2190.4]</th>\n",
       "      <td>1981</td>\n",
       "      <td>86</td>\n",
       "      <td>-0.511834</td>\n",
       "    </tr>\n",
       "    <tr>\n",
       "      <th>(2190.4, 2818.0]</th>\n",
       "      <td>1977</td>\n",
       "      <td>91</td>\n",
       "      <td>-0.453301</td>\n",
       "    </tr>\n",
       "    <tr>\n",
       "      <th>(2818.0, 3866.0]</th>\n",
       "      <td>1968</td>\n",
       "      <td>99</td>\n",
       "      <td>-0.364478</td>\n",
       "    </tr>\n",
       "    <tr>\n",
       "      <th>(3866.0, inf]</th>\n",
       "      <td>1921</td>\n",
       "      <td>146</td>\n",
       "      <td>0.048181</td>\n",
       "    </tr>\n",
       "  </tbody>\n",
       "</table>\n",
       "</div>"
      ],
      "text/plain": [
       "target                0    1       woe\n",
       "DebtRatio                             \n",
       "(-inf, 0.08]      14503  934 -0.117459\n",
       "(0.08, 0.2]       14606  995 -0.061269\n",
       "(0.2, 0.3]        14435  833 -0.227202\n",
       "(0.3, 0.4]        12760  807 -0.135571\n",
       "(0.4, 0.5]         9162  685  0.031775\n",
       "(0.5, 0.6]         5718  525  0.237199\n",
       "(0.6, 0.7]         3654  390  0.387745\n",
       "(0.7, 0.8]         2270  303  0.611373\n",
       "(0.8, 0.9]         1459  181  0.538166\n",
       "(0.9, 1.0]         1114  144  0.579276\n",
       "(1.0, 2.0]         2625  397  0.736276\n",
       "(2.0, 21.0]        1975  127 -0.118961\n",
       "(21.0, 98.0]       1937  100 -0.338550\n",
       "(98.0, 433.0]      1908  159  0.140269\n",
       "(433.0, 840.0]     1912  155  0.112696\n",
       "(840.0, 1272.0]    1945  118 -0.177157\n",
       "(1272.0, 1694.2]   1969   98 -0.375138\n",
       "(1694.2, 2190.4]   1981   86 -0.511834\n",
       "(2190.4, 2818.0]   1977   91 -0.453301\n",
       "(2818.0, 3866.0]   1968   99 -0.364478\n",
       "(3866.0, inf]      1921  146  0.048181"
      ]
     },
     "metadata": {},
     "output_type": "display_data"
    },
    {
     "data": {
      "text/plain": [
       "<matplotlib.axes._subplots.AxesSubplot at 0x28383be2408>"
      ]
     },
     "execution_count": 86,
     "metadata": {},
     "output_type": "execute_result"
    },
    {
     "data": {
      "image/png": "[encoded data removed]",
      "text/plain": [
       "<Figure size 432x288 with 1 Axes>"
      ]
     },
     "metadata": {
      "needs_background": "light"
     },
     "output_type": "display_data"
    }
   ],
   "source": [
    "## 尝试多种分箱方法后的结果：\n",
    "split = [-np.inf,.08,*np.arange(.2,1.1,.1),]\n",
    "split2 = df_train.DebtRatio[data_train.DebtRatio.gt(2)].quantile(np.arange(10)/10).tolist()\n",
    "b=split+split2+[np.inf]\n",
    "debt_box,debt_iv = init_box(df_train.loc[:,['DebtRatio','target']],b)\n",
    "# debt_box,debt_iv = init_box(data_train.loc[:,['DebtRatio','target']],b)\n",
    "# debt_box,debt_iv = spearman_box(data_train.loc[:,['DebtRatio','target']],r_thr=.5)\n",
    "display(debt_box)\n",
    "debt_box.woe.plot(kind='bar',title=f'IV: {debt_iv:.4f}')"
   ]
  },
  {
   "cell_type": "code",
   "execution_count": 87,
   "metadata": {},
   "outputs": [
    {
     "data": {
      "text/plain": [
       "<matplotlib.axes._subplots.AxesSubplot at 0x283857d4c48>"
      ]
     },
     "execution_count": 87,
     "metadata": {},
     "output_type": "execute_result"
    },
    {
     "data": {
      "image/png": "[encoded data removed]",
      "text/plain": [
       "<Figure size 432x288 with 1 Axes>"
      ]
     },
     "metadata": {
      "needs_background": "light"
     },
     "output_type": "display_data"
    }
   ],
   "source": [
    "data_train.open_loan.hist(bins=500)"
   ]
  },
  {
   "cell_type": "code",
   "execution_count": 88,
   "metadata": {},
   "outputs": [
    {
     "data": {
      "text/html": [
       "<div>\n",
       "<style scoped>\n",
       "    .dataframe tbody tr th:only-of-type {\n",
       "        vertical-align: middle;\n",
       "    }\n",
       "\n",
       "    .dataframe tbody tr th {\n",
       "        vertical-align: top;\n",
       "    }\n",
       "\n",
       "    .dataframe thead th {\n",
       "        text-align: right;\n",
       "    }\n",
       "</style>\n",
       "<table border=\"1\" class=\"dataframe\">\n",
       "  <thead>\n",
       "    <tr style=\"text-align: right;\">\n",
       "      <th>target</th>\n",
       "      <th>0</th>\n",
       "      <th>1</th>\n",
       "      <th>p_val</th>\n",
       "      <th>woe</th>\n",
       "    </tr>\n",
       "    <tr>\n",
       "      <th>open_loan</th>\n",
       "      <th></th>\n",
       "      <th></th>\n",
       "      <th></th>\n",
       "      <th></th>\n",
       "    </tr>\n",
       "  </thead>\n",
       "  <tbody>\n",
       "    <tr>\n",
       "      <th>(-inf, 2.0]</th>\n",
       "      <td>7593</td>\n",
       "      <td>1190</td>\n",
       "      <td>1.084787e-29</td>\n",
       "      <td>0.771902</td>\n",
       "    </tr>\n",
       "    <tr>\n",
       "      <th>(2.0, 3.0]</th>\n",
       "      <td>5846</td>\n",
       "      <td>487</td>\n",
       "      <td>7.353274e-03</td>\n",
       "      <td>0.139927</td>\n",
       "    </tr>\n",
       "    <tr>\n",
       "      <th>(3.0, 5.0]</th>\n",
       "      <td>16442</td>\n",
       "      <td>1179</td>\n",
       "      <td>1.642750e-05</td>\n",
       "      <td>-0.009997</td>\n",
       "    </tr>\n",
       "    <tr>\n",
       "      <th>(5.0, 7.0]</th>\n",
       "      <td>18576</td>\n",
       "      <td>1106</td>\n",
       "      <td>1.922863e-02</td>\n",
       "      <td>-0.195945</td>\n",
       "    </tr>\n",
       "    <tr>\n",
       "      <th>(7.0, 8.0]</th>\n",
       "      <td>8736</td>\n",
       "      <td>455</td>\n",
       "      <td>5.264401e-04</td>\n",
       "      <td>-0.329735</td>\n",
       "    </tr>\n",
       "    <tr>\n",
       "      <th>(8.0, 14.0]</th>\n",
       "      <td>32543</td>\n",
       "      <td>2038</td>\n",
       "      <td>2.115155e-06</td>\n",
       "      <td>-0.145418</td>\n",
       "    </tr>\n",
       "    <tr>\n",
       "      <th>(14.0, inf]</th>\n",
       "      <td>12063</td>\n",
       "      <td>918</td>\n",
       "      <td>1.000000e+00</td>\n",
       "      <td>0.049475</td>\n",
       "    </tr>\n",
       "  </tbody>\n",
       "</table>\n",
       "</div>"
      ],
      "text/plain": [
       "target           0     1         p_val       woe\n",
       "open_loan                                       \n",
       "(-inf, 2.0]   7593  1190  1.084787e-29  0.771902\n",
       "(2.0, 3.0]    5846   487  7.353274e-03  0.139927\n",
       "(3.0, 5.0]   16442  1179  1.642750e-05 -0.009997\n",
       "(5.0, 7.0]   18576  1106  1.922863e-02 -0.195945\n",
       "(7.0, 8.0]    8736   455  5.264401e-04 -0.329735\n",
       "(8.0, 14.0]  32543  2038  2.115155e-06 -0.145418\n",
       "(14.0, inf]  12063   918  1.000000e+00  0.049475"
      ]
     },
     "metadata": {},
     "output_type": "display_data"
    },
    {
     "data": {
      "text/plain": [
       "<matplotlib.axes._subplots.AxesSubplot at 0x283b8885248>"
      ]
     },
     "execution_count": 88,
     "metadata": {},
     "output_type": "execute_result"
    },
    {
     "data": {
      "image/png": "[encoded data removed]",
      "text/plain": [
       "<Figure size 432x288 with 1 Axes>"
      ]
     },
     "metadata": {
      "needs_background": "light"
     },
     "output_type": "display_data"
    }
   ],
   "source": [
    "# loan_box,loan_iv = init_box(data_train.loc[:,['open_loan','target']],np.arange(15))\n",
    "# loan_box,loan_iv = spearman_box(data_train.loc[:,['open_loan','target']],r_thr=.1)\n",
    "loan_box,loan_iv = chi2_box(df_train.loc[:,['open_loan','target']])\n",
    "display(loan_box)\n",
    "loan_box.woe.plot(kind='bar',title=f'IV: {loan_iv:.4f}')"
   ]
  },
  {
   "cell_type": "code",
   "execution_count": 89,
   "metadata": {},
   "outputs": [
    {
     "data": {
      "text/plain": [
       "<matplotlib.axes._subplots.AxesSubplot at 0x283b88af908>"
      ]
     },
     "execution_count": 89,
     "metadata": {},
     "output_type": "execute_result"
    },
    {
     "data": {
      "image/png": "[encoded data removed]",
      "text/plain": [
       "<Figure size 432x288 with 1 Axes>"
      ]
     },
     "metadata": {
      "needs_background": "light"
     },
     "output_type": "display_data"
    }
   ],
   "source": [
    "df_train.query('estate_loan<6').estate_loan.hist(bins=15)"
   ]
  },
  {
   "cell_type": "code",
   "execution_count": 90,
   "metadata": {},
   "outputs": [
    {
     "data": {
      "text/html": [
       "<div>\n",
       "<style scoped>\n",
       "    .dataframe tbody tr th:only-of-type {\n",
       "        vertical-align: middle;\n",
       "    }\n",
       "\n",
       "    .dataframe tbody tr th {\n",
       "        vertical-align: top;\n",
       "    }\n",
       "\n",
       "    .dataframe thead th {\n",
       "        text-align: right;\n",
       "    }\n",
       "</style>\n",
       "<table border=\"1\" class=\"dataframe\">\n",
       "  <thead>\n",
       "    <tr style=\"text-align: right;\">\n",
       "      <th>target</th>\n",
       "      <th>0</th>\n",
       "      <th>1</th>\n",
       "      <th>woe</th>\n",
       "    </tr>\n",
       "    <tr>\n",
       "      <th>estate_loan</th>\n",
       "      <th></th>\n",
       "      <th></th>\n",
       "      <th></th>\n",
       "    </tr>\n",
       "  </thead>\n",
       "  <tbody>\n",
       "    <tr>\n",
       "      <th>(-inf, 0.0]</th>\n",
       "      <td>36529</td>\n",
       "      <td>3406</td>\n",
       "      <td>0.252608</td>\n",
       "    </tr>\n",
       "    <tr>\n",
       "      <th>(0.0, 1.0]</th>\n",
       "      <td>36382</td>\n",
       "      <td>2021</td>\n",
       "      <td>-0.265306</td>\n",
       "    </tr>\n",
       "    <tr>\n",
       "      <th>(1.0, 2.0]</th>\n",
       "      <td>22064</td>\n",
       "      <td>1319</td>\n",
       "      <td>-0.191898</td>\n",
       "    </tr>\n",
       "    <tr>\n",
       "      <th>(2.0, 3.0]</th>\n",
       "      <td>4415</td>\n",
       "      <td>316</td>\n",
       "      <td>-0.011845</td>\n",
       "    </tr>\n",
       "    <tr>\n",
       "      <th>(3.0, 5.0]</th>\n",
       "      <td>1930</td>\n",
       "      <td>201</td>\n",
       "      <td>0.363205</td>\n",
       "    </tr>\n",
       "    <tr>\n",
       "      <th>(5.0, inf]</th>\n",
       "      <td>479</td>\n",
       "      <td>110</td>\n",
       "      <td>1.153955</td>\n",
       "    </tr>\n",
       "  </tbody>\n",
       "</table>\n",
       "</div>"
      ],
      "text/plain": [
       "target           0     1       woe\n",
       "estate_loan                       \n",
       "(-inf, 0.0]  36529  3406  0.252608\n",
       "(0.0, 1.0]   36382  2021 -0.265306\n",
       "(1.0, 2.0]   22064  1319 -0.191898\n",
       "(2.0, 3.0]    4415   316 -0.011845\n",
       "(3.0, 5.0]    1930   201  0.363205\n",
       "(5.0, inf]     479   110  1.153955"
      ]
     },
     "metadata": {},
     "output_type": "display_data"
    },
    {
     "data": {
      "text/plain": [
       "0.0702149443996638"
      ]
     },
     "metadata": {},
     "output_type": "display_data"
    },
    {
     "data": {
      "text/plain": [
       "<matplotlib.axes._subplots.AxesSubplot at 0x283b87f5088>"
      ]
     },
     "execution_count": 90,
     "metadata": {},
     "output_type": "execute_result"
    },
    {
     "data": {
      "image/png": "[encoded data removed]",
      "text/plain": [
       "<Figure size 432x288 with 1 Axes>"
      ]
     },
     "metadata": {
      "needs_background": "light"
     },
     "output_type": "display_data"
    }
   ],
   "source": [
    "estate_box,estate_iv = init_box(df_train[['estate_loan','target']],\n",
    "                               n_split = [-np.inf, 0, 1, 2, 3, 5, np.inf])\n",
    "# estate_box,estate_iv = spearman_box(data_train[['estate_loan','target']],r_thr=.05)\n",
    "display(estate_box,estate_iv)\n",
    "estate_box.woe.plot(kind='bar',title=f'IV: {estate_iv:.4f}')"
   ]
  },
  {
   "cell_type": "code",
   "execution_count": 91,
   "metadata": {},
   "outputs": [
    {
     "data": {
      "text/plain": [
       "<matplotlib.axes._subplots.AxesSubplot at 0x283bc2cf748>"
      ]
     },
     "execution_count": 91,
     "metadata": {},
     "output_type": "execute_result"
    },
    {
     "data": {
      "image/png": "[encoded data removed]",
      "text/plain": [
       "<Figure size 432x288 with 1 Axes>"
      ]
     },
     "metadata": {
      "needs_background": "light"
     },
     "output_type": "display_data"
    }
   ],
   "source": [
    "df_train.Dependents.hist(bins=500)"
   ]
  },
  {
   "cell_type": "code",
   "execution_count": 98,
   "metadata": {},
   "outputs": [
    {
     "data": {
      "text/html": [
       "<div>\n",
       "<style scoped>\n",
       "    .dataframe tbody tr th:only-of-type {\n",
       "        vertical-align: middle;\n",
       "    }\n",
       "\n",
       "    .dataframe tbody tr th {\n",
       "        vertical-align: top;\n",
       "    }\n",
       "\n",
       "    .dataframe thead th {\n",
       "        text-align: right;\n",
       "    }\n",
       "</style>\n",
       "<table border=\"1\" class=\"dataframe\">\n",
       "  <thead>\n",
       "    <tr style=\"text-align: right;\">\n",
       "      <th>target</th>\n",
       "      <th>0</th>\n",
       "      <th>1</th>\n",
       "      <th>woe</th>\n",
       "    </tr>\n",
       "    <tr>\n",
       "      <th>Dependents</th>\n",
       "      <th></th>\n",
       "      <th></th>\n",
       "      <th></th>\n",
       "    </tr>\n",
       "  </thead>\n",
       "  <tbody>\n",
       "    <tr>\n",
       "      <th>(-inf, 0.0]</th>\n",
       "      <td>60902</td>\n",
       "      <td>3827</td>\n",
       "      <td>-0.142009</td>\n",
       "    </tr>\n",
       "    <tr>\n",
       "      <th>(0.0, 1.0]</th>\n",
       "      <td>18249</td>\n",
       "      <td>1420</td>\n",
       "      <td>0.071722</td>\n",
       "    </tr>\n",
       "    <tr>\n",
       "      <th>(1.0, 2.0]</th>\n",
       "      <td>13603</td>\n",
       "      <td>1206</td>\n",
       "      <td>0.202194</td>\n",
       "    </tr>\n",
       "    <tr>\n",
       "      <th>(2.0, 3.0]</th>\n",
       "      <td>6429</td>\n",
       "      <td>647</td>\n",
       "      <td>0.328948</td>\n",
       "    </tr>\n",
       "    <tr>\n",
       "      <th>(3.0, 5.0]</th>\n",
       "      <td>2447</td>\n",
       "      <td>248</td>\n",
       "      <td>0.335986</td>\n",
       "    </tr>\n",
       "    <tr>\n",
       "      <th>(5.0, inf]</th>\n",
       "      <td>169</td>\n",
       "      <td>25</td>\n",
       "      <td>0.714153</td>\n",
       "    </tr>\n",
       "  </tbody>\n",
       "</table>\n",
       "</div>"
      ],
      "text/plain": [
       "target           0     1       woe\n",
       "Dependents                        \n",
       "(-inf, 0.0]  60902  3827 -0.142009\n",
       "(0.0, 1.0]   18249  1420  0.071722\n",
       "(1.0, 2.0]   13603  1206  0.202194\n",
       "(2.0, 3.0]    6429   647  0.328948\n",
       "(3.0, 5.0]    2447   248  0.335986\n",
       "(5.0, inf]     169    25  0.714153"
      ]
     },
     "metadata": {},
     "output_type": "display_data"
    },
    {
     "data": {
      "text/plain": [
       "<matplotlib.axes._subplots.AxesSubplot at 0x283ddd5b388>"
      ]
     },
     "execution_count": 98,
     "metadata": {},
     "output_type": "execute_result"
    },
    {
     "data": {
      "image/png": "[encoded data removed]",
      "text/plain": [
       "<Figure size 432x288 with 1 Axes>"
      ]
     },
     "metadata": {
      "needs_background": "light"
     },
     "output_type": "display_data"
    }
   ],
   "source": [
    "depend_box,depend_iv = init_box(df_train[['Dependents','target']],\n",
    "                               n_split = [-np.inf, 0, 1, 2, 3, 5, np.inf])\n",
    "# depend_box,depend_iv = chi2_box(data_train[['Dependents','target']])\n",
    "display(depend_box)\n",
    "depend_box.woe.plot(kind='bar',title=f'IV: {depend_iv:.4f}')"
   ]
  },
  {
   "cell_type": "markdown",
   "metadata": {},
   "source": [
    "## WOE替换"
   ]
  },
  {
   "cell_type": "code",
   "execution_count": 100,
   "metadata": {},
   "outputs": [],
   "source": [
    "woe_map = { 'percentage':per_box,\n",
    "            'age':age_box,\n",
    "            '30-59':n30_box,\n",
    "            'DebtRatio':debt_box,\n",
    "            'MonthlyIncome':MI_box,\n",
    "            'open_loan':loan_box,\n",
    "            '90-':n90_box,\n",
    "            'estate_loan':estate_box,\n",
    "            '60-89':n60_box,\n",
    "            'Dependents':depend_box}\n",
    "def woe_swag(df,woe=woe_map):\n",
    "    df2={k:v.loc[df[k],'woe'].reset_index(drop=True) for k,v in woe.items()}\n",
    "    df2['target'] = df.target.reset_index(drop=True)\n",
    "    return pd.DataFrame(df2)"
   ]
  },
  {
   "cell_type": "code",
   "execution_count": 101,
   "metadata": {},
   "outputs": [],
   "source": [
    "## 替换变量\n",
    "data_train_bak = df_train.copy()\n",
    "# data_train = data_train_bak.copy()"
   ]
  },
  {
   "cell_type": "code",
   "execution_count": 103,
   "metadata": {},
   "outputs": [],
   "source": [
    "df_train = woe_swag(df_train)"
   ]
  },
  {
   "cell_type": "code",
   "execution_count": 107,
   "metadata": {},
   "outputs": [
    {
     "data": {
      "text/html": [
       "<div>\n",
       "<style scoped>\n",
       "    .dataframe tbody tr th:only-of-type {\n",
       "        vertical-align: middle;\n",
       "    }\n",
       "\n",
       "    .dataframe tbody tr th {\n",
       "        vertical-align: top;\n",
       "    }\n",
       "\n",
       "    .dataframe thead th {\n",
       "        text-align: right;\n",
       "    }\n",
       "</style>\n",
       "<table border=\"1\" class=\"dataframe\">\n",
       "  <thead>\n",
       "    <tr style=\"text-align: right;\">\n",
       "      <th></th>\n",
       "      <th>percentage</th>\n",
       "      <th>age</th>\n",
       "      <th>30-59</th>\n",
       "      <th>DebtRatio</th>\n",
       "      <th>MonthlyIncome</th>\n",
       "      <th>open_loan</th>\n",
       "      <th>90-</th>\n",
       "      <th>estate_loan</th>\n",
       "      <th>60-89</th>\n",
       "      <th>Dependents</th>\n",
       "      <th>target</th>\n",
       "    </tr>\n",
       "  </thead>\n",
       "  <tbody>\n",
       "    <tr>\n",
       "      <th>0</th>\n",
       "      <td>0.811011</td>\n",
       "      <td>0.555179</td>\n",
       "      <td>-0.542564</td>\n",
       "      <td>-0.061269</td>\n",
       "      <td>0.323192</td>\n",
       "      <td>-0.009997</td>\n",
       "      <td>-0.388131</td>\n",
       "      <td>0.252608</td>\n",
       "      <td>-0.288872</td>\n",
       "      <td>0.071722</td>\n",
       "      <td>0</td>\n",
       "    </tr>\n",
       "    <tr>\n",
       "      <th>1</th>\n",
       "      <td>-1.226938</td>\n",
       "      <td>0.158169</td>\n",
       "      <td>0.891104</td>\n",
       "      <td>-0.227202</td>\n",
       "      <td>-0.397557</td>\n",
       "      <td>-0.329735</td>\n",
       "      <td>-0.388131</td>\n",
       "      <td>-0.191898</td>\n",
       "      <td>-0.288872</td>\n",
       "      <td>0.202194</td>\n",
       "      <td>0</td>\n",
       "    </tr>\n",
       "    <tr>\n",
       "      <th>2</th>\n",
       "      <td>-1.528585</td>\n",
       "      <td>0.555179</td>\n",
       "      <td>-0.542564</td>\n",
       "      <td>-0.227202</td>\n",
       "      <td>-0.220680</td>\n",
       "      <td>-0.145418</td>\n",
       "      <td>-0.388131</td>\n",
       "      <td>-0.265306</td>\n",
       "      <td>-0.288872</td>\n",
       "      <td>-0.142009</td>\n",
       "      <td>0</td>\n",
       "    </tr>\n",
       "    <tr>\n",
       "      <th>3</th>\n",
       "      <td>-0.583459</td>\n",
       "      <td>-0.356339</td>\n",
       "      <td>2.028192</td>\n",
       "      <td>0.031775</td>\n",
       "      <td>-0.397557</td>\n",
       "      <td>0.049475</td>\n",
       "      <td>-0.388131</td>\n",
       "      <td>-0.191898</td>\n",
       "      <td>-0.288872</td>\n",
       "      <td>0.071722</td>\n",
       "      <td>0</td>\n",
       "    </tr>\n",
       "    <tr>\n",
       "      <th>4</th>\n",
       "      <td>-1.038198</td>\n",
       "      <td>0.158169</td>\n",
       "      <td>-0.542564</td>\n",
       "      <td>-0.117459</td>\n",
       "      <td>0.323192</td>\n",
       "      <td>0.139927</td>\n",
       "      <td>-0.388131</td>\n",
       "      <td>0.252608</td>\n",
       "      <td>-0.288872</td>\n",
       "      <td>-0.142009</td>\n",
       "      <td>0</td>\n",
       "    </tr>\n",
       "  </tbody>\n",
       "</table>\n",
       "</div>"
      ],
      "text/plain": [
       "   percentage       age     30-59  DebtRatio  MonthlyIncome  open_loan  \\\n",
       "0    0.811011  0.555179 -0.542564  -0.061269       0.323192  -0.009997   \n",
       "1   -1.226938  0.158169  0.891104  -0.227202      -0.397557  -0.329735   \n",
       "2   -1.528585  0.555179 -0.542564  -0.227202      -0.220680  -0.145418   \n",
       "3   -0.583459 -0.356339  2.028192   0.031775      -0.397557   0.049475   \n",
       "4   -1.038198  0.158169 -0.542564  -0.117459       0.323192   0.139927   \n",
       "\n",
       "        90-  estate_loan     60-89  Dependents  target  \n",
       "0 -0.388131     0.252608 -0.288872    0.071722       0  \n",
       "1 -0.388131    -0.191898 -0.288872    0.202194       0  \n",
       "2 -0.388131    -0.265306 -0.288872   -0.142009       0  \n",
       "3 -0.388131    -0.191898 -0.288872    0.071722       0  \n",
       "4 -0.388131     0.252608 -0.288872   -0.142009       0  "
      ]
     },
     "execution_count": 107,
     "metadata": {},
     "output_type": "execute_result"
    }
   ],
   "source": [
    "df_train.head()"
   ]
  },
  {
   "cell_type": "code",
   "execution_count": 203,
   "metadata": {},
   "outputs": [],
   "source": [
    "df_test = woe_swag(df_test)"
   ]
  },
  {
   "cell_type": "code",
   "execution_count": 119,
   "metadata": {},
   "outputs": [],
   "source": [
    "## 将正负样本SMOTE\n",
    "# X, y = df_train.iloc[:,:-1].values, df_train.iloc[:,-1:].values\n",
    "from imblearn.over_sampling import SMOTE\n",
    "smote = SMOTE(sampling_strategy=.5,n_jobs=-1)\n",
    "X, y = smote.fit_resample(df_train.iloc[:,:-1], df_train.iloc[:,-1])"
   ]
  },
  {
   "cell_type": "markdown",
   "metadata": {},
   "source": [
    "## 模型训练"
   ]
  },
  {
   "cell_type": "code",
   "execution_count": 241,
   "metadata": {},
   "outputs": [],
   "source": [
    "from sklearn.linear_model import LogisticRegression\n",
    "from sklearn.preprocessing import StandardScaler\n",
    "from sklearn.model_selection import GridSearchCV\n",
    "from sklearn.metrics import make_scorer, roc_auc_score, roc_curve\n",
    "my_scorer = make_scorer(roc_auc_score,needs_proba=True)\n",
    "from sklearn.metrics import plot_roc_curve"
   ]
  },
  {
   "cell_type": "code",
   "execution_count": 120,
   "metadata": {},
   "outputs": [],
   "source": [
    "ss = StandardScaler()\n",
    "X = ss.fit_transform(X)\n",
    "# X_test = ss.transform(X_test)"
   ]
  },
  {
   "cell_type": "code",
   "execution_count": 165,
   "metadata": {},
   "outputs": [
    {
     "data": {
      "text/plain": [
       "GridSearchCV(estimator=LogisticRegression(), n_jobs=-1,\n",
       "             param_grid={'C': [100, 10, 1, 0.1, 0.01, 0.001, 0.0001],\n",
       "                         'penalty': ['l1', 'l2'], 'solver': ['liblinear']},\n",
       "             scoring=make_scorer(roc_auc_score, needs_proba=True))"
      ]
     },
     "execution_count": 165,
     "metadata": {},
     "output_type": "execute_result"
    }
   ],
   "source": [
    "params = {'C':[100,10,1,.1,.01,.001,.0001],'penalty':['l1','l2'],'solver':['liblinear']}\n",
    "lr = LogisticRegression()\n",
    "clf = GridSearchCV(lr,params,n_jobs=-1,scoring=my_scorer)\n",
    "clf.fit(X,y)"
   ]
  },
  {
   "cell_type": "code",
   "execution_count": 166,
   "metadata": {},
   "outputs": [
    {
     "data": {
      "text/plain": [
       "0.8571695765492956"
      ]
     },
     "metadata": {},
     "output_type": "display_data"
    },
    {
     "data": {
      "text/plain": [
       "{'C': 0.001, 'penalty': 'l2', 'solver': 'liblinear'}"
      ]
     },
     "metadata": {},
     "output_type": "display_data"
    }
   ],
   "source": [
    "display(clf.best_score_, clf.best_params_)"
   ]
  },
  {
   "cell_type": "code",
   "execution_count": 209,
   "metadata": {},
   "outputs": [
    {
     "data": {
      "image/png": "[encoded data removed]",
      "text/plain": [
       "<Figure size 432x288 with 1 Axes>"
      ]
     },
     "metadata": {
      "needs_background": "light"
     },
     "output_type": "display_data"
    }
   ],
   "source": [
    "## 模型评估--auc\n",
    "X_test = ss.transform(df_test.iloc[:,:-1])\n",
    "_ = plot_roc_curve(clf.best_estimator_,X_test,df_test.target.values)"
   ]
  },
  {
   "cell_type": "code",
   "execution_count": 239,
   "metadata": {},
   "outputs": [],
   "source": [
    "## 模型评估--psi\n",
    "def PSI(model, X_train,X_test):\n",
    "    '''\n",
    "    训练集样本分箱频率统计与待预测样本分箱频率统计的KL散度求和\n",
    "    '''\n",
    "    bins = np.arange(11)/10.0\n",
    "    \n",
    "    y_train = model.predict_proba(X_train)[:,1]\n",
    "    train_count = pd.value_counts(y_train,sort=False,bins=bins,normalize=True)\n",
    "    \n",
    "    y_test = model.predict_proba(X_test)[:,1]\n",
    "    test_count = pd.value_counts(y_test,sort=False,bins=bins,normalize=True)\n",
    "    \n",
    "    return ((train_count-test_count)*np.log(train_count/test_count)).sum()"
   ]
  },
  {
   "cell_type": "code",
   "execution_count": 240,
   "metadata": {},
   "outputs": [
    {
     "name": "stdout",
     "output_type": "stream",
     "text": [
      "PSI= 0.0201%, 低于10%, 模型稳定。\n"
     ]
    }
   ],
   "source": [
    "## data_test3是下面计算结果，这里提前用一下\n",
    "psi=PSI(clf.best_estimator_, ss.transform(df_train.iloc[:,:-1]), data_test3)*100\n",
    "print(f'PSI= {psi:.4f}%, 低于10%, 模型稳定。')"
   ]
  },
  {
   "cell_type": "markdown",
   "metadata": {},
   "source": [
    "## 预测结果"
   ]
  },
  {
   "cell_type": "code",
   "execution_count": 179,
   "metadata": {},
   "outputs": [],
   "source": [
    "data_test.rename(columns=col_replace,inplace=True)"
   ]
  },
  {
   "cell_type": "code",
   "execution_count": 180,
   "metadata": {},
   "outputs": [
    {
     "data": {
      "text/plain": [
       "target           101503\n",
       "percentage            0\n",
       "age                   0\n",
       "30-59                 0\n",
       "DebtRatio             0\n",
       "MonthlyIncome     20103\n",
       "open_loan             0\n",
       "90-                   0\n",
       "estate_loan           0\n",
       "60-89                 0\n",
       "Dependents         2626\n",
       "dtype: int64"
      ]
     },
     "execution_count": 180,
     "metadata": {},
     "output_type": "execute_result"
    }
   ],
   "source": [
    "## 准备测试集\n",
    "data_test.isna().sum()"
   ]
  },
  {
   "cell_type": "code",
   "execution_count": 181,
   "metadata": {},
   "outputs": [],
   "source": [
    "fill_len = data_test.Dependents.isna().sum()\n",
    "data_test.loc[data_test.Dependents.isna(),'Dependents']=\\\n",
    "np.random.choice(data_train_bak.loc[data_train_bak.Dependents.notna(),'Dependents'],fill_len,False)"
   ]
  },
  {
   "cell_type": "code",
   "execution_count": 182,
   "metadata": {},
   "outputs": [],
   "source": [
    "fill_len = data_test.MonthlyIncome.isna().sum()\n",
    "data_test.loc[data_test.MonthlyIncome.isna(),'MonthlyIncome']=\\\n",
    "np.random.choice(data_train_bak.loc[data_train_bak.MonthlyIncome.notna(),'MonthlyIncome'],fill_len,False)"
   ]
  },
  {
   "cell_type": "code",
   "execution_count": 183,
   "metadata": {},
   "outputs": [],
   "source": [
    "data_test2 = woe_swag(data_test)"
   ]
  },
  {
   "cell_type": "code",
   "execution_count": 184,
   "metadata": {},
   "outputs": [
    {
     "data": {
      "text/html": [
       "<div>\n",
       "<style scoped>\n",
       "    .dataframe tbody tr th:only-of-type {\n",
       "        vertical-align: middle;\n",
       "    }\n",
       "\n",
       "    .dataframe tbody tr th {\n",
       "        vertical-align: top;\n",
       "    }\n",
       "\n",
       "    .dataframe thead th {\n",
       "        text-align: right;\n",
       "    }\n",
       "</style>\n",
       "<table border=\"1\" class=\"dataframe\">\n",
       "  <thead>\n",
       "    <tr style=\"text-align: right;\">\n",
       "      <th></th>\n",
       "      <th>percentage</th>\n",
       "      <th>age</th>\n",
       "      <th>30-59</th>\n",
       "      <th>DebtRatio</th>\n",
       "      <th>MonthlyIncome</th>\n",
       "      <th>open_loan</th>\n",
       "      <th>90-</th>\n",
       "      <th>estate_loan</th>\n",
       "      <th>60-89</th>\n",
       "      <th>Dependents</th>\n",
       "      <th>target</th>\n",
       "    </tr>\n",
       "  </thead>\n",
       "  <tbody>\n",
       "    <tr>\n",
       "      <th>0</th>\n",
       "      <td>1.195279</td>\n",
       "      <td>0.158169</td>\n",
       "      <td>-0.542564</td>\n",
       "      <td>-0.061269</td>\n",
       "      <td>0.012605</td>\n",
       "      <td>-0.009997</td>\n",
       "      <td>-0.388131</td>\n",
       "      <td>0.252608</td>\n",
       "      <td>-0.288872</td>\n",
       "      <td>-0.142009</td>\n",
       "      <td>NaN</td>\n",
       "    </tr>\n",
       "    <tr>\n",
       "      <th>1</th>\n",
       "      <td>0.124889</td>\n",
       "      <td>-0.356339</td>\n",
       "      <td>-0.542564</td>\n",
       "      <td>0.237199</td>\n",
       "      <td>-0.220680</td>\n",
       "      <td>0.049475</td>\n",
       "      <td>-0.388131</td>\n",
       "      <td>0.363205</td>\n",
       "      <td>-0.288872</td>\n",
       "      <td>0.202194</td>\n",
       "      <td>NaN</td>\n",
       "    </tr>\n",
       "    <tr>\n",
       "      <th>2</th>\n",
       "      <td>-1.528585</td>\n",
       "      <td>-0.356339</td>\n",
       "      <td>-0.542564</td>\n",
       "      <td>0.387745</td>\n",
       "      <td>0.012605</td>\n",
       "      <td>-0.145418</td>\n",
       "      <td>-0.388131</td>\n",
       "      <td>-0.265306</td>\n",
       "      <td>-0.288872</td>\n",
       "      <td>0.202194</td>\n",
       "      <td>NaN</td>\n",
       "    </tr>\n",
       "    <tr>\n",
       "      <th>3</th>\n",
       "      <td>-0.273640</td>\n",
       "      <td>0.337194</td>\n",
       "      <td>0.891104</td>\n",
       "      <td>0.579276</td>\n",
       "      <td>0.323192</td>\n",
       "      <td>-0.195945</td>\n",
       "      <td>-0.388131</td>\n",
       "      <td>-0.191898</td>\n",
       "      <td>-0.288872</td>\n",
       "      <td>-0.142009</td>\n",
       "      <td>NaN</td>\n",
       "    </tr>\n",
       "    <tr>\n",
       "      <th>4</th>\n",
       "      <td>1.195279</td>\n",
       "      <td>0.555179</td>\n",
       "      <td>-0.542564</td>\n",
       "      <td>-0.117459</td>\n",
       "      <td>0.172727</td>\n",
       "      <td>-0.009997</td>\n",
       "      <td>-0.388131</td>\n",
       "      <td>0.252608</td>\n",
       "      <td>-0.288872</td>\n",
       "      <td>0.071722</td>\n",
       "      <td>NaN</td>\n",
       "    </tr>\n",
       "  </tbody>\n",
       "</table>\n",
       "</div>"
      ],
      "text/plain": [
       "   percentage       age     30-59  DebtRatio  MonthlyIncome  open_loan  \\\n",
       "0    1.195279  0.158169 -0.542564  -0.061269       0.012605  -0.009997   \n",
       "1    0.124889 -0.356339 -0.542564   0.237199      -0.220680   0.049475   \n",
       "2   -1.528585 -0.356339 -0.542564   0.387745       0.012605  -0.145418   \n",
       "3   -0.273640  0.337194  0.891104   0.579276       0.323192  -0.195945   \n",
       "4    1.195279  0.555179 -0.542564  -0.117459       0.172727  -0.009997   \n",
       "\n",
       "        90-  estate_loan     60-89  Dependents  target  \n",
       "0 -0.388131     0.252608 -0.288872   -0.142009     NaN  \n",
       "1 -0.388131     0.363205 -0.288872    0.202194     NaN  \n",
       "2 -0.388131    -0.265306 -0.288872    0.202194     NaN  \n",
       "3 -0.388131    -0.191898 -0.288872   -0.142009     NaN  \n",
       "4 -0.388131     0.252608 -0.288872    0.071722     NaN  "
      ]
     },
     "execution_count": 184,
     "metadata": {},
     "output_type": "execute_result"
    }
   ],
   "source": [
    "data_test2.head()"
   ]
  },
  {
   "cell_type": "code",
   "execution_count": 185,
   "metadata": {},
   "outputs": [
    {
     "name": "stdout",
     "output_type": "stream",
     "text": [
      "<class 'pandas.core.frame.DataFrame'>\n",
      "RangeIndex: 101503 entries, 0 to 101502\n",
      "Data columns (total 11 columns):\n",
      "percentage       101503 non-null float64\n",
      "age              101503 non-null float64\n",
      "30-59            101503 non-null float64\n",
      "DebtRatio        101503 non-null float64\n",
      "MonthlyIncome    101503 non-null float64\n",
      "open_loan        101503 non-null float64\n",
      "90-              101503 non-null float64\n",
      "estate_loan      101503 non-null float64\n",
      "60-89            101503 non-null float64\n",
      "Dependents       101503 non-null float64\n",
      "target           0 non-null float64\n",
      "dtypes: float64(11)\n",
      "memory usage: 8.5 MB\n"
     ]
    }
   ],
   "source": [
    "data_test2.info()"
   ]
  },
  {
   "cell_type": "code",
   "execution_count": 186,
   "metadata": {},
   "outputs": [],
   "source": [
    "data_test3 = ss.transform(data_test2.iloc[:,:-1])"
   ]
  },
  {
   "cell_type": "code",
   "execution_count": 196,
   "metadata": {},
   "outputs": [],
   "source": [
    "y_hat = clf.best_estimator_.predict_proba(data_test3)[:,1]"
   ]
  },
  {
   "cell_type": "code",
   "execution_count": 200,
   "metadata": {},
   "outputs": [],
   "source": [
    "to_push = pd.DataFrame({'Id':data_test.index.tolist(),\n",
    "                        'Probability':y_hat})\n",
    "to_push.to_csv('submission.csv', index=False)"
   ]
  },
  {
   "cell_type": "code",
   "execution_count": null,
   "metadata": {},
   "outputs": [],
   "source": []
  },
  {
   "cell_type": "markdown",
   "metadata": {},
   "source": [
    "## 评分规则建立"
   ]
  },
  {
   "cell_type": "code",
   "execution_count": 310,
   "metadata": {},
   "outputs": [],
   "source": [
    "## 确定阈值--KS检验\n",
    "def KS(model, X, y):\n",
    "    y_prob = model.predict_proba(X)[:,1]\n",
    "    df = pd.DataFrame(roc_curve(y, y_prob),index=['fpr','tpr','thre']).T\n",
    "    df['gap'] = df.tpr - df.fpr\n",
    "    ks = df.gap.max()\n",
    "    fpr_max, tpr_max, thre, _  = df.loc[df.gap.idxmax(),:]\n",
    "    \n",
    "    df.plot(x='thre',y=['fpr','tpr'],xlim=(0,1),\n",
    "           title=f'KS: {ks:.4f}, thre: {thre:.4f}')\n",
    "    plt.vlines(thre,fpr_max,tpr_max,color='r')\n",
    "    \n",
    "    return thre"
   ]
  },
  {
   "cell_type": "code",
   "execution_count": 311,
   "metadata": {},
   "outputs": [
    {
     "data": {
      "image/png": "[encoded data removed]",
      "text/plain": [
       "<Figure size 432x288 with 1 Axes>"
      ]
     },
     "metadata": {
      "needs_background": "light"
     },
     "output_type": "display_data"
    }
   ],
   "source": [
    "thre = KS(clf.best_estimator_, X, y)\n",
    "## 阈值0.3289,大于即违约"
   ]
  },
  {
   "cell_type": "code",
   "execution_count": 325,
   "metadata": {},
   "outputs": [
    {
     "name": "stdout",
     "output_type": "stream",
     "text": [
      "y = 59.6049 * X + 40.3951\n"
     ]
    }
   ],
   "source": [
    "from sklearn.linear_model import LinearRegression\n",
    "lr = LinearRegression()\n",
    "lr.fit([[thre], [1]],[60,100])\n",
    "print(f'y = {lr.coef_[0]:.4f} * X + {lr.intercept_:.4f}')"
   ]
  },
  {
   "cell_type": "code",
   "execution_count": null,
   "metadata": {},
   "outputs": [],
   "source": []
  }
 ],
 "metadata": {
  "kernelspec": {
   "display_name": "Python 3",
   "language": "python",
   "name": "python3"
  },
  "language_info": {
   "codemirror_mode": {
    "name": "ipython",
    "version": 3
   },
   "file_extension": ".py",
   "mimetype": "text/x-python",
   "name": "python",
   "nbconvert_exporter": "python",
   "pygments_lexer": "ipython3",
   "version": "3.7.4"
  }
 },
 "nbformat": 4,
 "nbformat_minor": 4
}
