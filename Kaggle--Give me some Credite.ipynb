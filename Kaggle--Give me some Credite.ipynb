{
 "cells": [
  {
   "cell_type": "code",
   "execution_count": 101,
   "metadata": {},
   "outputs": [],
   "source": [
    "import pandas as pd\n",
    "import matplotlib.pyplot as plt\n",
    "import numpy as np\n",
    "import seaborn as sns\n",
    "import scipy\n",
    "# %matplotlib qt5\n",
    "%matplotlib inline"
   ]
  },
  {
   "cell_type": "code",
   "execution_count": 347,
   "metadata": {},
   "outputs": [],
   "source": [
    "data_test = pd.read_csv('./cs-test.csv',index_col=0)"
   ]
  },
  {
   "cell_type": "code",
   "execution_count": 348,
   "metadata": {},
   "outputs": [
    {
     "name": "stdout",
     "output_type": "stream",
     "text": [
      "<class 'pandas.core.frame.DataFrame'>\n",
      "Int64Index: 101503 entries, 1 to 101503\n",
      "Data columns (total 11 columns):\n",
      "SeriousDlqin2yrs                        0 non-null float64\n",
      "RevolvingUtilizationOfUnsecuredLines    101503 non-null float64\n",
      "age                                     101503 non-null int64\n",
      "NumberOfTime30-59DaysPastDueNotWorse    101503 non-null int64\n",
      "DebtRatio                               101503 non-null float64\n",
      "MonthlyIncome                           81400 non-null float64\n",
      "NumberOfOpenCreditLinesAndLoans         101503 non-null int64\n",
      "NumberOfTimes90DaysLate                 101503 non-null int64\n",
      "NumberRealEstateLoansOrLines            101503 non-null int64\n",
      "NumberOfTime60-89DaysPastDueNotWorse    101503 non-null int64\n",
      "NumberOfDependents                      98877 non-null float64\n",
      "dtypes: float64(5), int64(6)\n",
      "memory usage: 9.3 MB\n"
     ]
    }
   ],
   "source": [
    "data_test.info()"
   ]
  },
  {
   "cell_type": "code",
   "execution_count": 210,
   "metadata": {},
   "outputs": [],
   "source": [
    "data_train = pd.read_csv('./cs-training.csv',index_col=0)"
   ]
  },
  {
   "cell_type": "code",
   "execution_count": 211,
   "metadata": {},
   "outputs": [
    {
     "data": {
      "text/plain": [
       "Index(['DebtRatio', 'MonthlyIncome', 'NumberOfDependents',\n",
       "       'NumberOfOpenCreditLinesAndLoans',\n",
       "       'NumberOfTime30-59DaysPastDueNotWorse',\n",
       "       'NumberOfTime60-89DaysPastDueNotWorse', 'NumberOfTimes90DaysLate',\n",
       "       'NumberRealEstateLoansOrLines', 'RevolvingUtilizationOfUnsecuredLines',\n",
       "       'SeriousDlqin2yrs', 'age'],\n",
       "      dtype='object')"
      ]
     },
     "execution_count": 211,
     "metadata": {},
     "output_type": "execute_result"
    }
   ],
   "source": [
    "data_train.columns.sort_values()"
   ]
  },
  {
   "cell_type": "code",
   "execution_count": 212,
   "metadata": {},
   "outputs": [],
   "source": [
    "col_replace = {'SeriousDlqin2yrs':'target', ## 违约客户及超过90天逾期客户，bool型；\n",
    "            'RevolvingUtilizationOfUnsecuredLines':'percentage', ## 贷款以及信用卡可用额度与总额度比例，百分比；\n",
    "           'NumberOfOpenCreditLinesAndLoans':'open_loan', ## 开放式信贷和贷款数量，开放式贷款（分期付款如汽车贷款或抵押贷款）和信贷（如信用卡）的数量，整型；\n",
    "           'NumberOfTimes90DaysLate':'90-', ## 90天逾期次数：借款者有90天或更高逾期的次数，整型；\n",
    "           'NumberRealEstateLoansOrLines':'estate_loan', ## 不动产贷款或额度数量：抵押贷款和不动产放款包括房屋净值信贷额度，整型；\n",
    "           'NumberOfTime60-89DaysPastDueNotWorse':'60-89', ## 60-89天逾期但不糟糕次数，整型；\n",
    "           'NumberOfDependents':'Dependents', ## 家属数量：不包括本人在内的家属数量，整型；\n",
    "           'NumberOfTime30-59DaysPastDueNotWorse':'30-59' ## 35-59天逾期但不糟糕次数，整型；\n",
    "              }\n",
    "data_train.rename(columns=col_replace,inplace=True)"
   ]
  },
  {
   "cell_type": "code",
   "execution_count": 213,
   "metadata": {},
   "outputs": [
    {
     "data": {
      "text/html": [
       "<div>\n",
       "<style scoped>\n",
       "    .dataframe tbody tr th:only-of-type {\n",
       "        vertical-align: middle;\n",
       "    }\n",
       "\n",
       "    .dataframe tbody tr th {\n",
       "        vertical-align: top;\n",
       "    }\n",
       "\n",
       "    .dataframe thead th {\n",
       "        text-align: right;\n",
       "    }\n",
       "</style>\n",
       "<table border=\"1\" class=\"dataframe\">\n",
       "  <thead>\n",
       "    <tr style=\"text-align: right;\">\n",
       "      <th></th>\n",
       "      <th>target</th>\n",
       "      <th>percentage</th>\n",
       "      <th>age</th>\n",
       "      <th>30-59</th>\n",
       "      <th>DebtRatio</th>\n",
       "      <th>MonthlyIncome</th>\n",
       "      <th>open_loan</th>\n",
       "      <th>90-</th>\n",
       "      <th>estate_loan</th>\n",
       "      <th>60-89</th>\n",
       "      <th>Dependents</th>\n",
       "    </tr>\n",
       "  </thead>\n",
       "  <tbody>\n",
       "    <tr>\n",
       "      <th>1</th>\n",
       "      <td>1</td>\n",
       "      <td>0.766127</td>\n",
       "      <td>45</td>\n",
       "      <td>2</td>\n",
       "      <td>0.802982</td>\n",
       "      <td>9120.0</td>\n",
       "      <td>13</td>\n",
       "      <td>0</td>\n",
       "      <td>6</td>\n",
       "      <td>0</td>\n",
       "      <td>2.0</td>\n",
       "    </tr>\n",
       "    <tr>\n",
       "      <th>2</th>\n",
       "      <td>0</td>\n",
       "      <td>0.957151</td>\n",
       "      <td>40</td>\n",
       "      <td>0</td>\n",
       "      <td>0.121876</td>\n",
       "      <td>2600.0</td>\n",
       "      <td>4</td>\n",
       "      <td>0</td>\n",
       "      <td>0</td>\n",
       "      <td>0</td>\n",
       "      <td>1.0</td>\n",
       "    </tr>\n",
       "    <tr>\n",
       "      <th>3</th>\n",
       "      <td>0</td>\n",
       "      <td>0.658180</td>\n",
       "      <td>38</td>\n",
       "      <td>1</td>\n",
       "      <td>0.085113</td>\n",
       "      <td>3042.0</td>\n",
       "      <td>2</td>\n",
       "      <td>1</td>\n",
       "      <td>0</td>\n",
       "      <td>0</td>\n",
       "      <td>0.0</td>\n",
       "    </tr>\n",
       "    <tr>\n",
       "      <th>4</th>\n",
       "      <td>0</td>\n",
       "      <td>0.233810</td>\n",
       "      <td>30</td>\n",
       "      <td>0</td>\n",
       "      <td>0.036050</td>\n",
       "      <td>3300.0</td>\n",
       "      <td>5</td>\n",
       "      <td>0</td>\n",
       "      <td>0</td>\n",
       "      <td>0</td>\n",
       "      <td>0.0</td>\n",
       "    </tr>\n",
       "    <tr>\n",
       "      <th>5</th>\n",
       "      <td>0</td>\n",
       "      <td>0.907239</td>\n",
       "      <td>49</td>\n",
       "      <td>1</td>\n",
       "      <td>0.024926</td>\n",
       "      <td>63588.0</td>\n",
       "      <td>7</td>\n",
       "      <td>0</td>\n",
       "      <td>1</td>\n",
       "      <td>0</td>\n",
       "      <td>0.0</td>\n",
       "    </tr>\n",
       "  </tbody>\n",
       "</table>\n",
       "</div>"
      ],
      "text/plain": [
       "   target  percentage  age  30-59  DebtRatio  MonthlyIncome  open_loan  90-  \\\n",
       "1       1    0.766127   45      2   0.802982         9120.0         13    0   \n",
       "2       0    0.957151   40      0   0.121876         2600.0          4    0   \n",
       "3       0    0.658180   38      1   0.085113         3042.0          2    1   \n",
       "4       0    0.233810   30      0   0.036050         3300.0          5    0   \n",
       "5       0    0.907239   49      1   0.024926        63588.0          7    0   \n",
       "\n",
       "   estate_loan  60-89  Dependents  \n",
       "1            6      0         2.0  \n",
       "2            0      0         1.0  \n",
       "3            0      0         0.0  \n",
       "4            0      0         0.0  \n",
       "5            1      0         0.0  "
      ]
     },
     "execution_count": 213,
     "metadata": {},
     "output_type": "execute_result"
    }
   ],
   "source": [
    "data_train.head()"
   ]
  },
  {
   "cell_type": "code",
   "execution_count": 214,
   "metadata": {},
   "outputs": [
    {
     "name": "stdout",
     "output_type": "stream",
     "text": [
      "<class 'pandas.core.frame.DataFrame'>\n",
      "Int64Index: 150000 entries, 1 to 150000\n",
      "Data columns (total 11 columns):\n",
      "target           150000 non-null int64\n",
      "percentage       150000 non-null float64\n",
      "age              150000 non-null int64\n",
      "30-59            150000 non-null int64\n",
      "DebtRatio        150000 non-null float64\n",
      "MonthlyIncome    120269 non-null float64\n",
      "open_loan        150000 non-null int64\n",
      "90-              150000 non-null int64\n",
      "estate_loan      150000 non-null int64\n",
      "60-89            150000 non-null int64\n",
      "Dependents       146076 non-null float64\n",
      "dtypes: float64(4), int64(7)\n",
      "memory usage: 13.7 MB\n"
     ]
    }
   ],
   "source": [
    "data_train.info() ## 说明只有两项有缺失值"
   ]
  },
  {
   "cell_type": "markdown",
   "metadata": {},
   "source": [
    "## 重复值"
   ]
  },
  {
   "cell_type": "code",
   "execution_count": 215,
   "metadata": {},
   "outputs": [
    {
     "data": {
      "text/plain": [
       "609"
      ]
     },
     "execution_count": 215,
     "metadata": {},
     "output_type": "execute_result"
    }
   ],
   "source": [
    "data_train.duplicated().sum()"
   ]
  },
  {
   "cell_type": "code",
   "execution_count": 216,
   "metadata": {},
   "outputs": [],
   "source": [
    "data_train.drop_duplicates(inplace=True)"
   ]
  },
  {
   "cell_type": "markdown",
   "metadata": {},
   "source": [
    "## 缺失值"
   ]
  },
  {
   "cell_type": "code",
   "execution_count": 217,
   "metadata": {},
   "outputs": [
    {
     "data": {
      "text/plain": [
       "0.13100167687621916"
      ]
     },
     "execution_count": 217,
     "metadata": {},
     "output_type": "execute_result"
    }
   ],
   "source": [
    "data_train.loc[data_train.MonthlyIncome.isna(),'Dependents'].isna().mean()"
   ]
  },
  {
   "cell_type": "code",
   "execution_count": 218,
   "metadata": {},
   "outputs": [
    {
     "data": {
      "text/plain": [
       "1.0"
      ]
     },
     "execution_count": 218,
     "metadata": {},
     "output_type": "execute_result"
    }
   ],
   "source": [
    "data_train.loc[data_train.Dependents.isna(),'MonthlyIncome'].isna().mean() ## 结果1，说明家属没填的，月收入都没填。"
   ]
  },
  {
   "cell_type": "code",
   "execution_count": 219,
   "metadata": {},
   "outputs": [],
   "source": [
    "data_train.dropna(subset=['Dependents'],inplace=True) ## 去掉两项都缺的项。"
   ]
  },
  {
   "cell_type": "code",
   "execution_count": 220,
   "metadata": {},
   "outputs": [
    {
     "data": {
      "text/plain": [
       "target           0.000000\n",
       "percentage       0.000000\n",
       "age              0.000000\n",
       "30-59            0.000000\n",
       "DebtRatio        0.000000\n",
       "MonthlyIncome    0.174447\n",
       "open_loan        0.000000\n",
       "90-              0.000000\n",
       "estate_loan      0.000000\n",
       "60-89            0.000000\n",
       "Dependents       0.000000\n",
       "dtype: float64"
      ]
     },
     "execution_count": 220,
     "metadata": {},
     "output_type": "execute_result"
    }
   ],
   "source": [
    "data_train.isna().mean() ## 需要填充月收入"
   ]
  },
  {
   "cell_type": "code",
   "execution_count": 221,
   "metadata": {},
   "outputs": [
    {
     "data": {
      "image/png": "[encoded data removed]",
      "text/plain": [
       "<Figure size 1152x648 with 11 Axes>"
      ]
     },
     "metadata": {
      "needs_background": "light"
     },
     "output_type": "display_data"
    }
   ],
   "source": [
    "## 考察其他项有什么特征\n",
    "plt.figure(figsize=(16,9))\n",
    "for i,col in enumerate(data_train.columns):\n",
    "    plt.subplot(3,4,i+1)\n",
    "    data_train[col].hist(bins=50)\n",
    "    plt.ylabel(col)\n",
    "## 看出DebtRatio有大量0值，支出比例为0，违背常识视为异常值"
   ]
  },
  {
   "cell_type": "code",
   "execution_count": 17,
   "metadata": {},
   "outputs": [],
   "source": [
    "# data_train.query('DebtRatio>0',inplace=True)"
   ]
  },
  {
   "cell_type": "code",
   "execution_count": 223,
   "metadata": {},
   "outputs": [],
   "source": [
    "data_train_bak = data_train.copy()"
   ]
  },
  {
   "cell_type": "code",
   "execution_count": 224,
   "metadata": {},
   "outputs": [],
   "source": [
    "## 填充缺失值\n",
    "from sklearn.experimental import enable_iterative_imputer\n",
    "from sklearn.impute import IterativeImputer\n",
    "from sklearn.ensemble import ExtraTreesRegressor\n",
    "from sklearn.impute import KNNImputer\n",
    "miss_imputer = IterativeImputer(ExtraTreesRegressor(10),initial_strategy=\"most_frequent\")\n",
    "# miss_imputer2 = KNNImputer()\n",
    "data_train_bak.iloc[:,:-1]=miss_imputer.fit_transform(X=data_train.iloc[:,:-1])\n"
   ]
  },
  {
   "cell_type": "code",
   "execution_count": 225,
   "metadata": {},
   "outputs": [
    {
     "data": {
      "text/plain": [
       "(array([ 7830., 19028., 24132., 21627., 14975., 11265.,  7993.,  4405.,\n",
       "         2623.,  1762.]),\n",
       " array([    0. ,  1599.9,  3199.8,  4799.7,  6399.6,  7999.5,  9599.4,\n",
       "        11199.3, 12799.2, 14399.1, 15999. ]),\n",
       " <a list of 10 Patch objects>)"
      ]
     },
     "execution_count": 225,
     "metadata": {},
     "output_type": "execute_result"
    },
    {
     "data": {
      "image/png": "[encoded data removed]",
      "text/plain": [
       "<Figure size 1152x648 with 2 Axes>"
      ]
     },
     "metadata": {
      "needs_background": "light"
     },
     "output_type": "display_data"
    }
   ],
   "source": [
    "plt.figure(figsize=(16,9))\n",
    "plt.subplot(121)\n",
    "plt.hist(data_train_bak.loc[data_train_bak.MonthlyIncome<16000,'MonthlyIncome'])\n",
    "plt.subplot(122)\n",
    "plt.hist(data_train.loc[data_train.MonthlyIncome<16000,'MonthlyIncome'])\n",
    "## 填充结果改变了数据分布，不采用。"
   ]
  },
  {
   "cell_type": "code",
   "execution_count": 226,
   "metadata": {},
   "outputs": [],
   "source": [
    "## 改用随机抽样填充\n",
    "# from scipy.stats import norm\n",
    "# mean,std = norm.fit(data_train.MonthlyIncome[data_train.MonthlyIncome.notna()])\n",
    "fill_len = data_train.MonthlyIncome.isna().sum()\n",
    "data_train.loc[data_train.MonthlyIncome.isna(),'MonthlyIncome']=\\\n",
    "np.random.choice(data_train.loc[data_train.MonthlyIncome.notna(),'MonthlyIncome'],fill_len,False)"
   ]
  },
  {
   "cell_type": "code",
   "execution_count": 227,
   "metadata": {},
   "outputs": [
    {
     "name": "stdout",
     "output_type": "stream",
     "text": [
      "<class 'pandas.core.frame.DataFrame'>\n",
      "Int64Index: 145563 entries, 1 to 150000\n",
      "Data columns (total 11 columns):\n",
      "target           145563 non-null int64\n",
      "percentage       145563 non-null float64\n",
      "age              145563 non-null int64\n",
      "30-59            145563 non-null int64\n",
      "DebtRatio        145563 non-null float64\n",
      "MonthlyIncome    145563 non-null float64\n",
      "open_loan        145563 non-null int64\n",
      "90-              145563 non-null int64\n",
      "estate_loan      145563 non-null int64\n",
      "60-89            145563 non-null int64\n",
      "Dependents       145563 non-null float64\n",
      "dtypes: float64(4), int64(7)\n",
      "memory usage: 13.3 MB\n"
     ]
    }
   ],
   "source": [
    "data_train.info()"
   ]
  },
  {
   "cell_type": "code",
   "execution_count": 228,
   "metadata": {},
   "outputs": [
    {
     "data": {
      "text/plain": [
       "<matplotlib.axes._subplots.AxesSubplot at 0x2a65cfc8488>"
      ]
     },
     "execution_count": 228,
     "metadata": {},
     "output_type": "execute_result"
    },
    {
     "data": {
      "image/png": "[encoded data removed]",
      "text/plain": [
       "<Figure size 1152x648 with 2 Axes>"
      ]
     },
     "metadata": {
      "needs_background": "light"
     },
     "output_type": "display_data"
    }
   ],
   "source": [
    "plt.figure(figsize=(16,9))\n",
    "sns.heatmap(data_train.corr(method='spearman'),annot=True)\n",
    "## 无>0.5的相关性, 暂不考虑降维"
   ]
  },
  {
   "cell_type": "code",
   "execution_count": 229,
   "metadata": {},
   "outputs": [],
   "source": [
    "## 特征工程前，重置索引\n",
    "data_train.reset_index(drop=True, inplace=True)"
   ]
  },
  {
   "cell_type": "markdown",
   "metadata": {},
   "source": [
    "## 自定分箱 卡方分箱 spearman分箱"
   ]
  },
  {
   "cell_type": "code",
   "execution_count": 230,
   "metadata": {},
   "outputs": [],
   "source": [
    "import scipy"
   ]
  },
  {
   "cell_type": "code",
   "execution_count": 231,
   "metadata": {},
   "outputs": [],
   "source": [
    "def init_box(df,n_split):\n",
    "    ## 待份变量等频初始化分箱，统计分箱后标签频数\n",
    "    categ = pd.cut(df.iloc[:,0],n_split,duplicates='raise')\n",
    "    freq = pd.crosstab(categ, df.iloc[:,1]).reset_index()\n",
    "    freq.iloc[:,0] = freq.iloc[:,0].astype(object)\n",
    "\n",
    "    ## 计算WOE,IV\n",
    "    freq['woe'] = np.log(freq[1]/freq[0]*freq[0].sum()/freq[1].sum())\n",
    "    iv = freq.woe.dot((freq[1]/freq[1].sum()-freq[0]/freq[0].sum()))\n",
    "    \n",
    "    return freq.set_index(freq.columns[0]), iv ## reindex方便后续计算"
   ]
  },
  {
   "cell_type": "code",
   "execution_count": 232,
   "metadata": {},
   "outputs": [],
   "source": [
    "def mychi2(freq):\n",
    "    R = freq.sum(1,keepdims=True)\n",
    "    C = freq.sum(0)\n",
    "    N = R.sum()\n",
    "    E = R*C / N\n",
    "    sqr = np.square(freq-E)/E\n",
    "    sqr[E==0] = 0\n",
    "    return sqr.sum()"
   ]
  },
  {
   "cell_type": "code",
   "execution_count": 233,
   "metadata": {},
   "outputs": [],
   "source": [
    "chi2 = lambda x: scipy.stats.chi2_contingency(x,correction=False)[1]\n",
    "add = lambda in1,in2: pd.Interval(in1.left,in2.right)\n",
    "def chi2_box(df, n_split=20, p_thr=.05):\n",
    "    '''\n",
    "    df:两列，第一列是待分箱变量，第二列是标签\n",
    "    n_split: 初始划分区间数\n",
    "    p_thr: 拒绝概率\n",
    "    '''\n",
    "    ## 待份变量等频初始化分箱，统计分箱后标签频数\n",
    "    categ = pd.qcut(df.iloc[:,0],n_split,duplicates='drop')\n",
    "    freq = pd.crosstab(categ, df.iloc[:,1]).reset_index()\n",
    "    freq.iloc[:,0] = freq.iloc[:,0].astype(object)\n",
    "    \n",
    "    ## 相邻箱计算p值\n",
    "    while True:\n",
    "        p_val = [chi2(freq.iloc[i:i+2,1:]) for i in range(len(freq))]\n",
    "        p_max = np.argmax(p_val[:-1])\n",
    "        if p_val[p_max] <= p_thr:\n",
    "            break\n",
    "        freq.iloc[p_max,0] = add(freq.iloc[p_max,0], freq.iloc[p_max+1,0])\n",
    "        freq.iloc[p_max,1:] = freq.iloc[p_max,1:] + freq.iloc[p_max+1,1:]\n",
    "        freq.drop(index=freq.index[p_max+1],inplace=True)\n",
    "    freq.iloc[-1,0] = add(freq.iloc[-1,0], pd.Interval(0,np.inf)) ## 适配数据\n",
    "    freq.iloc[0,0] = add(pd.Interval(-np.inf,0), freq.iloc[0,0]) ## 适配数据\n",
    "\n",
    "    ## 计算WOE,IV\n",
    "    freq['p_val'] = p_val\n",
    "    freq['woe'] = np.log(freq[1]/freq[0]*freq[0].sum()/freq[1].sum())\n",
    "    iv = freq.woe.dot((freq[1]/freq[1].sum()-freq[0]/freq[0].sum()))\n",
    "    \n",
    "    return freq.set_index(freq.columns[0]),iv\n",
    "    "
   ]
  },
  {
   "cell_type": "code",
   "execution_count": 234,
   "metadata": {},
   "outputs": [
    {
     "data": {
      "text/plain": [
       "(y                0     1          p_val       woe\n",
       " age                                              \n",
       " (-inf, 9.0]   8957  1043  3.986888e-262 -1.744348\n",
       " (9.75, 29.0]  6991  3009  3.155419e-176 -0.437030\n",
       " (29.5, 44.0]  5031  4969  1.007542e-183  0.393586\n",
       " (44.25, inf]  3026  6974   1.000000e+00  1.240933,\n",
       " 1.0066018916777513)"
      ]
     },
     "execution_count": 234,
     "metadata": {},
     "output_type": "execute_result"
    },
    {
     "data": {
      "image/png": "[encoded data removed]",
      "text/plain": [
       "<Figure size 432x288 with 1 Axes>"
      ]
     },
     "metadata": {
      "needs_background": "light"
     },
     "output_type": "display_data"
    }
   ],
   "source": [
    "## test function \n",
    "\n",
    "num = 10000  ##构造一个有40000数据量的数据\n",
    "x1 = np.random.randint(1,10,num)\n",
    "x2 = np.random.randint(10,30,num)\n",
    "x3 = np.random.randint(30,45,num)\n",
    "x4 = np.random.randint(45,80,num)\n",
    "x = np.r_[x1,x2,x3,x4]\n",
    "\n",
    "y1 = np.random.choice([0,1],num,p=[.9,.1])\n",
    "y2 = np.random.choice([0,1],num,p=[.7,.3])\n",
    "y3 = np.random.choice([0,1],num,p=[.5,.5])\n",
    "y4 = np.random.choice([0,1],num,p=[.3,.7])\n",
    "y = np.r_[y1,y2,y3,y4]\n",
    "\n",
    "testdata = pd.DataFrame({\"age\":x,\"y\":y})\n",
    "testdata.groupby('age')['y'].mean().plot()\n",
    "chi2_box(testdata,100,.001)"
   ]
  },
  {
   "cell_type": "code",
   "execution_count": 235,
   "metadata": {},
   "outputs": [],
   "source": [
    "spearman = lambda x: scipy.stats.spearmanr(x.iloc[:,0], x.iloc[:,1])[0]\n",
    "def spearman_box(df, n = 20, r_thr=1):\n",
    "    r = 0\n",
    "    while np.abs(r) < r_thr:\n",
    "        categ = pd.qcut(df.iloc[:,0], n, duplicates='drop')\n",
    "        d2 = df.groupby(categ).mean()\n",
    "        r = spearman(d2)\n",
    "        n = n - 1\n",
    "    freq = pd.crosstab(categ, df.iloc[:,1]).reset_index()\n",
    "    freq['woe'] = np.log(freq[1]/freq[0]*freq[0].sum()/freq[1].sum())\n",
    "    iv = freq.woe.dot((freq[1]/freq[1].sum()-freq[0]/freq[0].sum()))\n",
    "    return freq.set_index(freq.columns[0]),iv"
   ]
  },
  {
   "cell_type": "code",
   "execution_count": 236,
   "metadata": {},
   "outputs": [
    {
     "data": {
      "text/html": [
       "<div>\n",
       "<style scoped>\n",
       "    .dataframe tbody tr th:only-of-type {\n",
       "        vertical-align: middle;\n",
       "    }\n",
       "\n",
       "    .dataframe tbody tr th {\n",
       "        vertical-align: top;\n",
       "    }\n",
       "\n",
       "    .dataframe thead th {\n",
       "        text-align: right;\n",
       "    }\n",
       "</style>\n",
       "<table border=\"1\" class=\"dataframe\">\n",
       "  <thead>\n",
       "    <tr style=\"text-align: right;\">\n",
       "      <th>target</th>\n",
       "      <th>0</th>\n",
       "      <th>1</th>\n",
       "      <th>p_val</th>\n",
       "      <th>woe</th>\n",
       "    </tr>\n",
       "    <tr>\n",
       "      <th>age</th>\n",
       "      <th></th>\n",
       "      <th></th>\n",
       "      <th></th>\n",
       "      <th></th>\n",
       "    </tr>\n",
       "  </thead>\n",
       "  <tbody>\n",
       "    <tr>\n",
       "      <th>(-inf, 35.0]</th>\n",
       "      <td>18407</td>\n",
       "      <td>2324</td>\n",
       "      <td>9.147726e-13</td>\n",
       "      <td>0.555701</td>\n",
       "    </tr>\n",
       "    <tr>\n",
       "      <th>(35.0, 43.0]</th>\n",
       "      <td>20674</td>\n",
       "      <td>2080</td>\n",
       "      <td>1.635015e-08</td>\n",
       "      <td>0.328633</td>\n",
       "    </tr>\n",
       "    <tr>\n",
       "      <th>(43.0, 53.0]</th>\n",
       "      <td>33116</td>\n",
       "      <td>2809</td>\n",
       "      <td>3.981809e-10</td>\n",
       "      <td>0.157954</td>\n",
       "    </tr>\n",
       "    <tr>\n",
       "      <th>(53.0, 57.0]</th>\n",
       "      <td>12765</td>\n",
       "      <td>840</td>\n",
       "      <td>1.233567e-07</td>\n",
       "      <td>-0.095919</td>\n",
       "    </tr>\n",
       "    <tr>\n",
       "      <th>(57.0, 62.0]</th>\n",
       "      <td>15820</td>\n",
       "      <td>796</td>\n",
       "      <td>5.346722e-10</td>\n",
       "      <td>-0.364289</td>\n",
       "    </tr>\n",
       "    <tr>\n",
       "      <th>(62.0, 67.0]</th>\n",
       "      <td>13401</td>\n",
       "      <td>467</td>\n",
       "      <td>4.955616e-09</td>\n",
       "      <td>-0.731614</td>\n",
       "    </tr>\n",
       "    <tr>\n",
       "      <th>(67.0, inf]</th>\n",
       "      <td>21549</td>\n",
       "      <td>515</td>\n",
       "      <td>1.000000e+00</td>\n",
       "      <td>-1.108776</td>\n",
       "    </tr>\n",
       "  </tbody>\n",
       "</table>\n",
       "</div>"
      ],
      "text/plain": [
       "target            0     1         p_val       woe\n",
       "age                                              \n",
       "(-inf, 35.0]  18407  2324  9.147726e-13  0.555701\n",
       "(35.0, 43.0]  20674  2080  1.635015e-08  0.328633\n",
       "(43.0, 53.0]  33116  2809  3.981809e-10  0.157954\n",
       "(53.0, 57.0]  12765   840  1.233567e-07 -0.095919\n",
       "(57.0, 62.0]  15820   796  5.346722e-10 -0.364289\n",
       "(62.0, 67.0]  13401   467  4.955616e-09 -0.731614\n",
       "(67.0, inf]   21549   515  1.000000e+00 -1.108776"
      ]
     },
     "metadata": {},
     "output_type": "display_data"
    },
    {
     "data": {
      "text/plain": [
       "<matplotlib.axes._subplots.AxesSubplot at 0x2a655901f88>"
      ]
     },
     "metadata": {},
     "output_type": "display_data"
    },
    {
     "data": {
      "image/png": "[encoded data removed]",
      "text/plain": [
       "<Figure size 432x288 with 1 Axes>"
      ]
     },
     "metadata": {
      "needs_background": "light"
     },
     "output_type": "display_data"
    }
   ],
   "source": [
    "age_box,age_iv = chi2_box(data_train[['age','target']],50,.001)\n",
    "display(age_box,age_box.woe.plot(kind='bar',title=f'IV: {age_iv:.4f}'))"
   ]
  },
  {
   "cell_type": "code",
   "execution_count": 237,
   "metadata": {},
   "outputs": [
    {
     "data": {
      "text/html": [
       "<div>\n",
       "<style scoped>\n",
       "    .dataframe tbody tr th:only-of-type {\n",
       "        vertical-align: middle;\n",
       "    }\n",
       "\n",
       "    .dataframe tbody tr th {\n",
       "        vertical-align: top;\n",
       "    }\n",
       "\n",
       "    .dataframe thead th {\n",
       "        text-align: right;\n",
       "    }\n",
       "</style>\n",
       "<table border=\"1\" class=\"dataframe\">\n",
       "  <thead>\n",
       "    <tr style=\"text-align: right;\">\n",
       "      <th>target</th>\n",
       "      <th>0</th>\n",
       "      <th>1</th>\n",
       "      <th>p_val</th>\n",
       "      <th>woe</th>\n",
       "    </tr>\n",
       "    <tr>\n",
       "      <th>MonthlyIncome</th>\n",
       "      <th></th>\n",
       "      <th></th>\n",
       "      <th></th>\n",
       "      <th></th>\n",
       "    </tr>\n",
       "  </thead>\n",
       "  <tbody>\n",
       "    <tr>\n",
       "      <th>(-inf, 1300.0]</th>\n",
       "      <td>6883</td>\n",
       "      <td>481</td>\n",
       "      <td>3.281411e-13</td>\n",
       "      <td>-0.035801</td>\n",
       "    </tr>\n",
       "    <tr>\n",
       "      <th>(1300.0, 3400.0]</th>\n",
       "      <td>26509</td>\n",
       "      <td>2687</td>\n",
       "      <td>3.106866e-15</td>\n",
       "      <td>0.336083</td>\n",
       "    </tr>\n",
       "    <tr>\n",
       "      <th>(3400.0, 5400.0]</th>\n",
       "      <td>33621</td>\n",
       "      <td>2725</td>\n",
       "      <td>1.224283e-10</td>\n",
       "      <td>0.112459</td>\n",
       "    </tr>\n",
       "    <tr>\n",
       "      <th>(5400.0, 7500.0]</th>\n",
       "      <td>27524</td>\n",
       "      <td>1824</td>\n",
       "      <td>3.668532e-07</td>\n",
       "      <td>-0.088885</td>\n",
       "    </tr>\n",
       "    <tr>\n",
       "      <th>(7500.0, 10100.0]</th>\n",
       "      <td>20419</td>\n",
       "      <td>1109</td>\n",
       "      <td>9.467533e-03</td>\n",
       "      <td>-0.287865</td>\n",
       "    </tr>\n",
       "    <tr>\n",
       "      <th>(10100.0, inf]</th>\n",
       "      <td>20776</td>\n",
       "      <td>1005</td>\n",
       "      <td>1.000000e+00</td>\n",
       "      <td>-0.403669</td>\n",
       "    </tr>\n",
       "  </tbody>\n",
       "</table>\n",
       "</div>"
      ],
      "text/plain": [
       "target                 0     1         p_val       woe\n",
       "MonthlyIncome                                         \n",
       "(-inf, 1300.0]      6883   481  3.281411e-13 -0.035801\n",
       "(1300.0, 3400.0]   26509  2687  3.106866e-15  0.336083\n",
       "(3400.0, 5400.0]   33621  2725  1.224283e-10  0.112459\n",
       "(5400.0, 7500.0]   27524  1824  3.668532e-07 -0.088885\n",
       "(7500.0, 10100.0]  20419  1109  9.467533e-03 -0.287865\n",
       "(10100.0, inf]     20776  1005  1.000000e+00 -0.403669"
      ]
     },
     "metadata": {},
     "output_type": "display_data"
    },
    {
     "data": {
      "text/plain": [
       "<matplotlib.axes._subplots.AxesSubplot at 0x2a65be75588>"
      ]
     },
     "metadata": {},
     "output_type": "display_data"
    },
    {
     "data": {
      "image/png": "[encoded data removed]",
      "text/plain": [
       "<Figure size 432x288 with 1 Axes>"
      ]
     },
     "metadata": {
      "needs_background": "light"
     },
     "output_type": "display_data"
    }
   ],
   "source": [
    "MI_box,MI_iv = chi2_box(data_train[['MonthlyIncome','target']],20,.01)\n",
    "display(MI_box,MI_box.woe.plot(kind='bar',title=f'IV: {MI_iv:.4f}'))"
   ]
  },
  {
   "cell_type": "code",
   "execution_count": 238,
   "metadata": {},
   "outputs": [
    {
     "data": {
      "text/html": [
       "<div>\n",
       "<style scoped>\n",
       "    .dataframe tbody tr th:only-of-type {\n",
       "        vertical-align: middle;\n",
       "    }\n",
       "\n",
       "    .dataframe tbody tr th {\n",
       "        vertical-align: top;\n",
       "    }\n",
       "\n",
       "    .dataframe thead th {\n",
       "        text-align: right;\n",
       "    }\n",
       "</style>\n",
       "<table border=\"1\" class=\"dataframe\">\n",
       "  <thead>\n",
       "    <tr style=\"text-align: right;\">\n",
       "      <th>target</th>\n",
       "      <th>0</th>\n",
       "      <th>1</th>\n",
       "      <th>p_val</th>\n",
       "      <th>woe</th>\n",
       "    </tr>\n",
       "    <tr>\n",
       "      <th>percentage</th>\n",
       "      <th></th>\n",
       "      <th></th>\n",
       "      <th></th>\n",
       "      <th></th>\n",
       "    </tr>\n",
       "  </thead>\n",
       "  <tbody>\n",
       "    <tr>\n",
       "      <th>(-inf, 0.00345]</th>\n",
       "      <td>14178</td>\n",
       "      <td>379</td>\n",
       "      <td>1.249396e-18</td>\n",
       "      <td>-0.996769</td>\n",
       "    </tr>\n",
       "    <tr>\n",
       "      <th>(0.00345, 0.0627]</th>\n",
       "      <td>35859</td>\n",
       "      <td>531</td>\n",
       "      <td>2.496180e-07</td>\n",
       "      <td>-1.587446</td>\n",
       "    </tr>\n",
       "    <tr>\n",
       "      <th>(0.0627, 0.118]</th>\n",
       "      <td>14250</td>\n",
       "      <td>306</td>\n",
       "      <td>8.000203e-07</td>\n",
       "      <td>-1.215785</td>\n",
       "    </tr>\n",
       "    <tr>\n",
       "      <th>(0.118, 0.211]</th>\n",
       "      <td>14118</td>\n",
       "      <td>439</td>\n",
       "      <td>8.127718e-04</td>\n",
       "      <td>-0.845565</td>\n",
       "    </tr>\n",
       "    <tr>\n",
       "      <th>(0.211, 0.277]</th>\n",
       "      <td>6996</td>\n",
       "      <td>282</td>\n",
       "      <td>4.473996e-03</td>\n",
       "      <td>-0.586045</td>\n",
       "    </tr>\n",
       "    <tr>\n",
       "      <th>(0.277, 0.355]</th>\n",
       "      <td>6926</td>\n",
       "      <td>352</td>\n",
       "      <td>5.154532e-03</td>\n",
       "      <td>-0.354265</td>\n",
       "    </tr>\n",
       "    <tr>\n",
       "      <th>(0.355, 0.449]</th>\n",
       "      <td>6850</td>\n",
       "      <td>428</td>\n",
       "      <td>1.026761e-05</td>\n",
       "      <td>-0.147739</td>\n",
       "    </tr>\n",
       "    <tr>\n",
       "      <th>(0.449, 0.561]</th>\n",
       "      <td>6716</td>\n",
       "      <td>562</td>\n",
       "      <td>2.922821e-06</td>\n",
       "      <td>0.144396</td>\n",
       "    </tr>\n",
       "    <tr>\n",
       "      <th>(0.561, 0.698]</th>\n",
       "      <td>6556</td>\n",
       "      <td>722</td>\n",
       "      <td>3.955819e-14</td>\n",
       "      <td>0.419031</td>\n",
       "    </tr>\n",
       "    <tr>\n",
       "      <th>(0.698, 0.85]</th>\n",
       "      <td>6260</td>\n",
       "      <td>1018</td>\n",
       "      <td>3.115285e-24</td>\n",
       "      <td>0.808801</td>\n",
       "    </tr>\n",
       "    <tr>\n",
       "      <th>(0.85, 1.0]</th>\n",
       "      <td>14964</td>\n",
       "      <td>3594</td>\n",
       "      <td>9.825505e-114</td>\n",
       "      <td>1.198760</td>\n",
       "    </tr>\n",
       "    <tr>\n",
       "      <th>(1.0, inf]</th>\n",
       "      <td>2059</td>\n",
       "      <td>1218</td>\n",
       "      <td>1.000000e+00</td>\n",
       "      <td>2.100131</td>\n",
       "    </tr>\n",
       "  </tbody>\n",
       "</table>\n",
       "</div>"
      ],
      "text/plain": [
       "target                 0     1          p_val       woe\n",
       "percentage                                             \n",
       "(-inf, 0.00345]    14178   379   1.249396e-18 -0.996769\n",
       "(0.00345, 0.0627]  35859   531   2.496180e-07 -1.587446\n",
       "(0.0627, 0.118]    14250   306   8.000203e-07 -1.215785\n",
       "(0.118, 0.211]     14118   439   8.127718e-04 -0.845565\n",
       "(0.211, 0.277]      6996   282   4.473996e-03 -0.586045\n",
       "(0.277, 0.355]      6926   352   5.154532e-03 -0.354265\n",
       "(0.355, 0.449]      6850   428   1.026761e-05 -0.147739\n",
       "(0.449, 0.561]      6716   562   2.922821e-06  0.144396\n",
       "(0.561, 0.698]      6556   722   3.955819e-14  0.419031\n",
       "(0.698, 0.85]       6260  1018   3.115285e-24  0.808801\n",
       "(0.85, 1.0]        14964  3594  9.825505e-114  1.198760\n",
       "(1.0, inf]          2059  1218   1.000000e+00  2.100131"
      ]
     },
     "metadata": {},
     "output_type": "display_data"
    },
    {
     "data": {
      "text/plain": [
       "1.1516485848994455"
      ]
     },
     "metadata": {},
     "output_type": "display_data"
    },
    {
     "data": {
      "text/plain": [
       "<matplotlib.axes._subplots.AxesSubplot at 0x2a65be7cac8>"
      ]
     },
     "metadata": {},
     "output_type": "display_data"
    },
    {
     "data": {
      "image/png": "[encoded data removed]",
      "text/plain": [
       "<Figure size 432x288 with 1 Axes>"
      ]
     },
     "metadata": {
      "needs_background": "light"
     },
     "output_type": "display_data"
    }
   ],
   "source": [
    "per_box,per_iv = chi2_box(data_train[['percentage','target']],20,.01)\n",
    "display(per_box,per_iv,per_box.woe.plot(kind='bar',title=f'IV: {per_iv:.4f}'))"
   ]
  },
  {
   "cell_type": "code",
   "execution_count": 239,
   "metadata": {},
   "outputs": [
    {
     "data": {
      "text/plain": [
       "<matplotlib.axes._subplots.AxesSubplot at 0x2a65b976c08>"
      ]
     },
     "execution_count": 239,
     "metadata": {},
     "output_type": "execute_result"
    },
    {
     "data": {
      "image/png": "[encoded data removed]",
      "text/plain": [
       "<Figure size 432x288 with 2 Axes>"
      ]
     },
     "metadata": {
      "needs_background": "light"
     },
     "output_type": "display_data"
    }
   ],
   "source": [
    "ax1 = plt.subplot(122)\n",
    "data_train.loc[data_train['30-59'].lt(20),['30-59']].hist(ax=ax1,bins=50)\n",
    "ax2=plt.subplot(121)\n",
    "data_train[['30-59']].boxplot(ax=ax2)"
   ]
  },
  {
   "cell_type": "code",
   "execution_count": 240,
   "metadata": {},
   "outputs": [
    {
     "data": {
      "text/html": [
       "<div>\n",
       "<style scoped>\n",
       "    .dataframe tbody tr th:only-of-type {\n",
       "        vertical-align: middle;\n",
       "    }\n",
       "\n",
       "    .dataframe tbody tr th {\n",
       "        vertical-align: top;\n",
       "    }\n",
       "\n",
       "    .dataframe thead th {\n",
       "        text-align: right;\n",
       "    }\n",
       "</style>\n",
       "<table border=\"1\" class=\"dataframe\">\n",
       "  <thead>\n",
       "    <tr style=\"text-align: right;\">\n",
       "      <th>target</th>\n",
       "      <th>0</th>\n",
       "      <th>1</th>\n",
       "      <th>p_val</th>\n",
       "      <th>woe</th>\n",
       "    </tr>\n",
       "    <tr>\n",
       "      <th>30-59</th>\n",
       "      <th></th>\n",
       "      <th></th>\n",
       "      <th></th>\n",
       "      <th></th>\n",
       "    </tr>\n",
       "  </thead>\n",
       "  <tbody>\n",
       "    <tr>\n",
       "      <th>(-inf, 1.0]</th>\n",
       "      <td>130459</td>\n",
       "      <td>7306</td>\n",
       "      <td>0.000000e+00</td>\n",
       "      <td>-0.257221</td>\n",
       "    </tr>\n",
       "    <tr>\n",
       "      <th>(1.0, 2.0]</th>\n",
       "      <td>3336</td>\n",
       "      <td>1202</td>\n",
       "      <td>2.513147e-39</td>\n",
       "      <td>1.604356</td>\n",
       "    </tr>\n",
       "    <tr>\n",
       "      <th>(2.0, inf]</th>\n",
       "      <td>1937</td>\n",
       "      <td>1323</td>\n",
       "      <td>1.000000e+00</td>\n",
       "      <td>2.243903</td>\n",
       "    </tr>\n",
       "  </tbody>\n",
       "</table>\n",
       "</div>"
      ],
      "text/plain": [
       "target            0     1         p_val       woe\n",
       "30-59                                            \n",
       "(-inf, 1.0]  130459  7306  0.000000e+00 -0.257221\n",
       "(1.0, 2.0]     3336  1202  2.513147e-39  1.604356\n",
       "(2.0, inf]     1937  1323  1.000000e+00  2.243903"
      ]
     },
     "metadata": {},
     "output_type": "display_data"
    },
    {
     "data": {
      "text/plain": [
       "<matplotlib.axes._subplots.AxesSubplot at 0x2a65ea9ba08>"
      ]
     },
     "metadata": {},
     "output_type": "display_data"
    },
    {
     "data": {
      "image/png": "[encoded data removed]",
      "text/plain": [
       "<Figure size 432x288 with 1 Axes>"
      ]
     },
     "metadata": {
      "needs_background": "light"
     },
     "output_type": "display_data"
    }
   ],
   "source": [
    "n30_box,n30_iv = chi2_box(data_train[['30-59','target']],20,.05)\n",
    "display(n30_box,n30_box.woe.plot(kind='bar',title=f'IV: {n30_iv:.4f}')) ## 每箱数量差别太大，改手动分箱。"
   ]
  },
  {
   "cell_type": "code",
   "execution_count": 241,
   "metadata": {},
   "outputs": [
    {
     "data": {
      "text/html": [
       "<div>\n",
       "<style scoped>\n",
       "    .dataframe tbody tr th:only-of-type {\n",
       "        vertical-align: middle;\n",
       "    }\n",
       "\n",
       "    .dataframe tbody tr th {\n",
       "        vertical-align: top;\n",
       "    }\n",
       "\n",
       "    .dataframe thead th {\n",
       "        text-align: right;\n",
       "    }\n",
       "</style>\n",
       "<table border=\"1\" class=\"dataframe\">\n",
       "  <thead>\n",
       "    <tr style=\"text-align: right;\">\n",
       "      <th>target</th>\n",
       "      <th>0</th>\n",
       "      <th>1</th>\n",
       "      <th>woe</th>\n",
       "    </tr>\n",
       "    <tr>\n",
       "      <th>30-59</th>\n",
       "      <th></th>\n",
       "      <th></th>\n",
       "      <th></th>\n",
       "    </tr>\n",
       "  </thead>\n",
       "  <tbody>\n",
       "    <tr>\n",
       "      <th>(-inf, 0.1]</th>\n",
       "      <td>117077</td>\n",
       "      <td>4943</td>\n",
       "      <td>-0.539718</td>\n",
       "    </tr>\n",
       "    <tr>\n",
       "      <th>(0.1, 1.1]</th>\n",
       "      <td>13382</td>\n",
       "      <td>2363</td>\n",
       "      <td>0.891163</td>\n",
       "    </tr>\n",
       "    <tr>\n",
       "      <th>(1.1, 2.1]</th>\n",
       "      <td>3336</td>\n",
       "      <td>1202</td>\n",
       "      <td>1.604356</td>\n",
       "    </tr>\n",
       "    <tr>\n",
       "      <th>(2.1, 3.1]</th>\n",
       "      <td>1131</td>\n",
       "      <td>610</td>\n",
       "      <td>2.007743</td>\n",
       "    </tr>\n",
       "    <tr>\n",
       "      <th>(3.1, 4.1]</th>\n",
       "      <td>419</td>\n",
       "      <td>316</td>\n",
       "      <td>2.343013</td>\n",
       "    </tr>\n",
       "    <tr>\n",
       "      <th>(4.1, inf]</th>\n",
       "      <td>387</td>\n",
       "      <td>397</td>\n",
       "      <td>2.650653</td>\n",
       "    </tr>\n",
       "  </tbody>\n",
       "</table>\n",
       "</div>"
      ],
      "text/plain": [
       "target            0     1       woe\n",
       "30-59                              \n",
       "(-inf, 0.1]  117077  4943 -0.539718\n",
       "(0.1, 1.1]    13382  2363  0.891163\n",
       "(1.1, 2.1]     3336  1202  1.604356\n",
       "(2.1, 3.1]     1131   610  2.007743\n",
       "(3.1, 4.1]      419   316  2.343013\n",
       "(4.1, inf]      387   397  2.650653"
      ]
     },
     "metadata": {},
     "output_type": "display_data"
    },
    {
     "data": {
      "text/plain": [
       "<matplotlib.axes._subplots.AxesSubplot at 0x2a65c1bd8c8>"
      ]
     },
     "metadata": {},
     "output_type": "display_data"
    },
    {
     "data": {
      "image/png": "[encoded data removed]",
      "text/plain": [
       "<Figure size 432x288 with 1 Axes>"
      ]
     },
     "metadata": {
      "needs_background": "light"
     },
     "output_type": "display_data"
    }
   ],
   "source": [
    "split = [-np.inf,.1,*np.arange(1.1,5,1),np.inf]\n",
    "n30_box,n30_iv = init_box(data_train[['30-59','target']],split)\n",
    "display(n30_box,n30_box.woe.plot(kind='bar',title=f'IV: {n30_iv:.4f}')) ## 每箱数量差别太大，改手动分箱。"
   ]
  },
  {
   "cell_type": "code",
   "execution_count": 242,
   "metadata": {},
   "outputs": [
    {
     "data": {
      "text/plain": [
       "<matplotlib.axes._subplots.AxesSubplot at 0x2a65eb2c488>"
      ]
     },
     "execution_count": 242,
     "metadata": {},
     "output_type": "execute_result"
    },
    {
     "data": {
      "image/png": "[encoded data removed]",
      "text/plain": [
       "<Figure size 432x288 with 2 Axes>"
      ]
     },
     "metadata": {
      "needs_background": "light"
     },
     "output_type": "display_data"
    }
   ],
   "source": [
    "ax1 = plt.subplot(122)\n",
    "data_train.loc[data_train['60-89'].lt(20),['60-89']].hist(ax=ax1,bins=50)\n",
    "ax2=plt.subplot(121)\n",
    "data_train[['60-89']].boxplot(ax=ax2)"
   ]
  },
  {
   "cell_type": "code",
   "execution_count": 243,
   "metadata": {},
   "outputs": [
    {
     "data": {
      "text/html": [
       "<div>\n",
       "<style scoped>\n",
       "    .dataframe tbody tr th:only-of-type {\n",
       "        vertical-align: middle;\n",
       "    }\n",
       "\n",
       "    .dataframe tbody tr th {\n",
       "        vertical-align: top;\n",
       "    }\n",
       "\n",
       "    .dataframe thead th {\n",
       "        text-align: right;\n",
       "    }\n",
       "</style>\n",
       "<table border=\"1\" class=\"dataframe\">\n",
       "  <thead>\n",
       "    <tr style=\"text-align: right;\">\n",
       "      <th>target</th>\n",
       "      <th>0</th>\n",
       "      <th>1</th>\n",
       "      <th>p_val</th>\n",
       "      <th>woe</th>\n",
       "    </tr>\n",
       "    <tr>\n",
       "      <th>60-89</th>\n",
       "      <th></th>\n",
       "      <th></th>\n",
       "      <th></th>\n",
       "      <th></th>\n",
       "    </tr>\n",
       "  </thead>\n",
       "  <tbody>\n",
       "    <tr>\n",
       "      <th>(-inf, 1.0]</th>\n",
       "      <td>134899</td>\n",
       "      <td>8876</td>\n",
       "      <td>0.0</td>\n",
       "      <td>-0.096034</td>\n",
       "    </tr>\n",
       "    <tr>\n",
       "      <th>(1.0, inf]</th>\n",
       "      <td>833</td>\n",
       "      <td>955</td>\n",
       "      <td>1.0</td>\n",
       "      <td>2.761819</td>\n",
       "    </tr>\n",
       "  </tbody>\n",
       "</table>\n",
       "</div>"
      ],
      "text/plain": [
       "target            0     1  p_val       woe\n",
       "60-89                                     \n",
       "(-inf, 1.0]  134899  8876    0.0 -0.096034\n",
       "(1.0, inf]      833   955    1.0  2.761819"
      ]
     },
     "metadata": {},
     "output_type": "display_data"
    },
    {
     "data": {
      "text/plain": [
       "<matplotlib.axes._subplots.AxesSubplot at 0x2a661b67708>"
      ]
     },
     "metadata": {},
     "output_type": "display_data"
    },
    {
     "data": {
      "image/png": "[encoded data removed]",
      "text/plain": [
       "<Figure size 432x288 with 1 Axes>"
      ]
     },
     "metadata": {
      "needs_background": "light"
     },
     "output_type": "display_data"
    }
   ],
   "source": [
    "n60_box,n60_iv = chi2_box(data_train[['60-89','target']],20,.05)\n",
    "display(n60_box,n60_box.woe.plot(kind='bar',title=f'IV: {n60_iv:.4f}')) ## 每箱数量差别太大，改手动分箱。"
   ]
  },
  {
   "cell_type": "code",
   "execution_count": 244,
   "metadata": {},
   "outputs": [
    {
     "data": {
      "text/html": [
       "<div>\n",
       "<style scoped>\n",
       "    .dataframe tbody tr th:only-of-type {\n",
       "        vertical-align: middle;\n",
       "    }\n",
       "\n",
       "    .dataframe tbody tr th {\n",
       "        vertical-align: top;\n",
       "    }\n",
       "\n",
       "    .dataframe thead th {\n",
       "        text-align: right;\n",
       "    }\n",
       "</style>\n",
       "<table border=\"1\" class=\"dataframe\">\n",
       "  <thead>\n",
       "    <tr style=\"text-align: right;\">\n",
       "      <th>target</th>\n",
       "      <th>0</th>\n",
       "      <th>1</th>\n",
       "      <th>woe</th>\n",
       "    </tr>\n",
       "    <tr>\n",
       "      <th>60-89</th>\n",
       "      <th></th>\n",
       "      <th></th>\n",
       "      <th></th>\n",
       "    </tr>\n",
       "  </thead>\n",
       "  <tbody>\n",
       "    <tr>\n",
       "      <th>(-inf, 0.1]</th>\n",
       "      <td>130994</td>\n",
       "      <td>7134</td>\n",
       "      <td>-0.285138</td>\n",
       "    </tr>\n",
       "    <tr>\n",
       "      <th>(0.1, 1.1]</th>\n",
       "      <td>3905</td>\n",
       "      <td>1742</td>\n",
       "      <td>1.817918</td>\n",
       "    </tr>\n",
       "    <tr>\n",
       "      <th>(1.1, 2.1]</th>\n",
       "      <td>552</td>\n",
       "      <td>551</td>\n",
       "      <td>2.623328</td>\n",
       "    </tr>\n",
       "    <tr>\n",
       "      <th>(2.1, 3.1]</th>\n",
       "      <td>136</td>\n",
       "      <td>176</td>\n",
       "      <td>2.882971</td>\n",
       "    </tr>\n",
       "    <tr>\n",
       "      <th>(3.1, 4.1]</th>\n",
       "      <td>40</td>\n",
       "      <td>65</td>\n",
       "      <td>3.110650</td>\n",
       "    </tr>\n",
       "    <tr>\n",
       "      <th>(4.1, inf]</th>\n",
       "      <td>105</td>\n",
       "      <td>163</td>\n",
       "      <td>3.064932</td>\n",
       "    </tr>\n",
       "  </tbody>\n",
       "</table>\n",
       "</div>"
      ],
      "text/plain": [
       "target            0     1       woe\n",
       "60-89                              \n",
       "(-inf, 0.1]  130994  7134 -0.285138\n",
       "(0.1, 1.1]     3905  1742  1.817918\n",
       "(1.1, 2.1]      552   551  2.623328\n",
       "(2.1, 3.1]      136   176  2.882971\n",
       "(3.1, 4.1]       40    65  3.110650\n",
       "(4.1, inf]      105   163  3.064932"
      ]
     },
     "metadata": {},
     "output_type": "display_data"
    },
    {
     "data": {
      "text/plain": [
       "<matplotlib.axes._subplots.AxesSubplot at 0x2a661bccb88>"
      ]
     },
     "metadata": {},
     "output_type": "display_data"
    },
    {
     "data": {
      "image/png": "[encoded data removed]",
      "text/plain": [
       "<Figure size 432x288 with 1 Axes>"
      ]
     },
     "metadata": {
      "needs_background": "light"
     },
     "output_type": "display_data"
    }
   ],
   "source": [
    "split = [-np.inf,.1,*np.arange(1.1,5,1),np.inf]\n",
    "n60_box,n60_iv = init_box(data_train[['60-89','target']],split)\n",
    "display(n60_box,n60_box.woe.plot(kind='bar',title=f'IV: {n60_iv:.4f}')) ## 每箱数量差别太大，改手动分箱。"
   ]
  },
  {
   "cell_type": "code",
   "execution_count": 245,
   "metadata": {},
   "outputs": [
    {
     "data": {
      "text/plain": [
       "<matplotlib.axes._subplots.AxesSubplot at 0x2a661c43348>"
      ]
     },
     "execution_count": 245,
     "metadata": {},
     "output_type": "execute_result"
    },
    {
     "data": {
      "image/png": "[encoded data removed]",
      "text/plain": [
       "<Figure size 432x288 with 2 Axes>"
      ]
     },
     "metadata": {
      "needs_background": "light"
     },
     "output_type": "display_data"
    }
   ],
   "source": [
    "ax1 = plt.subplot(122)\n",
    "data_train.loc[data_train['90-'].lt(20),['90-']].hist(ax=ax1,bins=50)\n",
    "ax2=plt.subplot(121)\n",
    "data_train[['90-']].boxplot(ax=ax2)"
   ]
  },
  {
   "cell_type": "code",
   "execution_count": 246,
   "metadata": {},
   "outputs": [
    {
     "data": {
      "text/html": [
       "<div>\n",
       "<style scoped>\n",
       "    .dataframe tbody tr th:only-of-type {\n",
       "        vertical-align: middle;\n",
       "    }\n",
       "\n",
       "    .dataframe tbody tr th {\n",
       "        vertical-align: top;\n",
       "    }\n",
       "\n",
       "    .dataframe thead th {\n",
       "        text-align: right;\n",
       "    }\n",
       "</style>\n",
       "<table border=\"1\" class=\"dataframe\">\n",
       "  <thead>\n",
       "    <tr style=\"text-align: right;\">\n",
       "      <th>target</th>\n",
       "      <th>0</th>\n",
       "      <th>1</th>\n",
       "      <th>p_val</th>\n",
       "      <th>woe</th>\n",
       "    </tr>\n",
       "    <tr>\n",
       "      <th>90-</th>\n",
       "      <th></th>\n",
       "      <th></th>\n",
       "      <th></th>\n",
       "      <th></th>\n",
       "    </tr>\n",
       "  </thead>\n",
       "  <tbody>\n",
       "    <tr>\n",
       "      <th>(-inf, 1.0]</th>\n",
       "      <td>131865</td>\n",
       "      <td>8091</td>\n",
       "      <td>0.0</td>\n",
       "      <td>-0.173739</td>\n",
       "    </tr>\n",
       "    <tr>\n",
       "      <th>(1.0, inf]</th>\n",
       "      <td>1312</td>\n",
       "      <td>1631</td>\n",
       "      <td>1.0</td>\n",
       "      <td>2.834928</td>\n",
       "    </tr>\n",
       "  </tbody>\n",
       "</table>\n",
       "</div>"
      ],
      "text/plain": [
       "target            0     1  p_val       woe\n",
       "90-                                       \n",
       "(-inf, 1.0]  131865  8091    0.0 -0.173739\n",
       "(1.0, inf]     1312  1631    1.0  2.834928"
      ]
     },
     "metadata": {},
     "output_type": "display_data"
    },
    {
     "data": {
      "text/plain": [
       "<matplotlib.axes._subplots.AxesSubplot at 0x2a6625167c8>"
      ]
     },
     "metadata": {},
     "output_type": "display_data"
    },
    {
     "data": {
      "image/png": "[encoded data removed]",
      "text/plain": [
       "<Figure size 432x288 with 1 Axes>"
      ]
     },
     "metadata": {
      "needs_background": "light"
     },
     "output_type": "display_data"
    }
   ],
   "source": [
    "n90_box,n90_iv = chi2_box(data_train.loc[data_train.MonthlyIncome>1,['90-','target']],20,.05)\n",
    "display(n90_box,n90_box.woe.plot(kind='bar',title=f'IV: {n90_iv:.4f}')) ## 每箱数量差别太大，改手动分箱。"
   ]
  },
  {
   "cell_type": "code",
   "execution_count": 247,
   "metadata": {},
   "outputs": [
    {
     "data": {
      "text/html": [
       "<div>\n",
       "<style scoped>\n",
       "    .dataframe tbody tr th:only-of-type {\n",
       "        vertical-align: middle;\n",
       "    }\n",
       "\n",
       "    .dataframe tbody tr th {\n",
       "        vertical-align: top;\n",
       "    }\n",
       "\n",
       "    .dataframe thead th {\n",
       "        text-align: right;\n",
       "    }\n",
       "</style>\n",
       "<table border=\"1\" class=\"dataframe\">\n",
       "  <thead>\n",
       "    <tr style=\"text-align: right;\">\n",
       "      <th>target</th>\n",
       "      <th>0</th>\n",
       "      <th>1</th>\n",
       "      <th>woe</th>\n",
       "    </tr>\n",
       "    <tr>\n",
       "      <th>90-</th>\n",
       "      <th></th>\n",
       "      <th></th>\n",
       "      <th></th>\n",
       "    </tr>\n",
       "  </thead>\n",
       "  <tbody>\n",
       "    <tr>\n",
       "      <th>(-inf, 0.1]</th>\n",
       "      <td>131009</td>\n",
       "      <td>6441</td>\n",
       "      <td>-0.387441</td>\n",
       "    </tr>\n",
       "    <tr>\n",
       "      <th>(0.1, 1.1]</th>\n",
       "      <td>3396</td>\n",
       "      <td>1734</td>\n",
       "      <td>1.952974</td>\n",
       "    </tr>\n",
       "    <tr>\n",
       "      <th>(1.1, 2.1]</th>\n",
       "      <td>762</td>\n",
       "      <td>760</td>\n",
       "      <td>2.622514</td>\n",
       "    </tr>\n",
       "    <tr>\n",
       "      <th>(2.1, 3.1]</th>\n",
       "      <td>279</td>\n",
       "      <td>377</td>\n",
       "      <td>2.926175</td>\n",
       "    </tr>\n",
       "    <tr>\n",
       "      <th>(3.1, inf]</th>\n",
       "      <td>286</td>\n",
       "      <td>519</td>\n",
       "      <td>3.221054</td>\n",
       "    </tr>\n",
       "  </tbody>\n",
       "</table>\n",
       "</div>"
      ],
      "text/plain": [
       "target            0     1       woe\n",
       "90-                                \n",
       "(-inf, 0.1]  131009  6441 -0.387441\n",
       "(0.1, 1.1]     3396  1734  1.952974\n",
       "(1.1, 2.1]      762   760  2.622514\n",
       "(2.1, 3.1]      279   377  2.926175\n",
       "(3.1, inf]      286   519  3.221054"
      ]
     },
     "metadata": {},
     "output_type": "display_data"
    },
    {
     "data": {
      "text/plain": [
       "<matplotlib.axes._subplots.AxesSubplot at 0x2a662584b88>"
      ]
     },
     "metadata": {},
     "output_type": "display_data"
    },
    {
     "data": {
      "image/png": "[encoded data removed]",
      "text/plain": [
       "<Figure size 432x288 with 1 Axes>"
      ]
     },
     "metadata": {
      "needs_background": "light"
     },
     "output_type": "display_data"
    }
   ],
   "source": [
    "split = [-np.inf,.1,*np.arange(1.1,4,1),np.inf]\n",
    "n90_box,n90_iv = init_box(data_train[['90-','target']],split)\n",
    "display(n90_box,n90_box.woe.plot(kind='bar',title=f'IV: {n60_iv:.4f}')) ## 每箱数量差别太大，改手动分箱。"
   ]
  },
  {
   "cell_type": "code",
   "execution_count": 248,
   "metadata": {},
   "outputs": [
    {
     "data": {
      "text/html": [
       "<div>\n",
       "<style scoped>\n",
       "    .dataframe tbody tr th:only-of-type {\n",
       "        vertical-align: middle;\n",
       "    }\n",
       "\n",
       "    .dataframe tbody tr th {\n",
       "        vertical-align: top;\n",
       "    }\n",
       "\n",
       "    .dataframe thead th {\n",
       "        text-align: right;\n",
       "    }\n",
       "</style>\n",
       "<table border=\"1\" class=\"dataframe\">\n",
       "  <thead>\n",
       "    <tr style=\"text-align: right;\">\n",
       "      <th>target</th>\n",
       "      <th>0</th>\n",
       "      <th>1</th>\n",
       "      <th>p_val</th>\n",
       "      <th>woe</th>\n",
       "    </tr>\n",
       "    <tr>\n",
       "      <th>DebtRatio</th>\n",
       "      <th></th>\n",
       "      <th></th>\n",
       "      <th></th>\n",
       "      <th></th>\n",
       "    </tr>\n",
       "  </thead>\n",
       "  <tbody>\n",
       "    <tr>\n",
       "      <th>(-inf, 0.00323]</th>\n",
       "      <td>5449</td>\n",
       "      <td>374</td>\n",
       "      <td>1.258304e-08</td>\n",
       "      <td>-0.053790</td>\n",
       "    </tr>\n",
       "    <tr>\n",
       "      <th>(0.00323, 0.017]</th>\n",
       "      <td>5585</td>\n",
       "      <td>237</td>\n",
       "      <td>3.280947e-12</td>\n",
       "      <td>-0.534638</td>\n",
       "    </tr>\n",
       "    <tr>\n",
       "      <th>(0.017, 0.226]</th>\n",
       "      <td>32689</td>\n",
       "      <td>2246</td>\n",
       "      <td>1.717865e-08</td>\n",
       "      <td>-0.052746</td>\n",
       "    </tr>\n",
       "    <tr>\n",
       "      <th>(0.226, 0.343]</th>\n",
       "      <td>22056</td>\n",
       "      <td>1234</td>\n",
       "      <td>3.229789e-10</td>\n",
       "      <td>-0.258182</td>\n",
       "    </tr>\n",
       "    <tr>\n",
       "      <th>(0.343, 0.504]</th>\n",
       "      <td>21734</td>\n",
       "      <td>1556</td>\n",
       "      <td>4.151254e-16</td>\n",
       "      <td>-0.011618</td>\n",
       "    </tr>\n",
       "    <tr>\n",
       "      <th>(0.504, 0.662]</th>\n",
       "      <td>10584</td>\n",
       "      <td>1061</td>\n",
       "      <td>6.343653e-09</td>\n",
       "      <td>0.325010</td>\n",
       "    </tr>\n",
       "    <tr>\n",
       "      <th>(0.662, 1.365]</th>\n",
       "      <td>10315</td>\n",
       "      <td>1330</td>\n",
       "      <td>7.075795e-22</td>\n",
       "      <td>0.576721</td>\n",
       "    </tr>\n",
       "    <tr>\n",
       "      <th>(1.365, 688.0]</th>\n",
       "      <td>10752</td>\n",
       "      <td>899</td>\n",
       "      <td>1.741907e-19</td>\n",
       "      <td>0.143578</td>\n",
       "    </tr>\n",
       "    <tr>\n",
       "      <th>(688.0, inf]</th>\n",
       "      <td>16568</td>\n",
       "      <td>894</td>\n",
       "      <td>1.000000e+00</td>\n",
       "      <td>-0.294381</td>\n",
       "    </tr>\n",
       "  </tbody>\n",
       "</table>\n",
       "</div>"
      ],
      "text/plain": [
       "target                0     1         p_val       woe\n",
       "DebtRatio                                            \n",
       "(-inf, 0.00323]    5449   374  1.258304e-08 -0.053790\n",
       "(0.00323, 0.017]   5585   237  3.280947e-12 -0.534638\n",
       "(0.017, 0.226]    32689  2246  1.717865e-08 -0.052746\n",
       "(0.226, 0.343]    22056  1234  3.229789e-10 -0.258182\n",
       "(0.343, 0.504]    21734  1556  4.151254e-16 -0.011618\n",
       "(0.504, 0.662]    10584  1061  6.343653e-09  0.325010\n",
       "(0.662, 1.365]    10315  1330  7.075795e-22  0.576721\n",
       "(1.365, 688.0]    10752   899  1.741907e-19  0.143578\n",
       "(688.0, inf]      16568   894  1.000000e+00 -0.294381"
      ]
     },
     "metadata": {},
     "output_type": "display_data"
    },
    {
     "data": {
      "text/plain": [
       "0.07429044349834137"
      ]
     },
     "metadata": {},
     "output_type": "display_data"
    },
    {
     "data": {
      "text/plain": [
       "<matplotlib.axes._subplots.AxesSubplot at 0x2a662a11748>"
      ]
     },
     "execution_count": 248,
     "metadata": {},
     "output_type": "execute_result"
    },
    {
     "data": {
      "image/png": "[encoded data removed]",
      "text/plain": [
       "<Figure size 432x288 with 1 Axes>"
      ]
     },
     "metadata": {
      "needs_background": "light"
     },
     "output_type": "display_data"
    }
   ],
   "source": [
    "debt_box,debt_iv = chi2_box(data_train.loc[:,['DebtRatio','target']],25,.001)\n",
    "display(debt_box,debt_iv)\n",
    "debt_box.woe.plot(kind='bar',title=f'IV: {debt_iv:.4f}') ## 效果差，用手动分箱"
   ]
  },
  {
   "cell_type": "code",
   "execution_count": 249,
   "metadata": {},
   "outputs": [
    {
     "name": "stderr",
     "output_type": "stream",
     "text": [
      "D:\\Program Files\\Anaconda3\\lib\\site-packages\\pandas\\plotting\\_matplotlib\\tools.py:307: MatplotlibDeprecationWarning: \n",
      "The rowNum attribute was deprecated in Matplotlib 3.2 and will be removed two minor releases later. Use ax.get_subplotspec().rowspan.start instead.\n",
      "  layout[ax.rowNum, ax.colNum] = ax.get_visible()\n",
      "D:\\Program Files\\Anaconda3\\lib\\site-packages\\pandas\\plotting\\_matplotlib\\tools.py:307: MatplotlibDeprecationWarning: \n",
      "The colNum attribute was deprecated in Matplotlib 3.2 and will be removed two minor releases later. Use ax.get_subplotspec().colspan.start instead.\n",
      "  layout[ax.rowNum, ax.colNum] = ax.get_visible()\n",
      "D:\\Program Files\\Anaconda3\\lib\\site-packages\\pandas\\plotting\\_matplotlib\\tools.py:313: MatplotlibDeprecationWarning: \n",
      "The rowNum attribute was deprecated in Matplotlib 3.2 and will be removed two minor releases later. Use ax.get_subplotspec().rowspan.start instead.\n",
      "  if not layout[ax.rowNum + 1, ax.colNum]:\n",
      "D:\\Program Files\\Anaconda3\\lib\\site-packages\\pandas\\plotting\\_matplotlib\\tools.py:313: MatplotlibDeprecationWarning: \n",
      "The colNum attribute was deprecated in Matplotlib 3.2 and will be removed two minor releases later. Use ax.get_subplotspec().colspan.start instead.\n",
      "  if not layout[ax.rowNum + 1, ax.colNum]:\n"
     ]
    },
    {
     "data": {
      "text/plain": [
       "<matplotlib.axes._subplots.AxesSubplot at 0x2a662667d08>"
      ]
     },
     "execution_count": 249,
     "metadata": {},
     "output_type": "execute_result"
    },
    {
     "data": {
      "image/png": "[encoded data removed]",
      "text/plain": [
       "<Figure size 576x648 with 2 Axes>"
      ]
     },
     "metadata": {
      "needs_background": "light"
     },
     "output_type": "display_data"
    }
   ],
   "source": [
    "ax1 = plt.subplot(211)\n",
    "data_train.query('6>DebtRatio')[['DebtRatio']].plot(kind='hist',ax=ax1, bins=500,figsize=(8,9))\n",
    "## 0.04之前有异常，单独分一个箱\n",
    "ax2 = plt.subplot(212)\n",
    "data_train.query('6<=DebtRatio')[['DebtRatio']].plot(kind='hist',ax=ax2, bins=500,figsize=(8,9))\n",
    "## 后面是一个长尾分布"
   ]
  },
  {
   "cell_type": "code",
   "execution_count": 277,
   "metadata": {},
   "outputs": [
    {
     "data": {
      "text/html": [
       "<div>\n",
       "<style scoped>\n",
       "    .dataframe tbody tr th:only-of-type {\n",
       "        vertical-align: middle;\n",
       "    }\n",
       "\n",
       "    .dataframe tbody tr th {\n",
       "        vertical-align: top;\n",
       "    }\n",
       "\n",
       "    .dataframe thead th {\n",
       "        text-align: right;\n",
       "    }\n",
       "</style>\n",
       "<table border=\"1\" class=\"dataframe\">\n",
       "  <thead>\n",
       "    <tr style=\"text-align: right;\">\n",
       "      <th>target</th>\n",
       "      <th>0</th>\n",
       "      <th>1</th>\n",
       "      <th>woe</th>\n",
       "    </tr>\n",
       "    <tr>\n",
       "      <th>DebtRatio</th>\n",
       "      <th></th>\n",
       "      <th></th>\n",
       "      <th></th>\n",
       "    </tr>\n",
       "  </thead>\n",
       "  <tbody>\n",
       "    <tr>\n",
       "      <th>(-inf, 0.08]</th>\n",
       "      <td>19377</td>\n",
       "      <td>1244</td>\n",
       "      <td>-0.120613</td>\n",
       "    </tr>\n",
       "    <tr>\n",
       "      <th>(0.08, 0.2]</th>\n",
       "      <td>19445</td>\n",
       "      <td>1312</td>\n",
       "      <td>-0.070896</td>\n",
       "    </tr>\n",
       "    <tr>\n",
       "      <th>(0.2, 0.3]</th>\n",
       "      <td>19183</td>\n",
       "      <td>1089</td>\n",
       "      <td>-0.243623</td>\n",
       "    </tr>\n",
       "    <tr>\n",
       "      <th>(0.3, 0.4]</th>\n",
       "      <td>16945</td>\n",
       "      <td>1067</td>\n",
       "      <td>-0.139980</td>\n",
       "    </tr>\n",
       "    <tr>\n",
       "      <th>(0.4, 0.5]</th>\n",
       "      <td>12221</td>\n",
       "      <td>914</td>\n",
       "      <td>0.032061</td>\n",
       "    </tr>\n",
       "    <tr>\n",
       "      <th>(0.5, 0.6]</th>\n",
       "      <td>7645</td>\n",
       "      <td>742</td>\n",
       "      <td>0.292684</td>\n",
       "    </tr>\n",
       "    <tr>\n",
       "      <th>(0.6, 0.7]</th>\n",
       "      <td>4905</td>\n",
       "      <td>519</td>\n",
       "      <td>0.379035</td>\n",
       "    </tr>\n",
       "    <tr>\n",
       "      <th>(0.7, 0.8]</th>\n",
       "      <td>3024</td>\n",
       "      <td>374</td>\n",
       "      <td>0.535062</td>\n",
       "    </tr>\n",
       "    <tr>\n",
       "      <th>(0.8, 0.9]</th>\n",
       "      <td>1953</td>\n",
       "      <td>246</td>\n",
       "      <td>0.553351</td>\n",
       "    </tr>\n",
       "    <tr>\n",
       "      <th>(0.9, 1.0]</th>\n",
       "      <td>1474</td>\n",
       "      <td>198</td>\n",
       "      <td>0.617674</td>\n",
       "    </tr>\n",
       "    <tr>\n",
       "      <th>(1.0, 2.0]</th>\n",
       "      <td>3502</td>\n",
       "      <td>538</td>\n",
       "      <td>0.751911</td>\n",
       "    </tr>\n",
       "    <tr>\n",
       "      <th>(2.0, 21.0]</th>\n",
       "      <td>2645</td>\n",
       "      <td>177</td>\n",
       "      <td>-0.079135</td>\n",
       "    </tr>\n",
       "    <tr>\n",
       "      <th>(21.0, 98.0]</th>\n",
       "      <td>2589</td>\n",
       "      <td>136</td>\n",
       "      <td>-0.321230</td>\n",
       "    </tr>\n",
       "    <tr>\n",
       "      <th>(98.0, 425.8]</th>\n",
       "      <td>2533</td>\n",
       "      <td>213</td>\n",
       "      <td>0.149274</td>\n",
       "    </tr>\n",
       "    <tr>\n",
       "      <th>(425.8, 830.0]</th>\n",
       "      <td>2543</td>\n",
       "      <td>227</td>\n",
       "      <td>0.208992</td>\n",
       "    </tr>\n",
       "    <tr>\n",
       "      <th>(830.0, 1266.0]</th>\n",
       "      <td>2615</td>\n",
       "      <td>146</td>\n",
       "      <td>-0.260271</td>\n",
       "    </tr>\n",
       "    <tr>\n",
       "      <th>(1266.0, 1696.5]</th>\n",
       "      <td>2633</td>\n",
       "      <td>131</td>\n",
       "      <td>-0.375540</td>\n",
       "    </tr>\n",
       "    <tr>\n",
       "      <th>(1696.5, 2190.2]</th>\n",
       "      <td>2647</td>\n",
       "      <td>117</td>\n",
       "      <td>-0.493867</td>\n",
       "    </tr>\n",
       "    <tr>\n",
       "      <th>(2190.2, 2812.0]</th>\n",
       "      <td>2646</td>\n",
       "      <td>119</td>\n",
       "      <td>-0.476539</td>\n",
       "    </tr>\n",
       "    <tr>\n",
       "      <th>(2812.0, 3871.4]</th>\n",
       "      <td>2631</td>\n",
       "      <td>133</td>\n",
       "      <td>-0.359628</td>\n",
       "    </tr>\n",
       "    <tr>\n",
       "      <th>(3871.4, inf]</th>\n",
       "      <td>2576</td>\n",
       "      <td>189</td>\n",
       "      <td>0.012896</td>\n",
       "    </tr>\n",
       "  </tbody>\n",
       "</table>\n",
       "</div>"
      ],
      "text/plain": [
       "target                0     1       woe\n",
       "DebtRatio                              \n",
       "(-inf, 0.08]      19377  1244 -0.120613\n",
       "(0.08, 0.2]       19445  1312 -0.070896\n",
       "(0.2, 0.3]        19183  1089 -0.243623\n",
       "(0.3, 0.4]        16945  1067 -0.139980\n",
       "(0.4, 0.5]        12221   914  0.032061\n",
       "(0.5, 0.6]         7645   742  0.292684\n",
       "(0.6, 0.7]         4905   519  0.379035\n",
       "(0.7, 0.8]         3024   374  0.535062\n",
       "(0.8, 0.9]         1953   246  0.553351\n",
       "(0.9, 1.0]         1474   198  0.617674\n",
       "(1.0, 2.0]         3502   538  0.751911\n",
       "(2.0, 21.0]        2645   177 -0.079135\n",
       "(21.0, 98.0]       2589   136 -0.321230\n",
       "(98.0, 425.8]      2533   213  0.149274\n",
       "(425.8, 830.0]     2543   227  0.208992\n",
       "(830.0, 1266.0]    2615   146 -0.260271\n",
       "(1266.0, 1696.5]   2633   131 -0.375540\n",
       "(1696.5, 2190.2]   2647   117 -0.493867\n",
       "(2190.2, 2812.0]   2646   119 -0.476539\n",
       "(2812.0, 3871.4]   2631   133 -0.359628\n",
       "(3871.4, inf]      2576   189  0.012896"
      ]
     },
     "metadata": {},
     "output_type": "display_data"
    },
    {
     "data": {
      "text/plain": [
       "<matplotlib.axes._subplots.AxesSubplot at 0x2a6af513488>"
      ]
     },
     "execution_count": 277,
     "metadata": {},
     "output_type": "execute_result"
    },
    {
     "data": {
      "image/png": "[encoded data removed]",
      "text/plain": [
       "<Figure size 432x288 with 1 Axes>"
      ]
     },
     "metadata": {
      "needs_background": "light"
     },
     "output_type": "display_data"
    }
   ],
   "source": [
    "split = [-np.inf,.08,*np.arange(.2,1.1,.1),]\n",
    "split2 = data_train.DebtRatio[data_train.DebtRatio.gt(2)].quantile(np.arange(10)/10).tolist()\n",
    "b=split+split2+[np.inf]\n",
    "debt_box,debt_iv = init_box(data_train.loc[:,['DebtRatio','target']],b)\n",
    "# debt_box,debt_iv = init_box(data_train.loc[:,['DebtRatio','target']],b)\n",
    "# debt_box,debt_iv = spearman_box(data_train.loc[:,['DebtRatio','target']],r_thr=.5)\n",
    "display(debt_box)\n",
    "debt_box.woe.plot(kind='bar',title=f'IV: {debt_iv:.4f}')"
   ]
  },
  {
   "cell_type": "code",
   "execution_count": 256,
   "metadata": {},
   "outputs": [
    {
     "data": {
      "text/plain": [
       "<matplotlib.axes._subplots.AxesSubplot at 0x2a6689e5dc8>"
      ]
     },
     "execution_count": 256,
     "metadata": {},
     "output_type": "execute_result"
    },
    {
     "data": {
      "image/png": "[encoded data removed]",
      "text/plain": [
       "<Figure size 432x288 with 1 Axes>"
      ]
     },
     "metadata": {
      "needs_background": "light"
     },
     "output_type": "display_data"
    }
   ],
   "source": [
    "data_train.open_loan.hist(bins=500)"
   ]
  },
  {
   "cell_type": "code",
   "execution_count": 258,
   "metadata": {},
   "outputs": [
    {
     "data": {
      "text/html": [
       "<div>\n",
       "<style scoped>\n",
       "    .dataframe tbody tr th:only-of-type {\n",
       "        vertical-align: middle;\n",
       "    }\n",
       "\n",
       "    .dataframe tbody tr th {\n",
       "        vertical-align: top;\n",
       "    }\n",
       "\n",
       "    .dataframe thead th {\n",
       "        text-align: right;\n",
       "    }\n",
       "</style>\n",
       "<table border=\"1\" class=\"dataframe\">\n",
       "  <thead>\n",
       "    <tr style=\"text-align: right;\">\n",
       "      <th>target</th>\n",
       "      <th>0</th>\n",
       "      <th>1</th>\n",
       "      <th>p_val</th>\n",
       "      <th>woe</th>\n",
       "    </tr>\n",
       "    <tr>\n",
       "      <th>open_loan</th>\n",
       "      <th></th>\n",
       "      <th></th>\n",
       "      <th></th>\n",
       "      <th></th>\n",
       "    </tr>\n",
       "  </thead>\n",
       "  <tbody>\n",
       "    <tr>\n",
       "      <th>(-inf, 2.0]</th>\n",
       "      <td>10098</td>\n",
       "      <td>1594</td>\n",
       "      <td>2.219557e-38</td>\n",
       "      <td>0.779051</td>\n",
       "    </tr>\n",
       "    <tr>\n",
       "      <th>(2.0, 3.0]</th>\n",
       "      <td>7853</td>\n",
       "      <td>666</td>\n",
       "      <td>4.829875e-05</td>\n",
       "      <td>0.157780</td>\n",
       "    </tr>\n",
       "    <tr>\n",
       "      <th>(3.0, 5.0]</th>\n",
       "      <td>22082</td>\n",
       "      <td>1540</td>\n",
       "      <td>2.792500e-05</td>\n",
       "      <td>-0.037839</td>\n",
       "    </tr>\n",
       "    <tr>\n",
       "      <th>(5.0, 7.0]</th>\n",
       "      <td>24722</td>\n",
       "      <td>1473</td>\n",
       "      <td>3.244686e-03</td>\n",
       "      <td>-0.195251</td>\n",
       "    </tr>\n",
       "    <tr>\n",
       "      <th>(7.0, 8.0]</th>\n",
       "      <td>11711</td>\n",
       "      <td>603</td>\n",
       "      <td>3.758710e-05</td>\n",
       "      <td>-0.341225</td>\n",
       "    </tr>\n",
       "    <tr>\n",
       "      <th>(8.0, 13.0]</th>\n",
       "      <td>38973</td>\n",
       "      <td>2432</td>\n",
       "      <td>4.598320e-08</td>\n",
       "      <td>-0.149013</td>\n",
       "    </tr>\n",
       "    <tr>\n",
       "      <th>(13.0, inf]</th>\n",
       "      <td>20293</td>\n",
       "      <td>1523</td>\n",
       "      <td>1.000000e+00</td>\n",
       "      <td>0.035548</td>\n",
       "    </tr>\n",
       "  </tbody>\n",
       "</table>\n",
       "</div>"
      ],
      "text/plain": [
       "target           0     1         p_val       woe\n",
       "open_loan                                       \n",
       "(-inf, 2.0]  10098  1594  2.219557e-38  0.779051\n",
       "(2.0, 3.0]    7853   666  4.829875e-05  0.157780\n",
       "(3.0, 5.0]   22082  1540  2.792500e-05 -0.037839\n",
       "(5.0, 7.0]   24722  1473  3.244686e-03 -0.195251\n",
       "(7.0, 8.0]   11711   603  3.758710e-05 -0.341225\n",
       "(8.0, 13.0]  38973  2432  4.598320e-08 -0.149013\n",
       "(13.0, inf]  20293  1523  1.000000e+00  0.035548"
      ]
     },
     "metadata": {},
     "output_type": "display_data"
    },
    {
     "data": {
      "text/plain": [
       "<matplotlib.axes._subplots.AxesSubplot at 0x2a689549608>"
      ]
     },
     "execution_count": 258,
     "metadata": {},
     "output_type": "execute_result"
    },
    {
     "data": {
      "image/png": "[encoded data removed]",
      "text/plain": [
       "<Figure size 432x288 with 1 Axes>"
      ]
     },
     "metadata": {
      "needs_background": "light"
     },
     "output_type": "display_data"
    }
   ],
   "source": [
    "# loan_box,loan_iv = init_box(data_train.loc[:,['open_loan','target']],np.arange(15))\n",
    "# loan_box,loan_iv = spearman_box(data_train.loc[:,['open_loan','target']],r_thr=.1)\n",
    "loan_box,loan_iv = chi2_box(data_train.loc[:,['open_loan','target']])\n",
    "display(loan_box)\n",
    "loan_box.woe.plot(kind='bar',title=f'IV: {loan_iv:.4f}')"
   ]
  },
  {
   "cell_type": "code",
   "execution_count": 259,
   "metadata": {},
   "outputs": [
    {
     "data": {
      "text/plain": [
       "<matplotlib.axes._subplots.AxesSubplot at 0x2a68f7ede08>"
      ]
     },
     "execution_count": 259,
     "metadata": {},
     "output_type": "execute_result"
    },
    {
     "data": {
      "image/png": "[encoded data removed]",
      "text/plain": [
       "<Figure size 432x288 with 1 Axes>"
      ]
     },
     "metadata": {
      "needs_background": "light"
     },
     "output_type": "display_data"
    }
   ],
   "source": [
    "data_train.query('estate_loan<6').estate_loan.hist(bins=15)"
   ]
  },
  {
   "cell_type": "code",
   "execution_count": 264,
   "metadata": {},
   "outputs": [
    {
     "data": {
      "text/html": [
       "<div>\n",
       "<style scoped>\n",
       "    .dataframe tbody tr th:only-of-type {\n",
       "        vertical-align: middle;\n",
       "    }\n",
       "\n",
       "    .dataframe tbody tr th {\n",
       "        vertical-align: top;\n",
       "    }\n",
       "\n",
       "    .dataframe thead th {\n",
       "        text-align: right;\n",
       "    }\n",
       "</style>\n",
       "<table border=\"1\" class=\"dataframe\">\n",
       "  <thead>\n",
       "    <tr style=\"text-align: right;\">\n",
       "      <th>target</th>\n",
       "      <th>0</th>\n",
       "      <th>1</th>\n",
       "      <th>woe</th>\n",
       "    </tr>\n",
       "    <tr>\n",
       "      <th>estate_loan</th>\n",
       "      <th></th>\n",
       "      <th></th>\n",
       "      <th></th>\n",
       "    </tr>\n",
       "  </thead>\n",
       "  <tbody>\n",
       "    <tr>\n",
       "      <th>(-inf, 0.0]</th>\n",
       "      <td>48840</td>\n",
       "      <td>4540</td>\n",
       "      <td>0.249519</td>\n",
       "    </tr>\n",
       "    <tr>\n",
       "      <th>(0.0, 1.0]</th>\n",
       "      <td>48477</td>\n",
       "      <td>2714</td>\n",
       "      <td>-0.257524</td>\n",
       "    </tr>\n",
       "    <tr>\n",
       "      <th>(1.0, 2.0]</th>\n",
       "      <td>29411</td>\n",
       "      <td>1745</td>\n",
       "      <td>-0.199473</td>\n",
       "    </tr>\n",
       "    <tr>\n",
       "      <th>(2.0, 3.0]</th>\n",
       "      <td>5812</td>\n",
       "      <td>418</td>\n",
       "      <td>-0.007057</td>\n",
       "    </tr>\n",
       "    <tr>\n",
       "      <th>(3.0, 5.0]</th>\n",
       "      <td>2545</td>\n",
       "      <td>274</td>\n",
       "      <td>0.396384</td>\n",
       "    </tr>\n",
       "    <tr>\n",
       "      <th>(5.0, inf]</th>\n",
       "      <td>647</td>\n",
       "      <td>140</td>\n",
       "      <td>1.094438</td>\n",
       "    </tr>\n",
       "  </tbody>\n",
       "</table>\n",
       "</div>"
      ],
      "text/plain": [
       "target           0     1       woe\n",
       "estate_loan                       \n",
       "(-inf, 0.0]  48840  4540  0.249519\n",
       "(0.0, 1.0]   48477  2714 -0.257524\n",
       "(1.0, 2.0]   29411  1745 -0.199473\n",
       "(2.0, 3.0]    5812   418 -0.007057\n",
       "(3.0, 5.0]    2545   274  0.396384\n",
       "(5.0, inf]     647   140  1.094438"
      ]
     },
     "metadata": {},
     "output_type": "display_data"
    },
    {
     "data": {
      "text/plain": [
       "0.06812956409186506"
      ]
     },
     "metadata": {},
     "output_type": "display_data"
    },
    {
     "data": {
      "text/plain": [
       "<matplotlib.axes._subplots.AxesSubplot at 0x2a69a2a8f88>"
      ]
     },
     "execution_count": 264,
     "metadata": {},
     "output_type": "execute_result"
    },
    {
     "data": {
      "image/png": "[encoded data removed]",
      "text/plain": [
       "<Figure size 432x288 with 1 Axes>"
      ]
     },
     "metadata": {
      "needs_background": "light"
     },
     "output_type": "display_data"
    }
   ],
   "source": [
    "estate_box,estate_iv = init_box(data_train[['estate_loan','target']],\n",
    "                               n_split = [-np.inf, 0, 1, 2, 3, 5, np.inf])\n",
    "# estate_box,estate_iv = spearman_box(data_train[['estate_loan','target']],r_thr=.05)\n",
    "display(estate_box,estate_iv)\n",
    "estate_box.woe.plot(kind='bar',title=f'IV: {estate_iv:.4f}')"
   ]
  },
  {
   "cell_type": "code",
   "execution_count": 265,
   "metadata": {},
   "outputs": [
    {
     "data": {
      "text/plain": [
       "<matplotlib.axes._subplots.AxesSubplot at 0x2a69a349908>"
      ]
     },
     "execution_count": 265,
     "metadata": {},
     "output_type": "execute_result"
    },
    {
     "data": {
      "image/png": "[encoded data removed]",
      "text/plain": [
       "<Figure size 432x288 with 1 Axes>"
      ]
     },
     "metadata": {
      "needs_background": "light"
     },
     "output_type": "display_data"
    }
   ],
   "source": [
    "data_train.Dependents.hist(bins=500)"
   ]
  },
  {
   "cell_type": "code",
   "execution_count": 266,
   "metadata": {},
   "outputs": [
    {
     "data": {
      "text/html": [
       "<div>\n",
       "<style scoped>\n",
       "    .dataframe tbody tr th:only-of-type {\n",
       "        vertical-align: middle;\n",
       "    }\n",
       "\n",
       "    .dataframe tbody tr th {\n",
       "        vertical-align: top;\n",
       "    }\n",
       "\n",
       "    .dataframe thead th {\n",
       "        text-align: right;\n",
       "    }\n",
       "</style>\n",
       "<table border=\"1\" class=\"dataframe\">\n",
       "  <thead>\n",
       "    <tr style=\"text-align: right;\">\n",
       "      <th>target</th>\n",
       "      <th>0</th>\n",
       "      <th>1</th>\n",
       "      <th>woe</th>\n",
       "    </tr>\n",
       "    <tr>\n",
       "      <th>Dependents</th>\n",
       "      <th></th>\n",
       "      <th></th>\n",
       "      <th></th>\n",
       "    </tr>\n",
       "  </thead>\n",
       "  <tbody>\n",
       "    <tr>\n",
       "      <th>(-inf, 0.0]</th>\n",
       "      <td>81313</td>\n",
       "      <td>5079</td>\n",
       "      <td>-0.148050</td>\n",
       "    </tr>\n",
       "    <tr>\n",
       "      <th>(0.0, 1.0]</th>\n",
       "      <td>24379</td>\n",
       "      <td>1935</td>\n",
       "      <td>0.091527</td>\n",
       "    </tr>\n",
       "    <tr>\n",
       "      <th>(1.0, 2.0]</th>\n",
       "      <td>17937</td>\n",
       "      <td>1584</td>\n",
       "      <td>0.198229</td>\n",
       "    </tr>\n",
       "    <tr>\n",
       "      <th>(2.0, 3.0]</th>\n",
       "      <td>8646</td>\n",
       "      <td>837</td>\n",
       "      <td>0.290114</td>\n",
       "    </tr>\n",
       "    <tr>\n",
       "      <th>(3.0, 5.0]</th>\n",
       "      <td>3243</td>\n",
       "      <td>365</td>\n",
       "      <td>0.440785</td>\n",
       "    </tr>\n",
       "    <tr>\n",
       "      <th>(5.0, inf]</th>\n",
       "      <td>214</td>\n",
       "      <td>31</td>\n",
       "      <td>0.693153</td>\n",
       "    </tr>\n",
       "  </tbody>\n",
       "</table>\n",
       "</div>"
      ],
      "text/plain": [
       "target           0     1       woe\n",
       "Dependents                        \n",
       "(-inf, 0.0]  81313  5079 -0.148050\n",
       "(0.0, 1.0]   24379  1935  0.091527\n",
       "(1.0, 2.0]   17937  1584  0.198229\n",
       "(2.0, 3.0]    8646   837  0.290114\n",
       "(3.0, 5.0]    3243   365  0.440785\n",
       "(5.0, inf]     214    31  0.693153"
      ]
     },
     "metadata": {},
     "output_type": "display_data"
    },
    {
     "data": {
      "text/plain": [
       "0.03267055012571012"
      ]
     },
     "metadata": {},
     "output_type": "display_data"
    },
    {
     "data": {
      "text/plain": [
       "Text(0.5, 0, 'Dependents')"
      ]
     },
     "execution_count": 266,
     "metadata": {},
     "output_type": "execute_result"
    },
    {
     "data": {
      "image/png": "[encoded data removed]",
      "text/plain": [
       "<Figure size 432x288 with 1 Axes>"
      ]
     },
     "metadata": {
      "needs_background": "light"
     },
     "output_type": "display_data"
    }
   ],
   "source": [
    "depend_box,depend_iv = init_box(data_train[['Dependents','target']],\n",
    "                               n_split = [-np.inf, 0, 1, 2, 3, 5, np.inf])\n",
    "# depend_box,depend_iv = chi2_box(data_train[['Dependents','target']])\n",
    "display(depend_box,depend_iv)\n",
    "plt.figure()\n",
    "depend_box.woe.plot(kind='bar',title=f'IV: {depend_iv:.4f}')\n",
    "plt.xlabel('Dependents')"
   ]
  },
  {
   "cell_type": "markdown",
   "metadata": {},
   "source": [
    "## WOE替换"
   ]
  },
  {
   "cell_type": "code",
   "execution_count": 300,
   "metadata": {},
   "outputs": [
    {
     "data": {
      "text/plain": [
       "target             int64\n",
       "percentage       float64\n",
       "age              float64\n",
       "30-59            float64\n",
       "DebtRatio        float64\n",
       "MonthlyIncome    float64\n",
       "open_loan        float64\n",
       "90-              float64\n",
       "estate_loan      float64\n",
       "60-89            float64\n",
       "Dependents       float64\n",
       "dtype: object"
      ]
     },
     "execution_count": 300,
     "metadata": {},
     "output_type": "execute_result"
    }
   ],
   "source": [
    "data_train.dtypes"
   ]
  },
  {
   "cell_type": "code",
   "execution_count": 322,
   "metadata": {},
   "outputs": [],
   "source": [
    "woe_map = { 'percentage':per_box,\n",
    "            'age':age_box,\n",
    "            '30-59':n30_box,\n",
    "            'DebtRatio':debt_box,\n",
    "            'MonthlyIncome':MI_box,\n",
    "            'open_loan':loan_box,\n",
    "            '90-':n90_box,\n",
    "            'estate_loan':estate_box,\n",
    "            '60-89':n60_box,\n",
    "            'Dependents':depend_box}\n",
    "def woe_swag(df,woe=woe_map):\n",
    "    df2={k:v.loc[df[k],'woe'].reset_index(drop=True) for k,v in woe.items()}\n",
    "    df2['target'] = df.target\n",
    "    return pd.DataFrame(df2)"
   ]
  },
  {
   "cell_type": "code",
   "execution_count": 307,
   "metadata": {},
   "outputs": [],
   "source": [
    "## 替换变量\n",
    "# data_train_bak = data_train.copy()\n",
    "# data_train = data_train_bak.copy()"
   ]
  },
  {
   "cell_type": "code",
   "execution_count": 308,
   "metadata": {},
   "outputs": [],
   "source": [
    "data_train = woe_swag(data_train)"
   ]
  },
  {
   "cell_type": "code",
   "execution_count": 309,
   "metadata": {},
   "outputs": [
    {
     "data": {
      "text/html": [
       "<div>\n",
       "<style scoped>\n",
       "    .dataframe tbody tr th:only-of-type {\n",
       "        vertical-align: middle;\n",
       "    }\n",
       "\n",
       "    .dataframe tbody tr th {\n",
       "        vertical-align: top;\n",
       "    }\n",
       "\n",
       "    .dataframe thead th {\n",
       "        text-align: right;\n",
       "    }\n",
       "</style>\n",
       "<table border=\"1\" class=\"dataframe\">\n",
       "  <thead>\n",
       "    <tr style=\"text-align: right;\">\n",
       "      <th></th>\n",
       "      <th>percentage</th>\n",
       "      <th>age</th>\n",
       "      <th>30-59</th>\n",
       "      <th>DebtRatio</th>\n",
       "      <th>MonthlyIncome</th>\n",
       "      <th>open_loan</th>\n",
       "      <th>90-</th>\n",
       "      <th>estate_loan</th>\n",
       "      <th>60-89</th>\n",
       "      <th>Dependents</th>\n",
       "    </tr>\n",
       "  </thead>\n",
       "  <tbody>\n",
       "    <tr>\n",
       "      <th>0</th>\n",
       "      <td>0.808801</td>\n",
       "      <td>0.157954</td>\n",
       "      <td>1.604356</td>\n",
       "      <td>0.553351</td>\n",
       "      <td>-0.287865</td>\n",
       "      <td>-0.149013</td>\n",
       "      <td>-0.387441</td>\n",
       "      <td>1.094438</td>\n",
       "      <td>-0.285138</td>\n",
       "      <td>0.198229</td>\n",
       "    </tr>\n",
       "    <tr>\n",
       "      <th>1</th>\n",
       "      <td>1.198760</td>\n",
       "      <td>0.328633</td>\n",
       "      <td>-0.539718</td>\n",
       "      <td>-0.070896</td>\n",
       "      <td>0.336083</td>\n",
       "      <td>-0.037839</td>\n",
       "      <td>-0.387441</td>\n",
       "      <td>0.249519</td>\n",
       "      <td>-0.285138</td>\n",
       "      <td>0.091527</td>\n",
       "    </tr>\n",
       "    <tr>\n",
       "      <th>2</th>\n",
       "      <td>0.419031</td>\n",
       "      <td>0.328633</td>\n",
       "      <td>0.891163</td>\n",
       "      <td>-0.070896</td>\n",
       "      <td>0.336083</td>\n",
       "      <td>0.779051</td>\n",
       "      <td>1.952974</td>\n",
       "      <td>0.249519</td>\n",
       "      <td>-0.285138</td>\n",
       "      <td>-0.148050</td>\n",
       "    </tr>\n",
       "    <tr>\n",
       "      <th>3</th>\n",
       "      <td>-0.586045</td>\n",
       "      <td>0.555701</td>\n",
       "      <td>-0.539718</td>\n",
       "      <td>-0.120613</td>\n",
       "      <td>0.336083</td>\n",
       "      <td>-0.037839</td>\n",
       "      <td>-0.387441</td>\n",
       "      <td>0.249519</td>\n",
       "      <td>-0.285138</td>\n",
       "      <td>-0.148050</td>\n",
       "    </tr>\n",
       "    <tr>\n",
       "      <th>4</th>\n",
       "      <td>1.198760</td>\n",
       "      <td>0.157954</td>\n",
       "      <td>0.891163</td>\n",
       "      <td>-0.120613</td>\n",
       "      <td>-0.403669</td>\n",
       "      <td>-0.195251</td>\n",
       "      <td>-0.387441</td>\n",
       "      <td>-0.257524</td>\n",
       "      <td>-0.285138</td>\n",
       "      <td>-0.148050</td>\n",
       "    </tr>\n",
       "  </tbody>\n",
       "</table>\n",
       "</div>"
      ],
      "text/plain": [
       "   percentage       age     30-59  DebtRatio  MonthlyIncome  open_loan  \\\n",
       "0    0.808801  0.157954  1.604356   0.553351      -0.287865  -0.149013   \n",
       "1    1.198760  0.328633 -0.539718  -0.070896       0.336083  -0.037839   \n",
       "2    0.419031  0.328633  0.891163  -0.070896       0.336083   0.779051   \n",
       "3   -0.586045  0.555701 -0.539718  -0.120613       0.336083  -0.037839   \n",
       "4    1.198760  0.157954  0.891163  -0.120613      -0.403669  -0.195251   \n",
       "\n",
       "        90-  estate_loan     60-89  Dependents  \n",
       "0 -0.387441     1.094438 -0.285138    0.198229  \n",
       "1 -0.387441     0.249519 -0.285138    0.091527  \n",
       "2  1.952974     0.249519 -0.285138   -0.148050  \n",
       "3 -0.387441     0.249519 -0.285138   -0.148050  \n",
       "4 -0.387441    -0.257524 -0.285138   -0.148050  "
      ]
     },
     "execution_count": 309,
     "metadata": {},
     "output_type": "execute_result"
    }
   ],
   "source": [
    "data_train.head()"
   ]
  },
  {
   "cell_type": "code",
   "execution_count": 290,
   "metadata": {},
   "outputs": [],
   "source": [
    "## 将正负样本SMOTE\n",
    "X, y = data_train.iloc[:,:-1].values, data_train.iloc[:,-1:].values\n",
    "from imblearn.over_sampling import SMOTE\n",
    "smote = SMOTE(sampling_strategy=.5,n_jobs=-1)\n",
    "X_res, y_res = smote.fit_resample(X, y)"
   ]
  },
  {
   "cell_type": "markdown",
   "metadata": {},
   "source": [
    "## 模型训练"
   ]
  },
  {
   "cell_type": "code",
   "execution_count": 293,
   "metadata": {},
   "outputs": [],
   "source": [
    "from sklearn.linear_model import LogisticRegression\n",
    "from sklearn.preprocessing import StandardScaler\n",
    "# from sklearn.model_selection import train_test_split"
   ]
  },
  {
   "cell_type": "code",
   "execution_count": 295,
   "metadata": {},
   "outputs": [],
   "source": [
    "ss = StandardScaler()\n",
    "X_res = ss.fit_transform(X_res)\n",
    "# X_test = ss.transform(X_test)"
   ]
  },
  {
   "cell_type": "code",
   "execution_count": 313,
   "metadata": {},
   "outputs": [
    {
     "data": {
      "text/plain": [
       "LogisticRegression()"
      ]
     },
     "execution_count": 313,
     "metadata": {},
     "output_type": "execute_result"
    }
   ],
   "source": [
    "lr = LogisticRegression()\n",
    "lr.fit(X_res,y_res)"
   ]
  },
  {
   "cell_type": "markdown",
   "metadata": {},
   "source": [
    "## 模型评估"
   ]
  },
  {
   "cell_type": "code",
   "execution_count": 333,
   "metadata": {},
   "outputs": [],
   "source": [
    "from sklearn.metrics import roc_curve, auc, RocCurveDisplay"
   ]
  },
  {
   "cell_type": "code",
   "execution_count": 340,
   "metadata": {},
   "outputs": [
    {
     "data": {
      "text/plain": [
       "array([0.82905978, 0.43580942, 0.81355667, ..., 0.23053305, 0.90821262,\n",
       "       0.60206122])"
      ]
     },
     "execution_count": 340,
     "metadata": {},
     "output_type": "execute_result"
    }
   ],
   "source": [
    "y_pred = lr.predict_proba(X_res);y_pred[:,1]"
   ]
  },
  {
   "cell_type": "code",
   "execution_count": 339,
   "metadata": {},
   "outputs": [
    {
     "data": {
      "text/plain": [
       "array([1, 0, 0, ..., 1, 1, 1], dtype=int64)"
      ]
     },
     "execution_count": 339,
     "metadata": {},
     "output_type": "execute_result"
    }
   ],
   "source": [
    "y_res"
   ]
  },
  {
   "cell_type": "code",
   "execution_count": 342,
   "metadata": {},
   "outputs": [
    {
     "data": {
      "text/plain": [
       "0.8588842723515008"
      ]
     },
     "execution_count": 342,
     "metadata": {},
     "output_type": "execute_result"
    }
   ],
   "source": [
    "fpr, tpr, thre = roc_curve(y_res, y_pred[:,1])\n",
    "roc_auc = auc(fpr,tpr); roc_auc"
   ]
  },
  {
   "cell_type": "code",
   "execution_count": 343,
   "metadata": {},
   "outputs": [
    {
     "data": {
      "text/plain": [
       "<sklearn.metrics._plot.roc_curve.RocCurveDisplay at 0x2a6fb88f448>"
      ]
     },
     "execution_count": 343,
     "metadata": {},
     "output_type": "execute_result"
    },
    {
     "data": {
      "image/png": "[encoded data removed]",
      "text/plain": [
       "<Figure size 432x288 with 1 Axes>"
      ]
     },
     "metadata": {
      "needs_background": "light"
     },
     "output_type": "display_data"
    }
   ],
   "source": [
    "RocCurveDisplay(fpr=fpr,tpr=tpr,roc_auc=roc_auc).plot()"
   ]
  },
  {
   "cell_type": "markdown",
   "metadata": {},
   "source": [
    "## 预测提交"
   ]
  },
  {
   "cell_type": "code",
   "execution_count": 349,
   "metadata": {},
   "outputs": [],
   "source": [
    "data_test.rename(columns=col_replace,inplace=True)"
   ]
  },
  {
   "cell_type": "code",
   "execution_count": 350,
   "metadata": {},
   "outputs": [
    {
     "data": {
      "text/plain": [
       "target           101503\n",
       "percentage            0\n",
       "age                   0\n",
       "30-59                 0\n",
       "DebtRatio             0\n",
       "MonthlyIncome     20103\n",
       "open_loan             0\n",
       "90-                   0\n",
       "estate_loan           0\n",
       "60-89                 0\n",
       "Dependents         2626\n",
       "dtype: int64"
      ]
     },
     "execution_count": 350,
     "metadata": {},
     "output_type": "execute_result"
    }
   ],
   "source": [
    "## 准备测试集\n",
    "data_test.isna().sum()"
   ]
  },
  {
   "cell_type": "code",
   "execution_count": 351,
   "metadata": {},
   "outputs": [],
   "source": [
    "fill_len = data_test.Dependents.isna().sum()\n",
    "data_test.loc[data_test.Dependents.isna(),'Dependents']=\\\n",
    "np.random.choice(data_train_bak.loc[data_train_bak.Dependents.notna(),'Dependents'],fill_len,False)"
   ]
  },
  {
   "cell_type": "code",
   "execution_count": 352,
   "metadata": {},
   "outputs": [],
   "source": [
    "fill_len = data_test.MonthlyIncome.isna().sum()\n",
    "data_test.loc[data_test.MonthlyIncome.isna(),'MonthlyIncome']=\\\n",
    "np.random.choice(data_train_bak.loc[data_train_bak.MonthlyIncome.notna(),'MonthlyIncome'],fill_len,False)"
   ]
  },
  {
   "cell_type": "code",
   "execution_count": 355,
   "metadata": {},
   "outputs": [],
   "source": [
    "data_test = woe_swag(data_test)"
   ]
  },
  {
   "cell_type": "code",
   "execution_count": 324,
   "metadata": {},
   "outputs": [
    {
     "data": {
      "text/html": [
       "<div>\n",
       "<style scoped>\n",
       "    .dataframe tbody tr th:only-of-type {\n",
       "        vertical-align: middle;\n",
       "    }\n",
       "\n",
       "    .dataframe tbody tr th {\n",
       "        vertical-align: top;\n",
       "    }\n",
       "\n",
       "    .dataframe thead th {\n",
       "        text-align: right;\n",
       "    }\n",
       "</style>\n",
       "<table border=\"1\" class=\"dataframe\">\n",
       "  <thead>\n",
       "    <tr style=\"text-align: right;\">\n",
       "      <th></th>\n",
       "      <th>percentage</th>\n",
       "      <th>age</th>\n",
       "      <th>30-59</th>\n",
       "      <th>DebtRatio</th>\n",
       "      <th>MonthlyIncome</th>\n",
       "      <th>open_loan</th>\n",
       "      <th>90-</th>\n",
       "      <th>estate_loan</th>\n",
       "      <th>60-89</th>\n",
       "      <th>Dependents</th>\n",
       "      <th>target</th>\n",
       "    </tr>\n",
       "  </thead>\n",
       "  <tbody>\n",
       "    <tr>\n",
       "      <th>0</th>\n",
       "      <td>1.198760</td>\n",
       "      <td>0.328633</td>\n",
       "      <td>-0.539718</td>\n",
       "      <td>-0.070896</td>\n",
       "      <td>-0.088885</td>\n",
       "      <td>-0.037839</td>\n",
       "      <td>-0.387441</td>\n",
       "      <td>0.249519</td>\n",
       "      <td>-0.285138</td>\n",
       "      <td>-0.148050</td>\n",
       "      <td>NaN</td>\n",
       "    </tr>\n",
       "    <tr>\n",
       "      <th>1</th>\n",
       "      <td>0.144396</td>\n",
       "      <td>-0.095919</td>\n",
       "      <td>-0.539718</td>\n",
       "      <td>0.292684</td>\n",
       "      <td>-0.287865</td>\n",
       "      <td>0.035548</td>\n",
       "      <td>-0.387441</td>\n",
       "      <td>0.396384</td>\n",
       "      <td>-0.285138</td>\n",
       "      <td>0.198229</td>\n",
       "      <td>NaN</td>\n",
       "    </tr>\n",
       "    <tr>\n",
       "      <th>2</th>\n",
       "      <td>-1.587446</td>\n",
       "      <td>-0.364289</td>\n",
       "      <td>-0.539718</td>\n",
       "      <td>0.379035</td>\n",
       "      <td>0.112459</td>\n",
       "      <td>-0.149013</td>\n",
       "      <td>-0.387441</td>\n",
       "      <td>-0.257524</td>\n",
       "      <td>-0.285138</td>\n",
       "      <td>0.198229</td>\n",
       "      <td>NaN</td>\n",
       "    </tr>\n",
       "    <tr>\n",
       "      <th>3</th>\n",
       "      <td>-0.354265</td>\n",
       "      <td>0.328633</td>\n",
       "      <td>0.891163</td>\n",
       "      <td>0.617674</td>\n",
       "      <td>0.336083</td>\n",
       "      <td>-0.195251</td>\n",
       "      <td>-0.387441</td>\n",
       "      <td>-0.199473</td>\n",
       "      <td>-0.285138</td>\n",
       "      <td>-0.148050</td>\n",
       "      <td>NaN</td>\n",
       "    </tr>\n",
       "    <tr>\n",
       "      <th>4</th>\n",
       "      <td>1.198760</td>\n",
       "      <td>0.555701</td>\n",
       "      <td>-0.539718</td>\n",
       "      <td>-0.120613</td>\n",
       "      <td>0.112459</td>\n",
       "      <td>-0.037839</td>\n",
       "      <td>-0.387441</td>\n",
       "      <td>0.249519</td>\n",
       "      <td>-0.285138</td>\n",
       "      <td>0.091527</td>\n",
       "      <td>NaN</td>\n",
       "    </tr>\n",
       "  </tbody>\n",
       "</table>\n",
       "</div>"
      ],
      "text/plain": [
       "   percentage       age     30-59  DebtRatio  MonthlyIncome  open_loan  \\\n",
       "0    1.198760  0.328633 -0.539718  -0.070896      -0.088885  -0.037839   \n",
       "1    0.144396 -0.095919 -0.539718   0.292684      -0.287865   0.035548   \n",
       "2   -1.587446 -0.364289 -0.539718   0.379035       0.112459  -0.149013   \n",
       "3   -0.354265  0.328633  0.891163   0.617674       0.336083  -0.195251   \n",
       "4    1.198760  0.555701 -0.539718  -0.120613       0.112459  -0.037839   \n",
       "\n",
       "        90-  estate_loan     60-89  Dependents  target  \n",
       "0 -0.387441     0.249519 -0.285138   -0.148050     NaN  \n",
       "1 -0.387441     0.396384 -0.285138    0.198229     NaN  \n",
       "2 -0.387441    -0.257524 -0.285138    0.198229     NaN  \n",
       "3 -0.387441    -0.199473 -0.285138   -0.148050     NaN  \n",
       "4 -0.387441     0.249519 -0.285138    0.091527     NaN  "
      ]
     },
     "execution_count": 324,
     "metadata": {},
     "output_type": "execute_result"
    }
   ],
   "source": [
    "data_test.head()"
   ]
  },
  {
   "cell_type": "code",
   "execution_count": null,
   "metadata": {},
   "outputs": [],
   "source": [
    "X_test = ss.transform(data_test.iloc[:,:-1].values)"
   ]
  },
  {
   "cell_type": "code",
   "execution_count": null,
   "metadata": {},
   "outputs": [],
   "source": [
    "to_submit = lr.predict_proba(data_test.iloc[:,:-1].values)"
   ]
  }
 ],
 "metadata": {
  "kernelspec": {
   "display_name": "Python 3",
   "language": "python",
   "name": "python3"
  },
  "language_info": {
   "codemirror_mode": {
    "name": "ipython",
    "version": 3
   },
   "file_extension": ".py",
   "mimetype": "text/x-python",
   "name": "python",
   "nbconvert_exporter": "python",
   "pygments_lexer": "ipython3",
   "version": "3.7.4"
  }
 },
 "nbformat": 4,
 "nbformat_minor": 4
}
