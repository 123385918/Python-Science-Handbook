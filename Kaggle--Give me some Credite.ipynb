{
 "cells": [
  {
   "cell_type": "code",
   "execution_count": 1,
   "metadata": {},
   "outputs": [],
   "source": [
    "import pandas as pd\n",
    "import matplotlib.pyplot as plt\n",
    "import numpy as np\n",
    "import seaborn as sns\n",
    "import scipy\n",
    "# %matplotlib qt5\n",
    "%matplotlib inline"
   ]
  },
  {
   "cell_type": "code",
   "execution_count": 3,
   "metadata": {},
   "outputs": [],
   "source": [
    "data_test = pd.read_csv('./cs-test.csv',index_col=0)"
   ]
  },
  {
   "cell_type": "code",
   "execution_count": 7,
   "metadata": {},
   "outputs": [
    {
     "name": "stdout",
     "output_type": "stream",
     "text": [
      "<class 'pandas.core.frame.DataFrame'>\n",
      "Int64Index: 101503 entries, 1 to 101503\n",
      "Data columns (total 11 columns):\n",
      "SeriousDlqin2yrs                        0 non-null float64\n",
      "RevolvingUtilizationOfUnsecuredLines    101503 non-null float64\n",
      "age                                     101503 non-null int64\n",
      "NumberOfTime30-59DaysPastDueNotWorse    101503 non-null int64\n",
      "DebtRatio                               101503 non-null float64\n",
      "MonthlyIncome                           81400 non-null float64\n",
      "NumberOfOpenCreditLinesAndLoans         101503 non-null int64\n",
      "NumberOfTimes90DaysLate                 101503 non-null int64\n",
      "NumberRealEstateLoansOrLines            101503 non-null int64\n",
      "NumberOfTime60-89DaysPastDueNotWorse    101503 non-null int64\n",
      "NumberOfDependents                      98877 non-null float64\n",
      "dtypes: float64(5), int64(6)\n",
      "memory usage: 9.3 MB\n"
     ]
    }
   ],
   "source": [
    "data_test.info()"
   ]
  },
  {
   "cell_type": "code",
   "execution_count": 8,
   "metadata": {},
   "outputs": [],
   "source": [
    "data_train = pd.read_csv('./cs-training.csv',index_col=0)"
   ]
  },
  {
   "cell_type": "code",
   "execution_count": 9,
   "metadata": {},
   "outputs": [
    {
     "data": {
      "text/plain": [
       "Index(['DebtRatio', 'MonthlyIncome', 'NumberOfDependents',\n",
       "       'NumberOfOpenCreditLinesAndLoans',\n",
       "       'NumberOfTime30-59DaysPastDueNotWorse',\n",
       "       'NumberOfTime60-89DaysPastDueNotWorse', 'NumberOfTimes90DaysLate',\n",
       "       'NumberRealEstateLoansOrLines', 'RevolvingUtilizationOfUnsecuredLines',\n",
       "       'SeriousDlqin2yrs', 'age'],\n",
       "      dtype='object')"
      ]
     },
     "execution_count": 9,
     "metadata": {},
     "output_type": "execute_result"
    }
   ],
   "source": [
    "data_train.columns.sort_values()"
   ]
  },
  {
   "cell_type": "code",
   "execution_count": 10,
   "metadata": {},
   "outputs": [],
   "source": [
    "col_replace = {'SeriousDlqin2yrs':'target', ## 违约客户及超过90天逾期客户，bool型；\n",
    "            'RevolvingUtilizationOfUnsecuredLines':'percentage', ## 贷款以及信用卡可用额度与总额度比例，百分比；\n",
    "           'NumberOfOpenCreditLinesAndLoans':'open_loan', ## 开放式信贷和贷款数量，开放式贷款（分期付款如汽车贷款或抵押贷款）和信贷（如信用卡）的数量，整型；\n",
    "           'NumberOfTimes90DaysLate':'90-', ## 90天逾期次数：借款者有90天或更高逾期的次数，整型；\n",
    "           'NumberRealEstateLoansOrLines':'estate_loan', ## 不动产贷款或额度数量：抵押贷款和不动产放款包括房屋净值信贷额度，整型；\n",
    "           'NumberOfTime60-89DaysPastDueNotWorse':'60-89', ## 60-89天逾期但不糟糕次数，整型；\n",
    "           'NumberOfDependents':'Dependents', ## 家属数量：不包括本人在内的家属数量，整型；\n",
    "           'NumberOfTime30-59DaysPastDueNotWorse':'30-59' ## 35-59天逾期但不糟糕次数，整型；\n",
    "              }\n",
    "data_train.rename(columns=col_replace,inplace=True)"
   ]
  },
  {
   "cell_type": "code",
   "execution_count": 11,
   "metadata": {},
   "outputs": [
    {
     "data": {
      "text/html": [
       "<div>\n",
       "<style scoped>\n",
       "    .dataframe tbody tr th:only-of-type {\n",
       "        vertical-align: middle;\n",
       "    }\n",
       "\n",
       "    .dataframe tbody tr th {\n",
       "        vertical-align: top;\n",
       "    }\n",
       "\n",
       "    .dataframe thead th {\n",
       "        text-align: right;\n",
       "    }\n",
       "</style>\n",
       "<table border=\"1\" class=\"dataframe\">\n",
       "  <thead>\n",
       "    <tr style=\"text-align: right;\">\n",
       "      <th></th>\n",
       "      <th>target</th>\n",
       "      <th>percentage</th>\n",
       "      <th>age</th>\n",
       "      <th>30-59</th>\n",
       "      <th>DebtRatio</th>\n",
       "      <th>MonthlyIncome</th>\n",
       "      <th>open_loan</th>\n",
       "      <th>90-</th>\n",
       "      <th>estate_loan</th>\n",
       "      <th>60-89</th>\n",
       "      <th>Dependents</th>\n",
       "    </tr>\n",
       "  </thead>\n",
       "  <tbody>\n",
       "    <tr>\n",
       "      <th>1</th>\n",
       "      <td>1</td>\n",
       "      <td>0.766127</td>\n",
       "      <td>45</td>\n",
       "      <td>2</td>\n",
       "      <td>0.802982</td>\n",
       "      <td>9120.0</td>\n",
       "      <td>13</td>\n",
       "      <td>0</td>\n",
       "      <td>6</td>\n",
       "      <td>0</td>\n",
       "      <td>2.0</td>\n",
       "    </tr>\n",
       "    <tr>\n",
       "      <th>2</th>\n",
       "      <td>0</td>\n",
       "      <td>0.957151</td>\n",
       "      <td>40</td>\n",
       "      <td>0</td>\n",
       "      <td>0.121876</td>\n",
       "      <td>2600.0</td>\n",
       "      <td>4</td>\n",
       "      <td>0</td>\n",
       "      <td>0</td>\n",
       "      <td>0</td>\n",
       "      <td>1.0</td>\n",
       "    </tr>\n",
       "    <tr>\n",
       "      <th>3</th>\n",
       "      <td>0</td>\n",
       "      <td>0.658180</td>\n",
       "      <td>38</td>\n",
       "      <td>1</td>\n",
       "      <td>0.085113</td>\n",
       "      <td>3042.0</td>\n",
       "      <td>2</td>\n",
       "      <td>1</td>\n",
       "      <td>0</td>\n",
       "      <td>0</td>\n",
       "      <td>0.0</td>\n",
       "    </tr>\n",
       "    <tr>\n",
       "      <th>4</th>\n",
       "      <td>0</td>\n",
       "      <td>0.233810</td>\n",
       "      <td>30</td>\n",
       "      <td>0</td>\n",
       "      <td>0.036050</td>\n",
       "      <td>3300.0</td>\n",
       "      <td>5</td>\n",
       "      <td>0</td>\n",
       "      <td>0</td>\n",
       "      <td>0</td>\n",
       "      <td>0.0</td>\n",
       "    </tr>\n",
       "    <tr>\n",
       "      <th>5</th>\n",
       "      <td>0</td>\n",
       "      <td>0.907239</td>\n",
       "      <td>49</td>\n",
       "      <td>1</td>\n",
       "      <td>0.024926</td>\n",
       "      <td>63588.0</td>\n",
       "      <td>7</td>\n",
       "      <td>0</td>\n",
       "      <td>1</td>\n",
       "      <td>0</td>\n",
       "      <td>0.0</td>\n",
       "    </tr>\n",
       "  </tbody>\n",
       "</table>\n",
       "</div>"
      ],
      "text/plain": [
       "   target  percentage  age  30-59  DebtRatio  MonthlyIncome  open_loan  90-  \\\n",
       "1       1    0.766127   45      2   0.802982         9120.0         13    0   \n",
       "2       0    0.957151   40      0   0.121876         2600.0          4    0   \n",
       "3       0    0.658180   38      1   0.085113         3042.0          2    1   \n",
       "4       0    0.233810   30      0   0.036050         3300.0          5    0   \n",
       "5       0    0.907239   49      1   0.024926        63588.0          7    0   \n",
       "\n",
       "   estate_loan  60-89  Dependents  \n",
       "1            6      0         2.0  \n",
       "2            0      0         1.0  \n",
       "3            0      0         0.0  \n",
       "4            0      0         0.0  \n",
       "5            1      0         0.0  "
      ]
     },
     "execution_count": 11,
     "metadata": {},
     "output_type": "execute_result"
    }
   ],
   "source": [
    "data_train.head()"
   ]
  },
  {
   "cell_type": "code",
   "execution_count": 12,
   "metadata": {},
   "outputs": [
    {
     "name": "stdout",
     "output_type": "stream",
     "text": [
      "<class 'pandas.core.frame.DataFrame'>\n",
      "Int64Index: 150000 entries, 1 to 150000\n",
      "Data columns (total 11 columns):\n",
      "target           150000 non-null int64\n",
      "percentage       150000 non-null float64\n",
      "age              150000 non-null int64\n",
      "30-59            150000 non-null int64\n",
      "DebtRatio        150000 non-null float64\n",
      "MonthlyIncome    120269 non-null float64\n",
      "open_loan        150000 non-null int64\n",
      "90-              150000 non-null int64\n",
      "estate_loan      150000 non-null int64\n",
      "60-89            150000 non-null int64\n",
      "Dependents       146076 non-null float64\n",
      "dtypes: float64(4), int64(7)\n",
      "memory usage: 13.7 MB\n"
     ]
    }
   ],
   "source": [
    "data_train.info() ## 说明只有两项有缺失值"
   ]
  },
  {
   "cell_type": "markdown",
   "metadata": {},
   "source": [
    "## 重复值"
   ]
  },
  {
   "cell_type": "code",
   "execution_count": 13,
   "metadata": {},
   "outputs": [
    {
     "data": {
      "text/plain": [
       "609"
      ]
     },
     "execution_count": 13,
     "metadata": {},
     "output_type": "execute_result"
    }
   ],
   "source": [
    "data_train.duplicated().sum()"
   ]
  },
  {
   "cell_type": "code",
   "execution_count": 14,
   "metadata": {},
   "outputs": [],
   "source": [
    "data_train.drop_duplicates(inplace=True)"
   ]
  },
  {
   "cell_type": "markdown",
   "metadata": {},
   "source": [
    "## 缺失值"
   ]
  },
  {
   "cell_type": "code",
   "execution_count": 15,
   "metadata": {},
   "outputs": [
    {
     "data": {
      "text/plain": [
       "0.13100167687621916"
      ]
     },
     "execution_count": 15,
     "metadata": {},
     "output_type": "execute_result"
    }
   ],
   "source": [
    "data_train.loc[data_train.MonthlyIncome.isna(),'Dependents'].isna().mean()"
   ]
  },
  {
   "cell_type": "code",
   "execution_count": 16,
   "metadata": {},
   "outputs": [
    {
     "data": {
      "text/plain": [
       "1.0"
      ]
     },
     "execution_count": 16,
     "metadata": {},
     "output_type": "execute_result"
    }
   ],
   "source": [
    "data_train.loc[data_train.Dependents.isna(),'MonthlyIncome'].isna().mean() ## 结果1，说明家属没填的，月收入都没填。"
   ]
  },
  {
   "cell_type": "code",
   "execution_count": 17,
   "metadata": {},
   "outputs": [],
   "source": [
    "data_train.dropna(subset=['Dependents'],inplace=True) ## 去掉两项都缺的项。"
   ]
  },
  {
   "cell_type": "code",
   "execution_count": 18,
   "metadata": {},
   "outputs": [
    {
     "data": {
      "image/png": "[encoded data removed]",
      "text/plain": [
       "<Figure size 1152x648 with 11 Axes>"
      ]
     },
     "metadata": {
      "needs_background": "light"
     },
     "output_type": "display_data"
    }
   ],
   "source": [
    "## 考察其他项有什么特征\n",
    "plt.figure(figsize=(16,9))\n",
    "for i,col in enumerate(data_train.columns):\n",
    "    plt.subplot(3,4,i+1)\n",
    "    data_train[col].hist(bins=50)\n",
    "    plt.ylabel(col)"
   ]
  },
  {
   "cell_type": "code",
   "execution_count": 38,
   "metadata": {},
   "outputs": [
    {
     "data": {
      "text/plain": [
       "(array([ 7830., 19028., 24132., 21627., 14975., 11265.,  7993.,  4405.,\n",
       "         2623.,  1762.]),\n",
       " array([    0. ,  1599.9,  3199.8,  4799.7,  6399.6,  7999.5,  9599.4,\n",
       "        11199.3, 12799.2, 14399.1, 15999. ]),\n",
       " <a list of 10 Patch objects>)"
      ]
     },
     "execution_count": 38,
     "metadata": {},
     "output_type": "execute_result"
    },
    {
     "data": {
      "image/png": "[encoded data removed]",
      "text/plain": [
       "<Figure size 432x288 with 2 Axes>"
      ]
     },
     "metadata": {
      "needs_background": "light"
     },
     "output_type": "display_data"
    }
   ],
   "source": [
    "## 填充缺失值\n",
    "from sklearn.experimental import enable_iterative_imputer\n",
    "from sklearn.impute import IterativeImputer\n",
    "from sklearn.ensemble import ExtraTreesRegressor\n",
    "from sklearn.impute import KNNImputer\n",
    "miss_imputer = IterativeImputer(ExtraTreesRegressor(10),initial_strategy=\"most_frequent\",max_iter=5)\n",
    "# miss_imputer2 = KNNImputer()\n",
    "data_train_bak = data_train.copy()\n",
    "data_train_bak.iloc[:,:-1]=miss_imputer.fit_transform(X=data_train.iloc[:,:-1])\n",
    "\n",
    "plt.subplot(121)\n",
    "plt.hist(data_train_bak.loc[data_train_bak.MonthlyIncome<16000,'MonthlyIncome'])\n",
    "plt.subplot(122)\n",
    "plt.hist(data_train.loc[data_train.MonthlyIncome<16000,'MonthlyIncome'])\n",
    "## 填充结果改变了数据分布，不采用。"
   ]
  },
  {
   "cell_type": "code",
   "execution_count": 19,
   "metadata": {},
   "outputs": [],
   "source": [
    "## 有缺失值的两列均改用未缺失项随机抽样填充\n",
    "fill_len = data_train.MonthlyIncome.isna().sum()\n",
    "data_train.loc[data_train.MonthlyIncome.isna(),'MonthlyIncome']=\\\n",
    "np.random.choice(data_train.loc[data_train.MonthlyIncome.notna(),'MonthlyIncome'],fill_len,False)"
   ]
  },
  {
   "cell_type": "code",
   "execution_count": 20,
   "metadata": {},
   "outputs": [
    {
     "name": "stdout",
     "output_type": "stream",
     "text": [
      "<class 'pandas.core.frame.DataFrame'>\n",
      "Int64Index: 145563 entries, 1 to 150000\n",
      "Data columns (total 11 columns):\n",
      "target           145563 non-null int64\n",
      "percentage       145563 non-null float64\n",
      "age              145563 non-null int64\n",
      "30-59            145563 non-null int64\n",
      "DebtRatio        145563 non-null float64\n",
      "MonthlyIncome    145563 non-null float64\n",
      "open_loan        145563 non-null int64\n",
      "90-              145563 non-null int64\n",
      "estate_loan      145563 non-null int64\n",
      "60-89            145563 non-null int64\n",
      "Dependents       145563 non-null float64\n",
      "dtypes: float64(4), int64(7)\n",
      "memory usage: 13.3 MB\n"
     ]
    }
   ],
   "source": [
    "data_train.info()"
   ]
  },
  {
   "cell_type": "code",
   "execution_count": 41,
   "metadata": {},
   "outputs": [
    {
     "data": {
      "text/plain": [
       "<matplotlib.axes._subplots.AxesSubplot at 0x283805a0f48>"
      ]
     },
     "execution_count": 41,
     "metadata": {},
     "output_type": "execute_result"
    },
    {
     "data": {
      "image/png": "[encoded data removed]",
      "text/plain": [
       "<Figure size 1152x648 with 2 Axes>"
      ]
     },
     "metadata": {
      "needs_background": "light"
     },
     "output_type": "display_data"
    }
   ],
   "source": [
    "plt.figure(figsize=(16,9))\n",
    "sns.heatmap(data_train.corr(method='spearman'),annot=True)\n",
    "## 无>0.5的相关性, 暂不考虑降维"
   ]
  },
  {
   "cell_type": "code",
   "execution_count": 21,
   "metadata": {},
   "outputs": [],
   "source": [
    "## 特征工程前，重置索引\n",
    "data_train.reset_index(drop=True, inplace=True)"
   ]
  },
  {
   "cell_type": "markdown",
   "metadata": {},
   "source": [
    "## 划分训练集验证集"
   ]
  },
  {
   "cell_type": "code",
   "execution_count": 22,
   "metadata": {},
   "outputs": [],
   "source": [
    "from sklearn.model_selection import train_test_split"
   ]
  },
  {
   "cell_type": "code",
   "execution_count": 23,
   "metadata": {},
   "outputs": [],
   "source": [
    "df_train, df_test = train_test_split(data_train,stratify=data_train.target)"
   ]
  },
  {
   "cell_type": "markdown",
   "metadata": {},
   "source": [
    "## 自定分箱 卡方分箱 spearman分箱"
   ]
  },
  {
   "cell_type": "code",
   "execution_count": 24,
   "metadata": {},
   "outputs": [],
   "source": [
    "import scipy"
   ]
  },
  {
   "cell_type": "code",
   "execution_count": 25,
   "metadata": {},
   "outputs": [],
   "source": [
    "def init_box(df,n_split):\n",
    "    ## 待份变量等频初始化分箱，统计分箱后标签频数\n",
    "    categ = pd.cut(df.iloc[:,0],n_split,duplicates='raise')\n",
    "    freq = pd.crosstab(categ, df.iloc[:,1]).reset_index()\n",
    "    freq.iloc[:,0] = freq.iloc[:,0].astype(object)\n",
    "\n",
    "    ## 计算WOE,IV\n",
    "    freq['woe'] = np.log(freq[1]/freq[0]*freq[0].sum()/freq[1].sum())\n",
    "    iv = freq.woe.dot((freq[1]/freq[1].sum()-freq[0]/freq[0].sum()))\n",
    "    \n",
    "    return freq.set_index(freq.columns[0]), iv ## reindex方便后续计算"
   ]
  },
  {
   "cell_type": "code",
   "execution_count": 26,
   "metadata": {},
   "outputs": [],
   "source": [
    "def mychi2(freq):\n",
    "    R = freq.sum(1,keepdims=True)\n",
    "    C = freq.sum(0)\n",
    "    N = R.sum()\n",
    "    E = R*C / N\n",
    "    sqr = np.square(freq-E)/E\n",
    "    sqr[E==0] = 0\n",
    "    return sqr.sum()"
   ]
  },
  {
   "cell_type": "code",
   "execution_count": 27,
   "metadata": {},
   "outputs": [],
   "source": [
    "chi2 = lambda x: scipy.stats.chi2_contingency(x,correction=False)[1]\n",
    "add = lambda in1,in2: pd.Interval(in1.left,in2.right)\n",
    "def chi2_box(df, n_split=20, p_thr=.05):\n",
    "    '''\n",
    "    df:两列，第一列是待分箱变量，第二列是标签\n",
    "    n_split: 初始划分区间数\n",
    "    p_thr: 拒绝概率\n",
    "    '''\n",
    "    ## 待份变量等频初始化分箱，统计分箱后标签频数\n",
    "    categ = pd.qcut(df.iloc[:,0],n_split,duplicates='drop')\n",
    "    freq = pd.crosstab(categ, df.iloc[:,1]).reset_index()\n",
    "    freq.iloc[:,0] = freq.iloc[:,0].astype(object)\n",
    "    \n",
    "    ## 相邻箱计算p值\n",
    "    while True:\n",
    "        p_val = [chi2(freq.iloc[i:i+2,1:]) for i in range(len(freq))]\n",
    "        p_max = np.argmax(p_val[:-1])\n",
    "        if p_val[p_max] <= p_thr:\n",
    "            break\n",
    "        freq.iloc[p_max,0] = add(freq.iloc[p_max,0], freq.iloc[p_max+1,0])\n",
    "        freq.iloc[p_max,1:] = freq.iloc[p_max,1:] + freq.iloc[p_max+1,1:]\n",
    "        freq.drop(index=freq.index[p_max+1],inplace=True)\n",
    "    freq.iloc[-1,0] = add(freq.iloc[-1,0], pd.Interval(0,np.inf)) ## 适配数据\n",
    "    freq.iloc[0,0] = add(pd.Interval(-np.inf,0), freq.iloc[0,0]) ## 适配数据\n",
    "\n",
    "    ## 计算WOE,IV\n",
    "    freq['p_val'] = p_val\n",
    "    freq['woe'] = np.log(freq[1]/freq[0]*freq[0].sum()/freq[1].sum())\n",
    "    iv = freq.woe.dot((freq[1]/freq[1].sum()-freq[0]/freq[0].sum()))\n",
    "    \n",
    "    return freq.set_index(freq.columns[0]),iv\n",
    "    "
   ]
  },
  {
   "cell_type": "code",
   "execution_count": 28,
   "metadata": {},
   "outputs": [
    {
     "data": {
      "text/plain": [
       "(y                0     1          p_val       woe\n",
       " age                                              \n",
       " (-inf, 9.0]   8959  1041  1.064260e-253 -1.761470\n",
       " (9.75, 29.0]  7033  2967  2.021165e-209 -0.472055\n",
       " (29.5, 44.0]  4890  5110  2.058930e-168  0.435014\n",
       " (44.25, inf]  2979  7021   1.000000e+00  1.248325,\n",
       " 1.0359061045755893)"
      ]
     },
     "execution_count": 28,
     "metadata": {},
     "output_type": "execute_result"
    },
    {
     "data": {
      "image/png": "[encoded data removed]",
      "text/plain": [
       "<Figure size 432x288 with 1 Axes>"
      ]
     },
     "metadata": {
      "needs_background": "light"
     },
     "output_type": "display_data"
    }
   ],
   "source": [
    "## test function \n",
    "\n",
    "num = 10000  ##构造一个有40000数据量的数据\n",
    "x1 = np.random.randint(1,10,num)\n",
    "x2 = np.random.randint(10,30,num)\n",
    "x3 = np.random.randint(30,45,num)\n",
    "x4 = np.random.randint(45,80,num)\n",
    "x = np.r_[x1,x2,x3,x4]\n",
    "\n",
    "y1 = np.random.choice([0,1],num,p=[.9,.1])\n",
    "y2 = np.random.choice([0,1],num,p=[.7,.3])\n",
    "y3 = np.random.choice([0,1],num,p=[.5,.5])\n",
    "y4 = np.random.choice([0,1],num,p=[.3,.7])\n",
    "y = np.r_[y1,y2,y3,y4]\n",
    "\n",
    "testdata = pd.DataFrame({\"age\":x,\"y\":y})\n",
    "testdata.groupby('age')['y'].mean().plot()\n",
    "chi2_box(testdata,100,.001)"
   ]
  },
  {
   "cell_type": "code",
   "execution_count": 29,
   "metadata": {},
   "outputs": [],
   "source": [
    "spearman = lambda x: scipy.stats.spearmanr(x.iloc[:,0], x.iloc[:,1])[0]\n",
    "def spearman_box(df, n = 20, r_thr=1):\n",
    "    r = 0\n",
    "    while np.abs(r) < r_thr:\n",
    "        categ = pd.qcut(df.iloc[:,0], n, duplicates='drop')\n",
    "        d2 = df.groupby(categ).mean()\n",
    "        r = spearman(d2)\n",
    "        n = n - 1\n",
    "    freq = pd.crosstab(categ, df.iloc[:,1]).reset_index()\n",
    "    freq['woe'] = np.log(freq[1]/freq[0]*freq[0].sum()/freq[1].sum())\n",
    "    iv = freq.woe.dot((freq[1]/freq[1].sum()-freq[0]/freq[0].sum()))\n",
    "    return freq.set_index(freq.columns[0]),iv"
   ]
  },
  {
   "cell_type": "code",
   "execution_count": 30,
   "metadata": {},
   "outputs": [
    {
     "data": {
      "text/html": [
       "<div>\n",
       "<style scoped>\n",
       "    .dataframe tbody tr th:only-of-type {\n",
       "        vertical-align: middle;\n",
       "    }\n",
       "\n",
       "    .dataframe tbody tr th {\n",
       "        vertical-align: top;\n",
       "    }\n",
       "\n",
       "    .dataframe thead th {\n",
       "        text-align: right;\n",
       "    }\n",
       "</style>\n",
       "<table border=\"1\" class=\"dataframe\">\n",
       "  <thead>\n",
       "    <tr style=\"text-align: right;\">\n",
       "      <th>target</th>\n",
       "      <th>0</th>\n",
       "      <th>1</th>\n",
       "      <th>p_val</th>\n",
       "      <th>woe</th>\n",
       "    </tr>\n",
       "    <tr>\n",
       "      <th>age</th>\n",
       "      <th></th>\n",
       "      <th></th>\n",
       "      <th></th>\n",
       "      <th></th>\n",
       "    </tr>\n",
       "  </thead>\n",
       "  <tbody>\n",
       "    <tr>\n",
       "      <th>(-inf, 35.0]</th>\n",
       "      <td>13924</td>\n",
       "      <td>1752</td>\n",
       "      <td>4.429449e-10</td>\n",
       "      <td>0.552320</td>\n",
       "    </tr>\n",
       "    <tr>\n",
       "      <th>(35.0, 43.0]</th>\n",
       "      <td>15602</td>\n",
       "      <td>1562</td>\n",
       "      <td>6.392961e-09</td>\n",
       "      <td>0.323744</td>\n",
       "    </tr>\n",
       "    <tr>\n",
       "      <th>(43.0, 55.0]</th>\n",
       "      <td>29499</td>\n",
       "      <td>2426</td>\n",
       "      <td>1.201356e-25</td>\n",
       "      <td>0.127063</td>\n",
       "    </tr>\n",
       "    <tr>\n",
       "      <th>(55.0, 62.0]</th>\n",
       "      <td>16598</td>\n",
       "      <td>898</td>\n",
       "      <td>8.343802e-13</td>\n",
       "      <td>-0.291692</td>\n",
       "    </tr>\n",
       "    <tr>\n",
       "      <th>(62.0, 67.0]</th>\n",
       "      <td>10062</td>\n",
       "      <td>344</td>\n",
       "      <td>4.397513e-06</td>\n",
       "      <td>-0.750704</td>\n",
       "    </tr>\n",
       "    <tr>\n",
       "      <th>(67.0, inf]</th>\n",
       "      <td>16114</td>\n",
       "      <td>391</td>\n",
       "      <td>1.000000e+00</td>\n",
       "      <td>-1.093561</td>\n",
       "    </tr>\n",
       "  </tbody>\n",
       "</table>\n",
       "</div>"
      ],
      "text/plain": [
       "target            0     1         p_val       woe\n",
       "age                                              \n",
       "(-inf, 35.0]  13924  1752  4.429449e-10  0.552320\n",
       "(35.0, 43.0]  15602  1562  6.392961e-09  0.323744\n",
       "(43.0, 55.0]  29499  2426  1.201356e-25  0.127063\n",
       "(55.0, 62.0]  16598   898  8.343802e-13 -0.291692\n",
       "(62.0, 67.0]  10062   344  4.397513e-06 -0.750704\n",
       "(67.0, inf]   16114   391  1.000000e+00 -1.093561"
      ]
     },
     "metadata": {},
     "output_type": "display_data"
    },
    {
     "data": {
      "text/plain": [
       "<matplotlib.axes._subplots.AxesSubplot at 0x1ab690ff588>"
      ]
     },
     "metadata": {},
     "output_type": "display_data"
    },
    {
     "data": {
      "image/png": "[encoded data removed]",
      "text/plain": [
       "<Figure size 432x288 with 1 Axes>"
      ]
     },
     "metadata": {
      "needs_background": "light"
     },
     "output_type": "display_data"
    }
   ],
   "source": [
    "age_box,age_iv = chi2_box(df_train[['age','target']],50,.001)\n",
    "display(age_box,age_box.woe.plot(kind='bar',title=f'IV: {age_iv:.4f}'))"
   ]
  },
  {
   "cell_type": "code",
   "execution_count": 31,
   "metadata": {},
   "outputs": [
    {
     "data": {
      "text/html": [
       "<div>\n",
       "<style scoped>\n",
       "    .dataframe tbody tr th:only-of-type {\n",
       "        vertical-align: middle;\n",
       "    }\n",
       "\n",
       "    .dataframe tbody tr th {\n",
       "        vertical-align: top;\n",
       "    }\n",
       "\n",
       "    .dataframe thead th {\n",
       "        text-align: right;\n",
       "    }\n",
       "</style>\n",
       "<table border=\"1\" class=\"dataframe\">\n",
       "  <thead>\n",
       "    <tr style=\"text-align: right;\">\n",
       "      <th>target</th>\n",
       "      <th>0</th>\n",
       "      <th>1</th>\n",
       "      <th>p_val</th>\n",
       "      <th>woe</th>\n",
       "    </tr>\n",
       "    <tr>\n",
       "      <th>MonthlyIncome</th>\n",
       "      <th></th>\n",
       "      <th></th>\n",
       "      <th></th>\n",
       "      <th></th>\n",
       "    </tr>\n",
       "  </thead>\n",
       "  <tbody>\n",
       "    <tr>\n",
       "      <th>(-inf, 1300.0]</th>\n",
       "      <td>5245</td>\n",
       "      <td>375</td>\n",
       "      <td>7.194871e-08</td>\n",
       "      <td>-0.012929</td>\n",
       "    </tr>\n",
       "    <tr>\n",
       "      <th>(1300.0, 3800.0]</th>\n",
       "      <td>24949</td>\n",
       "      <td>2429</td>\n",
       "      <td>3.027940e-04</td>\n",
       "      <td>0.295822</td>\n",
       "    </tr>\n",
       "    <tr>\n",
       "      <th>(3800.0, 4550.0]</th>\n",
       "      <td>9873</td>\n",
       "      <td>826</td>\n",
       "      <td>7.191116e-03</td>\n",
       "      <td>0.144211</td>\n",
       "    </tr>\n",
       "    <tr>\n",
       "      <th>(4550.0, 6311.2]</th>\n",
       "      <td>20301</td>\n",
       "      <td>1505</td>\n",
       "      <td>4.601453e-10</td>\n",
       "      <td>0.023298</td>\n",
       "    </tr>\n",
       "    <tr>\n",
       "      <th>(6311.2, 10100.0]</th>\n",
       "      <td>25786</td>\n",
       "      <td>1513</td>\n",
       "      <td>3.250056e-07</td>\n",
       "      <td>-0.210562</td>\n",
       "    </tr>\n",
       "    <tr>\n",
       "      <th>(10100.0, inf]</th>\n",
       "      <td>15645</td>\n",
       "      <td>725</td>\n",
       "      <td>1.000000e+00</td>\n",
       "      <td>-0.446559</td>\n",
       "    </tr>\n",
       "  </tbody>\n",
       "</table>\n",
       "</div>"
      ],
      "text/plain": [
       "target                 0     1         p_val       woe\n",
       "MonthlyIncome                                         \n",
       "(-inf, 1300.0]      5245   375  7.194871e-08 -0.012929\n",
       "(1300.0, 3800.0]   24949  2429  3.027940e-04  0.295822\n",
       "(3800.0, 4550.0]    9873   826  7.191116e-03  0.144211\n",
       "(4550.0, 6311.2]   20301  1505  4.601453e-10  0.023298\n",
       "(6311.2, 10100.0]  25786  1513  3.250056e-07 -0.210562\n",
       "(10100.0, inf]     15645   725  1.000000e+00 -0.446559"
      ]
     },
     "metadata": {},
     "output_type": "display_data"
    },
    {
     "data": {
      "text/plain": [
       "<matplotlib.axes._subplots.AxesSubplot at 0x1ab67917ec8>"
      ]
     },
     "metadata": {},
     "output_type": "display_data"
    },
    {
     "data": {
      "image/png": "[encoded data removed]",
      "text/plain": [
       "<Figure size 432x288 with 1 Axes>"
      ]
     },
     "metadata": {
      "needs_background": "light"
     },
     "output_type": "display_data"
    }
   ],
   "source": [
    "MI_box,MI_iv = chi2_box(df_train[['MonthlyIncome','target']],20,.01)\n",
    "display(MI_box,MI_box.woe.plot(kind='bar',title=f'IV: {MI_iv:.4f}'))"
   ]
  },
  {
   "cell_type": "code",
   "execution_count": 32,
   "metadata": {},
   "outputs": [
    {
     "data": {
      "text/html": [
       "<div>\n",
       "<style scoped>\n",
       "    .dataframe tbody tr th:only-of-type {\n",
       "        vertical-align: middle;\n",
       "    }\n",
       "\n",
       "    .dataframe tbody tr th {\n",
       "        vertical-align: top;\n",
       "    }\n",
       "\n",
       "    .dataframe thead th {\n",
       "        text-align: right;\n",
       "    }\n",
       "</style>\n",
       "<table border=\"1\" class=\"dataframe\">\n",
       "  <thead>\n",
       "    <tr style=\"text-align: right;\">\n",
       "      <th>target</th>\n",
       "      <th>0</th>\n",
       "      <th>1</th>\n",
       "      <th>p_val</th>\n",
       "      <th>woe</th>\n",
       "    </tr>\n",
       "    <tr>\n",
       "      <th>percentage</th>\n",
       "      <th></th>\n",
       "      <th></th>\n",
       "      <th></th>\n",
       "      <th></th>\n",
       "    </tr>\n",
       "  </thead>\n",
       "  <tbody>\n",
       "    <tr>\n",
       "      <th>(-inf, 0.00339]</th>\n",
       "      <td>10641</td>\n",
       "      <td>277</td>\n",
       "      <td>6.070287e-14</td>\n",
       "      <td>-1.023277</td>\n",
       "    </tr>\n",
       "    <tr>\n",
       "      <th>(0.00339, 0.0452]</th>\n",
       "      <td>21533</td>\n",
       "      <td>301</td>\n",
       "      <td>1.087146e-06</td>\n",
       "      <td>-1.645056</td>\n",
       "    </tr>\n",
       "    <tr>\n",
       "      <th>(0.0452, 0.118]</th>\n",
       "      <td>16044</td>\n",
       "      <td>331</td>\n",
       "      <td>8.670118e-09</td>\n",
       "      <td>-1.255796</td>\n",
       "    </tr>\n",
       "    <tr>\n",
       "      <th>(0.118, 0.212]</th>\n",
       "      <td>10577</td>\n",
       "      <td>341</td>\n",
       "      <td>4.548459e-06</td>\n",
       "      <td>-0.809379</td>\n",
       "    </tr>\n",
       "    <tr>\n",
       "      <th>(0.212, 0.357]</th>\n",
       "      <td>10448</td>\n",
       "      <td>469</td>\n",
       "      <td>1.222783e-06</td>\n",
       "      <td>-0.478387</td>\n",
       "    </tr>\n",
       "    <tr>\n",
       "      <th>(0.357, 0.45]</th>\n",
       "      <td>5129</td>\n",
       "      <td>329</td>\n",
       "      <td>2.226469e-04</td>\n",
       "      <td>-0.121433</td>\n",
       "    </tr>\n",
       "    <tr>\n",
       "      <th>(0.45, 0.563]</th>\n",
       "      <td>5032</td>\n",
       "      <td>427</td>\n",
       "      <td>9.426319e-05</td>\n",
       "      <td>0.158387</td>\n",
       "    </tr>\n",
       "    <tr>\n",
       "      <th>(0.563, 0.7]</th>\n",
       "      <td>4915</td>\n",
       "      <td>543</td>\n",
       "      <td>3.118572e-10</td>\n",
       "      <td>0.422238</td>\n",
       "    </tr>\n",
       "    <tr>\n",
       "      <th>(0.7, 0.85]</th>\n",
       "      <td>4703</td>\n",
       "      <td>756</td>\n",
       "      <td>5.227448e-20</td>\n",
       "      <td>0.797261</td>\n",
       "    </tr>\n",
       "    <tr>\n",
       "      <th>(0.85, 1.0]</th>\n",
       "      <td>11252</td>\n",
       "      <td>2717</td>\n",
       "      <td>5.858429e-79</td>\n",
       "      <td>1.204158</td>\n",
       "    </tr>\n",
       "    <tr>\n",
       "      <th>(1.0, inf]</th>\n",
       "      <td>1525</td>\n",
       "      <td>882</td>\n",
       "      <td>1.000000e+00</td>\n",
       "      <td>2.077618</td>\n",
       "    </tr>\n",
       "  </tbody>\n",
       "</table>\n",
       "</div>"
      ],
      "text/plain": [
       "target                 0     1         p_val       woe\n",
       "percentage                                            \n",
       "(-inf, 0.00339]    10641   277  6.070287e-14 -1.023277\n",
       "(0.00339, 0.0452]  21533   301  1.087146e-06 -1.645056\n",
       "(0.0452, 0.118]    16044   331  8.670118e-09 -1.255796\n",
       "(0.118, 0.212]     10577   341  4.548459e-06 -0.809379\n",
       "(0.212, 0.357]     10448   469  1.222783e-06 -0.478387\n",
       "(0.357, 0.45]       5129   329  2.226469e-04 -0.121433\n",
       "(0.45, 0.563]       5032   427  9.426319e-05  0.158387\n",
       "(0.563, 0.7]        4915   543  3.118572e-10  0.422238\n",
       "(0.7, 0.85]         4703   756  5.227448e-20  0.797261\n",
       "(0.85, 1.0]        11252  2717  5.858429e-79  1.204158\n",
       "(1.0, inf]          1525   882  1.000000e+00  2.077618"
      ]
     },
     "metadata": {},
     "output_type": "display_data"
    },
    {
     "data": {
      "text/plain": [
       "1.1419264530532993"
      ]
     },
     "metadata": {},
     "output_type": "display_data"
    },
    {
     "data": {
      "text/plain": [
       "<matplotlib.axes._subplots.AxesSubplot at 0x1ab66af8dc8>"
      ]
     },
     "metadata": {},
     "output_type": "display_data"
    },
    {
     "data": {
      "image/png": "[encoded data removed]",
      "text/plain": [
       "<Figure size 432x288 with 1 Axes>"
      ]
     },
     "metadata": {
      "needs_background": "light"
     },
     "output_type": "display_data"
    }
   ],
   "source": [
    "per_box,per_iv = chi2_box(df_train[['percentage','target']],20,.01)\n",
    "display(per_box,per_iv,per_box.woe.plot(kind='bar',title=f'IV: {per_iv:.4f}'))"
   ]
  },
  {
   "cell_type": "code",
   "execution_count": 33,
   "metadata": {},
   "outputs": [
    {
     "data": {
      "text/plain": [
       "<matplotlib.axes._subplots.AxesSubplot at 0x1ab66b22e08>"
      ]
     },
     "execution_count": 33,
     "metadata": {},
     "output_type": "execute_result"
    },
    {
     "data": {
      "image/png": "[encoded data removed]",
      "text/plain": [
       "<Figure size 432x288 with 2 Axes>"
      ]
     },
     "metadata": {
      "needs_background": "light"
     },
     "output_type": "display_data"
    }
   ],
   "source": [
    "ax1 = plt.subplot(122)\n",
    "df_train.loc[df_train['30-59'].lt(20),['30-59']].hist(ax=ax1,bins=50)\n",
    "ax2=plt.subplot(121)\n",
    "df_train[['30-59']].boxplot(ax=ax2)"
   ]
  },
  {
   "cell_type": "code",
   "execution_count": 34,
   "metadata": {},
   "outputs": [
    {
     "data": {
      "text/html": [
       "<div>\n",
       "<style scoped>\n",
       "    .dataframe tbody tr th:only-of-type {\n",
       "        vertical-align: middle;\n",
       "    }\n",
       "\n",
       "    .dataframe tbody tr th {\n",
       "        vertical-align: top;\n",
       "    }\n",
       "\n",
       "    .dataframe thead th {\n",
       "        text-align: right;\n",
       "    }\n",
       "</style>\n",
       "<table border=\"1\" class=\"dataframe\">\n",
       "  <thead>\n",
       "    <tr style=\"text-align: right;\">\n",
       "      <th>target</th>\n",
       "      <th>0</th>\n",
       "      <th>1</th>\n",
       "      <th>p_val</th>\n",
       "      <th>woe</th>\n",
       "    </tr>\n",
       "    <tr>\n",
       "      <th>30-59</th>\n",
       "      <th></th>\n",
       "      <th></th>\n",
       "      <th></th>\n",
       "      <th></th>\n",
       "    </tr>\n",
       "  </thead>\n",
       "  <tbody>\n",
       "    <tr>\n",
       "      <th>(-inf, 1.0]</th>\n",
       "      <td>97833</td>\n",
       "      <td>5489</td>\n",
       "      <td>0.000000e+00</td>\n",
       "      <td>-0.255340</td>\n",
       "    </tr>\n",
       "    <tr>\n",
       "      <th>(1.0, 2.0]</th>\n",
       "      <td>2511</td>\n",
       "      <td>903</td>\n",
       "      <td>6.963210e-29</td>\n",
       "      <td>1.602462</td>\n",
       "    </tr>\n",
       "    <tr>\n",
       "      <th>(2.0, inf]</th>\n",
       "      <td>1455</td>\n",
       "      <td>981</td>\n",
       "      <td>1.000000e+00</td>\n",
       "      <td>2.230987</td>\n",
       "    </tr>\n",
       "  </tbody>\n",
       "</table>\n",
       "</div>"
      ],
      "text/plain": [
       "target           0     1         p_val       woe\n",
       "30-59                                           \n",
       "(-inf, 1.0]  97833  5489  0.000000e+00 -0.255340\n",
       "(1.0, 2.0]    2511   903  6.963210e-29  1.602462\n",
       "(2.0, inf]    1455   981  1.000000e+00  2.230987"
      ]
     },
     "metadata": {},
     "output_type": "display_data"
    },
    {
     "data": {
      "text/plain": [
       "0.4769838370293407"
      ]
     },
     "metadata": {},
     "output_type": "display_data"
    }
   ],
   "source": [
    "n30_box,n30_iv = chi2_box(df_train[['30-59','target']],20,.05)\n",
    "display(n30_box,n30_iv) ## 每箱数量差别太大，改手动分箱。"
   ]
  },
  {
   "cell_type": "code",
   "execution_count": 35,
   "metadata": {},
   "outputs": [
    {
     "data": {
      "text/html": [
       "<div>\n",
       "<style scoped>\n",
       "    .dataframe tbody tr th:only-of-type {\n",
       "        vertical-align: middle;\n",
       "    }\n",
       "\n",
       "    .dataframe tbody tr th {\n",
       "        vertical-align: top;\n",
       "    }\n",
       "\n",
       "    .dataframe thead th {\n",
       "        text-align: right;\n",
       "    }\n",
       "</style>\n",
       "<table border=\"1\" class=\"dataframe\">\n",
       "  <thead>\n",
       "    <tr style=\"text-align: right;\">\n",
       "      <th>target</th>\n",
       "      <th>0</th>\n",
       "      <th>1</th>\n",
       "      <th>woe</th>\n",
       "    </tr>\n",
       "    <tr>\n",
       "      <th>30-59</th>\n",
       "      <th></th>\n",
       "      <th></th>\n",
       "      <th></th>\n",
       "    </tr>\n",
       "  </thead>\n",
       "  <tbody>\n",
       "    <tr>\n",
       "      <th>(-inf, 0.1]</th>\n",
       "      <td>87763</td>\n",
       "      <td>3707</td>\n",
       "      <td>-0.539241</td>\n",
       "    </tr>\n",
       "    <tr>\n",
       "      <th>(0.1, 1.1]</th>\n",
       "      <td>10070</td>\n",
       "      <td>1782</td>\n",
       "      <td>0.893351</td>\n",
       "    </tr>\n",
       "    <tr>\n",
       "      <th>(1.1, 2.1]</th>\n",
       "      <td>2511</td>\n",
       "      <td>903</td>\n",
       "      <td>1.602462</td>\n",
       "    </tr>\n",
       "    <tr>\n",
       "      <th>(2.1, 3.1]</th>\n",
       "      <td>839</td>\n",
       "      <td>445</td>\n",
       "      <td>1.991039</td>\n",
       "    </tr>\n",
       "    <tr>\n",
       "      <th>(3.1, 4.1]</th>\n",
       "      <td>316</td>\n",
       "      <td>234</td>\n",
       "      <td>2.324755</td>\n",
       "    </tr>\n",
       "    <tr>\n",
       "      <th>(4.1, inf]</th>\n",
       "      <td>300</td>\n",
       "      <td>302</td>\n",
       "      <td>2.631820</td>\n",
       "    </tr>\n",
       "  </tbody>\n",
       "</table>\n",
       "</div>"
      ],
      "text/plain": [
       "target           0     1       woe\n",
       "30-59                             \n",
       "(-inf, 0.1]  87763  3707 -0.539241\n",
       "(0.1, 1.1]   10070  1782  0.893351\n",
       "(1.1, 2.1]    2511   903  1.602462\n",
       "(2.1, 3.1]     839   445  1.991039\n",
       "(3.1, 4.1]     316   234  2.324755\n",
       "(4.1, inf]     300   302  2.631820"
      ]
     },
     "metadata": {},
     "output_type": "display_data"
    },
    {
     "data": {
      "text/plain": [
       "<matplotlib.axes._subplots.AxesSubplot at 0x1ab68b09388>"
      ]
     },
     "metadata": {},
     "output_type": "display_data"
    },
    {
     "data": {
      "image/png": "[encoded data removed]",
      "text/plain": [
       "<Figure size 432x288 with 1 Axes>"
      ]
     },
     "metadata": {
      "needs_background": "light"
     },
     "output_type": "display_data"
    }
   ],
   "source": [
    "split = [-np.inf,.1,*np.arange(1.1,5,1),np.inf]\n",
    "n30_box,n30_iv = init_box(df_train[['30-59','target']],split)\n",
    "display(n30_box,n30_box.woe.plot(kind='bar',title=f'IV: {n30_iv:.4f}'))"
   ]
  },
  {
   "cell_type": "code",
   "execution_count": 36,
   "metadata": {},
   "outputs": [
    {
     "data": {
      "text/plain": [
       "<matplotlib.axes._subplots.AxesSubplot at 0x1ab68b09f08>"
      ]
     },
     "execution_count": 36,
     "metadata": {},
     "output_type": "execute_result"
    },
    {
     "data": {
      "image/png": "[encoded data removed]",
      "text/plain": [
       "<Figure size 432x288 with 2 Axes>"
      ]
     },
     "metadata": {
      "needs_background": "light"
     },
     "output_type": "display_data"
    }
   ],
   "source": [
    "ax1 = plt.subplot(122)\n",
    "df_train.loc[df_train['60-89'].lt(20),['60-89']].hist(ax=ax1,bins=50)\n",
    "ax2=plt.subplot(121)\n",
    "df_train[['60-89']].boxplot(ax=ax2)"
   ]
  },
  {
   "cell_type": "code",
   "execution_count": 37,
   "metadata": {},
   "outputs": [
    {
     "data": {
      "text/html": [
       "<div>\n",
       "<style scoped>\n",
       "    .dataframe tbody tr th:only-of-type {\n",
       "        vertical-align: middle;\n",
       "    }\n",
       "\n",
       "    .dataframe tbody tr th {\n",
       "        vertical-align: top;\n",
       "    }\n",
       "\n",
       "    .dataframe thead th {\n",
       "        text-align: right;\n",
       "    }\n",
       "</style>\n",
       "<table border=\"1\" class=\"dataframe\">\n",
       "  <thead>\n",
       "    <tr style=\"text-align: right;\">\n",
       "      <th>target</th>\n",
       "      <th>0</th>\n",
       "      <th>1</th>\n",
       "      <th>p_val</th>\n",
       "      <th>woe</th>\n",
       "    </tr>\n",
       "    <tr>\n",
       "      <th>60-89</th>\n",
       "      <th></th>\n",
       "      <th></th>\n",
       "      <th></th>\n",
       "      <th></th>\n",
       "    </tr>\n",
       "  </thead>\n",
       "  <tbody>\n",
       "    <tr>\n",
       "      <th>(-inf, 1.0]</th>\n",
       "      <td>134899</td>\n",
       "      <td>8876</td>\n",
       "      <td>0.0</td>\n",
       "      <td>-0.096034</td>\n",
       "    </tr>\n",
       "    <tr>\n",
       "      <th>(1.0, inf]</th>\n",
       "      <td>833</td>\n",
       "      <td>955</td>\n",
       "      <td>1.0</td>\n",
       "      <td>2.761819</td>\n",
       "    </tr>\n",
       "  </tbody>\n",
       "</table>\n",
       "</div>"
      ],
      "text/plain": [
       "target            0     1  p_val       woe\n",
       "60-89                                     \n",
       "(-inf, 1.0]  134899  8876    0.0 -0.096034\n",
       "(1.0, inf]      833   955    1.0  2.761819"
      ]
     },
     "metadata": {},
     "output_type": "display_data"
    },
    {
     "data": {
      "text/plain": [
       "0.2600777758140071"
      ]
     },
     "metadata": {},
     "output_type": "display_data"
    }
   ],
   "source": [
    "n60_box,n60_iv = chi2_box(data_train[['60-89','target']],20,.05)\n",
    "display(n60_box,n60_iv) ## 每箱数量差别太大，改手动分箱。"
   ]
  },
  {
   "cell_type": "code",
   "execution_count": 38,
   "metadata": {},
   "outputs": [
    {
     "data": {
      "text/html": [
       "<div>\n",
       "<style scoped>\n",
       "    .dataframe tbody tr th:only-of-type {\n",
       "        vertical-align: middle;\n",
       "    }\n",
       "\n",
       "    .dataframe tbody tr th {\n",
       "        vertical-align: top;\n",
       "    }\n",
       "\n",
       "    .dataframe thead th {\n",
       "        text-align: right;\n",
       "    }\n",
       "</style>\n",
       "<table border=\"1\" class=\"dataframe\">\n",
       "  <thead>\n",
       "    <tr style=\"text-align: right;\">\n",
       "      <th>target</th>\n",
       "      <th>0</th>\n",
       "      <th>1</th>\n",
       "      <th>woe</th>\n",
       "    </tr>\n",
       "    <tr>\n",
       "      <th>60-89</th>\n",
       "      <th></th>\n",
       "      <th></th>\n",
       "      <th></th>\n",
       "    </tr>\n",
       "  </thead>\n",
       "  <tbody>\n",
       "    <tr>\n",
       "      <th>(-inf, 0.1]</th>\n",
       "      <td>98237</td>\n",
       "      <td>5348</td>\n",
       "      <td>-0.285485</td>\n",
       "    </tr>\n",
       "    <tr>\n",
       "      <th>(0.1, 1.1]</th>\n",
       "      <td>2935</td>\n",
       "      <td>1329</td>\n",
       "      <td>1.832895</td>\n",
       "    </tr>\n",
       "    <tr>\n",
       "      <th>(1.1, 2.1]</th>\n",
       "      <td>419</td>\n",
       "      <td>394</td>\n",
       "      <td>2.563656</td>\n",
       "    </tr>\n",
       "    <tr>\n",
       "      <th>(2.1, 3.1]</th>\n",
       "      <td>100</td>\n",
       "      <td>124</td>\n",
       "      <td>2.840287</td>\n",
       "    </tr>\n",
       "    <tr>\n",
       "      <th>(3.1, 5.1]</th>\n",
       "      <td>40</td>\n",
       "      <td>59</td>\n",
       "      <td>3.013834</td>\n",
       "    </tr>\n",
       "    <tr>\n",
       "      <th>(5.1, inf]</th>\n",
       "      <td>68</td>\n",
       "      <td>119</td>\n",
       "      <td>3.184791</td>\n",
       "    </tr>\n",
       "  </tbody>\n",
       "</table>\n",
       "</div>"
      ],
      "text/plain": [
       "target           0     1       woe\n",
       "60-89                             \n",
       "(-inf, 0.1]  98237  5348 -0.285485\n",
       "(0.1, 1.1]    2935  1329  1.832895\n",
       "(1.1, 2.1]     419   394  2.563656\n",
       "(2.1, 3.1]     100   124  2.840287\n",
       "(3.1, 5.1]      40    59  3.013834\n",
       "(5.1, inf]      68   119  3.184791"
      ]
     },
     "metadata": {},
     "output_type": "display_data"
    },
    {
     "data": {
      "text/plain": [
       "<matplotlib.axes._subplots.AxesSubplot at 0x1ab68c6f908>"
      ]
     },
     "metadata": {},
     "output_type": "display_data"
    },
    {
     "data": {
      "image/png": "[encoded data removed]",
      "text/plain": [
       "<Figure size 432x288 with 1 Axes>"
      ]
     },
     "metadata": {
      "needs_background": "light"
     },
     "output_type": "display_data"
    }
   ],
   "source": [
    "split = [-np.inf,.1,1.1, 2.1, 3.1,  5.1,np.inf]\n",
    "n60_box,n60_iv = init_box(df_train[['60-89','target']],split)\n",
    "display(n60_box,n60_box.woe.plot(kind='bar',title=f'IV: {n60_iv:.4f}'))"
   ]
  },
  {
   "cell_type": "code",
   "execution_count": 39,
   "metadata": {},
   "outputs": [
    {
     "data": {
      "text/plain": [
       "<matplotlib.axes._subplots.AxesSubplot at 0x1ab68b7a708>"
      ]
     },
     "execution_count": 39,
     "metadata": {},
     "output_type": "execute_result"
    },
    {
     "data": {
      "image/png": "[encoded data removed]",
      "text/plain": [
       "<Figure size 432x288 with 2 Axes>"
      ]
     },
     "metadata": {
      "needs_background": "light"
     },
     "output_type": "display_data"
    }
   ],
   "source": [
    "ax1 = plt.subplot(122)\n",
    "df_train.loc[df_train['90-'].lt(20),['90-']].hist(ax=ax1,bins=50)\n",
    "ax2=plt.subplot(121)\n",
    "df_train[['90-']].boxplot(ax=ax2)"
   ]
  },
  {
   "cell_type": "code",
   "execution_count": 40,
   "metadata": {},
   "outputs": [
    {
     "data": {
      "text/html": [
       "<div>\n",
       "<style scoped>\n",
       "    .dataframe tbody tr th:only-of-type {\n",
       "        vertical-align: middle;\n",
       "    }\n",
       "\n",
       "    .dataframe tbody tr th {\n",
       "        vertical-align: top;\n",
       "    }\n",
       "\n",
       "    .dataframe thead th {\n",
       "        text-align: right;\n",
       "    }\n",
       "</style>\n",
       "<table border=\"1\" class=\"dataframe\">\n",
       "  <thead>\n",
       "    <tr style=\"text-align: right;\">\n",
       "      <th>target</th>\n",
       "      <th>0</th>\n",
       "      <th>1</th>\n",
       "      <th>p_val</th>\n",
       "      <th>woe</th>\n",
       "    </tr>\n",
       "    <tr>\n",
       "      <th>90-</th>\n",
       "      <th></th>\n",
       "      <th></th>\n",
       "      <th></th>\n",
       "      <th></th>\n",
       "    </tr>\n",
       "  </thead>\n",
       "  <tbody>\n",
       "    <tr>\n",
       "      <th>(-inf, 1.0]</th>\n",
       "      <td>131844</td>\n",
       "      <td>8084</td>\n",
       "      <td>0.0</td>\n",
       "      <td>-0.174412</td>\n",
       "    </tr>\n",
       "    <tr>\n",
       "      <th>(1.0, inf]</th>\n",
       "      <td>1310</td>\n",
       "      <td>1636</td>\n",
       "      <td>1.0</td>\n",
       "      <td>2.839548</td>\n",
       "    </tr>\n",
       "  </tbody>\n",
       "</table>\n",
       "</div>"
      ],
      "text/plain": [
       "target            0     1  p_val       woe\n",
       "90-                                       \n",
       "(-inf, 1.0]  131844  8084    0.0 -0.174412\n",
       "(1.0, inf]     1310  1636    1.0  2.839548"
      ]
     },
     "metadata": {},
     "output_type": "display_data"
    },
    {
     "data": {
      "text/plain": [
       "0.4776358322593534"
      ]
     },
     "metadata": {},
     "output_type": "display_data"
    }
   ],
   "source": [
    "n90_box,n90_iv = chi2_box(data_train.loc[data_train.MonthlyIncome>1,['90-','target']],20,.05)\n",
    "display(n90_box,n90_iv) ## 每箱数量差别太大，改手动分箱。"
   ]
  },
  {
   "cell_type": "code",
   "execution_count": 41,
   "metadata": {},
   "outputs": [
    {
     "data": {
      "text/html": [
       "<div>\n",
       "<style scoped>\n",
       "    .dataframe tbody tr th:only-of-type {\n",
       "        vertical-align: middle;\n",
       "    }\n",
       "\n",
       "    .dataframe tbody tr th {\n",
       "        vertical-align: top;\n",
       "    }\n",
       "\n",
       "    .dataframe thead th {\n",
       "        text-align: right;\n",
       "    }\n",
       "</style>\n",
       "<table border=\"1\" class=\"dataframe\">\n",
       "  <thead>\n",
       "    <tr style=\"text-align: right;\">\n",
       "      <th>target</th>\n",
       "      <th>0</th>\n",
       "      <th>1</th>\n",
       "      <th>woe</th>\n",
       "    </tr>\n",
       "    <tr>\n",
       "      <th>90-</th>\n",
       "      <th></th>\n",
       "      <th></th>\n",
       "      <th></th>\n",
       "    </tr>\n",
       "  </thead>\n",
       "  <tbody>\n",
       "    <tr>\n",
       "      <th>(-inf, 0.1]</th>\n",
       "      <td>98242</td>\n",
       "      <td>4803</td>\n",
       "      <td>-0.393017</td>\n",
       "    </tr>\n",
       "    <tr>\n",
       "      <th>(0.1, 1.1]</th>\n",
       "      <td>2565</td>\n",
       "      <td>1329</td>\n",
       "      <td>1.967644</td>\n",
       "    </tr>\n",
       "    <tr>\n",
       "      <th>(1.1, 2.1]</th>\n",
       "      <td>585</td>\n",
       "      <td>567</td>\n",
       "      <td>2.593923</td>\n",
       "    </tr>\n",
       "    <tr>\n",
       "      <th>(2.1, 3.1]</th>\n",
       "      <td>203</td>\n",
       "      <td>276</td>\n",
       "      <td>2.932370</td>\n",
       "    </tr>\n",
       "    <tr>\n",
       "      <th>(3.1, inf]</th>\n",
       "      <td>204</td>\n",
       "      <td>398</td>\n",
       "      <td>3.293508</td>\n",
       "    </tr>\n",
       "  </tbody>\n",
       "</table>\n",
       "</div>"
      ],
      "text/plain": [
       "target           0     1       woe\n",
       "90-                               \n",
       "(-inf, 0.1]  98242  4803 -0.393017\n",
       "(0.1, 1.1]    2565  1329  1.967644\n",
       "(1.1, 2.1]     585   567  2.593923\n",
       "(2.1, 3.1]     203   276  2.932370\n",
       "(3.1, inf]     204   398  3.293508"
      ]
     },
     "metadata": {},
     "output_type": "display_data"
    },
    {
     "data": {
      "text/plain": [
       "<matplotlib.axes._subplots.AxesSubplot at 0x1ab678eb588>"
      ]
     },
     "metadata": {},
     "output_type": "display_data"
    },
    {
     "data": {
      "image/png": "[encoded data removed]",
      "text/plain": [
       "<Figure size 432x288 with 1 Axes>"
      ]
     },
     "metadata": {
      "needs_background": "light"
     },
     "output_type": "display_data"
    }
   ],
   "source": [
    "split = [-np.inf,.1,*np.arange(1.1,4,1),np.inf]\n",
    "n90_box,n90_iv = init_box(df_train[['90-','target']],split)\n",
    "display(n90_box,n90_box.woe.plot(kind='bar',title=f'IV: {n60_iv:.4f}')) ## 每箱数量差别太大，改手动分箱。"
   ]
  },
  {
   "cell_type": "code",
   "execution_count": 42,
   "metadata": {},
   "outputs": [
    {
     "data": {
      "text/html": [
       "<div>\n",
       "<style scoped>\n",
       "    .dataframe tbody tr th:only-of-type {\n",
       "        vertical-align: middle;\n",
       "    }\n",
       "\n",
       "    .dataframe tbody tr th {\n",
       "        vertical-align: top;\n",
       "    }\n",
       "\n",
       "    .dataframe thead th {\n",
       "        text-align: right;\n",
       "    }\n",
       "</style>\n",
       "<table border=\"1\" class=\"dataframe\">\n",
       "  <thead>\n",
       "    <tr style=\"text-align: right;\">\n",
       "      <th>target</th>\n",
       "      <th>0</th>\n",
       "      <th>1</th>\n",
       "      <th>p_val</th>\n",
       "      <th>woe</th>\n",
       "    </tr>\n",
       "    <tr>\n",
       "      <th>DebtRatio</th>\n",
       "      <th></th>\n",
       "      <th></th>\n",
       "      <th></th>\n",
       "      <th></th>\n",
       "    </tr>\n",
       "  </thead>\n",
       "  <tbody>\n",
       "    <tr>\n",
       "      <th>(-inf, 0.00321]</th>\n",
       "      <td>4080</td>\n",
       "      <td>287</td>\n",
       "      <td>8.591365e-08</td>\n",
       "      <td>-0.029194</td>\n",
       "    </tr>\n",
       "    <tr>\n",
       "      <th>(0.00321, 0.0167]</th>\n",
       "      <td>4192</td>\n",
       "      <td>175</td>\n",
       "      <td>2.655260e-10</td>\n",
       "      <td>-0.550972</td>\n",
       "    </tr>\n",
       "    <tr>\n",
       "      <th>(0.0167, 0.226]</th>\n",
       "      <td>24502</td>\n",
       "      <td>1699</td>\n",
       "      <td>4.411517e-09</td>\n",
       "      <td>-0.043539</td>\n",
       "    </tr>\n",
       "    <tr>\n",
       "      <th>(0.226, 0.344]</th>\n",
       "      <td>16572</td>\n",
       "      <td>896</td>\n",
       "      <td>1.956006e-10</td>\n",
       "      <td>-0.292354</td>\n",
       "    </tr>\n",
       "    <tr>\n",
       "      <th>(0.344, 0.505]</th>\n",
       "      <td>16290</td>\n",
       "      <td>1177</td>\n",
       "      <td>1.021927e-09</td>\n",
       "      <td>-0.002407</td>\n",
       "    </tr>\n",
       "    <tr>\n",
       "      <th>(0.505, 0.664]</th>\n",
       "      <td>7963</td>\n",
       "      <td>772</td>\n",
       "      <td>5.942830e-10</td>\n",
       "      <td>0.291599</td>\n",
       "    </tr>\n",
       "    <tr>\n",
       "      <th>(0.664, 1.386]</th>\n",
       "      <td>7712</td>\n",
       "      <td>1020</td>\n",
       "      <td>3.450099e-21</td>\n",
       "      <td>0.602201</td>\n",
       "    </tr>\n",
       "    <tr>\n",
       "      <th>(1.386, 701.0]</th>\n",
       "      <td>8084</td>\n",
       "      <td>653</td>\n",
       "      <td>5.910885e-11</td>\n",
       "      <td>0.109111</td>\n",
       "    </tr>\n",
       "    <tr>\n",
       "      <th>(701.0, inf]</th>\n",
       "      <td>12404</td>\n",
       "      <td>694</td>\n",
       "      <td>1.000000e+00</td>\n",
       "      <td>-0.258127</td>\n",
       "    </tr>\n",
       "  </tbody>\n",
       "</table>\n",
       "</div>"
      ],
      "text/plain": [
       "target                 0     1         p_val       woe\n",
       "DebtRatio                                             \n",
       "(-inf, 0.00321]     4080   287  8.591365e-08 -0.029194\n",
       "(0.00321, 0.0167]   4192   175  2.655260e-10 -0.550972\n",
       "(0.0167, 0.226]    24502  1699  4.411517e-09 -0.043539\n",
       "(0.226, 0.344]     16572   896  1.956006e-10 -0.292354\n",
       "(0.344, 0.505]     16290  1177  1.021927e-09 -0.002407\n",
       "(0.505, 0.664]      7963   772  5.942830e-10  0.291599\n",
       "(0.664, 1.386]      7712  1020  3.450099e-21  0.602201\n",
       "(1.386, 701.0]      8084   653  5.910885e-11  0.109111\n",
       "(701.0, inf]       12404   694  1.000000e+00 -0.258127"
      ]
     },
     "metadata": {},
     "output_type": "display_data"
    },
    {
     "data": {
      "text/plain": [
       "0.07572269360659648"
      ]
     },
     "metadata": {},
     "output_type": "display_data"
    },
    {
     "data": {
      "text/plain": [
       "<matplotlib.axes._subplots.AxesSubplot at 0x1ab68b35788>"
      ]
     },
     "execution_count": 42,
     "metadata": {},
     "output_type": "execute_result"
    },
    {
     "data": {
      "image/png": "[encoded data removed]",
      "text/plain": [
       "<Figure size 432x288 with 1 Axes>"
      ]
     },
     "metadata": {
      "needs_background": "light"
     },
     "output_type": "display_data"
    }
   ],
   "source": [
    "debt_box,debt_iv = chi2_box(df_train.loc[:,['DebtRatio','target']],25,.001)\n",
    "display(debt_box,debt_iv)\n",
    "debt_box.woe.plot(kind='bar',title=f'IV: {debt_iv:.4f}') ## 效果差，用手动分箱"
   ]
  },
  {
   "cell_type": "code",
   "execution_count": 43,
   "metadata": {},
   "outputs": [
    {
     "name": "stderr",
     "output_type": "stream",
     "text": [
      "D:\\Program Files\\Anaconda3\\lib\\site-packages\\pandas\\plotting\\_matplotlib\\tools.py:307: MatplotlibDeprecationWarning: \n",
      "The rowNum attribute was deprecated in Matplotlib 3.2 and will be removed two minor releases later. Use ax.get_subplotspec().rowspan.start instead.\n",
      "  layout[ax.rowNum, ax.colNum] = ax.get_visible()\n",
      "D:\\Program Files\\Anaconda3\\lib\\site-packages\\pandas\\plotting\\_matplotlib\\tools.py:307: MatplotlibDeprecationWarning: \n",
      "The colNum attribute was deprecated in Matplotlib 3.2 and will be removed two minor releases later. Use ax.get_subplotspec().colspan.start instead.\n",
      "  layout[ax.rowNum, ax.colNum] = ax.get_visible()\n",
      "D:\\Program Files\\Anaconda3\\lib\\site-packages\\pandas\\plotting\\_matplotlib\\tools.py:313: MatplotlibDeprecationWarning: \n",
      "The rowNum attribute was deprecated in Matplotlib 3.2 and will be removed two minor releases later. Use ax.get_subplotspec().rowspan.start instead.\n",
      "  if not layout[ax.rowNum + 1, ax.colNum]:\n",
      "D:\\Program Files\\Anaconda3\\lib\\site-packages\\pandas\\plotting\\_matplotlib\\tools.py:313: MatplotlibDeprecationWarning: \n",
      "The colNum attribute was deprecated in Matplotlib 3.2 and will be removed two minor releases later. Use ax.get_subplotspec().colspan.start instead.\n",
      "  if not layout[ax.rowNum + 1, ax.colNum]:\n"
     ]
    },
    {
     "data": {
      "text/plain": [
       "<matplotlib.axes._subplots.AxesSubplot at 0x1ab68727448>"
      ]
     },
     "execution_count": 43,
     "metadata": {},
     "output_type": "execute_result"
    },
    {
     "data": {
      "image/png": "[encoded data removed]",
      "text/plain": [
       "<Figure size 576x648 with 2 Axes>"
      ]
     },
     "metadata": {
      "needs_background": "light"
     },
     "output_type": "display_data"
    }
   ],
   "source": [
    "ax1 = plt.subplot(211)\n",
    "data_train.query('6>DebtRatio')[['DebtRatio']].plot(kind='hist',ax=ax1, bins=500,figsize=(8,9))\n",
    "## 0.04之前有异常，单独分一个箱\n",
    "ax2 = plt.subplot(212)\n",
    "data_train.query('6<=DebtRatio')[['DebtRatio']].plot(kind='hist',ax=ax2, bins=500,figsize=(8,9))\n",
    "## 后面是一个长尾分布"
   ]
  },
  {
   "cell_type": "code",
   "execution_count": 44,
   "metadata": {},
   "outputs": [
    {
     "data": {
      "text/html": [
       "<div>\n",
       "<style scoped>\n",
       "    .dataframe tbody tr th:only-of-type {\n",
       "        vertical-align: middle;\n",
       "    }\n",
       "\n",
       "    .dataframe tbody tr th {\n",
       "        vertical-align: top;\n",
       "    }\n",
       "\n",
       "    .dataframe thead th {\n",
       "        text-align: right;\n",
       "    }\n",
       "</style>\n",
       "<table border=\"1\" class=\"dataframe\">\n",
       "  <thead>\n",
       "    <tr style=\"text-align: right;\">\n",
       "      <th>target</th>\n",
       "      <th>0</th>\n",
       "      <th>1</th>\n",
       "      <th>woe</th>\n",
       "    </tr>\n",
       "    <tr>\n",
       "      <th>DebtRatio</th>\n",
       "      <th></th>\n",
       "      <th></th>\n",
       "      <th></th>\n",
       "    </tr>\n",
       "  </thead>\n",
       "  <tbody>\n",
       "    <tr>\n",
       "      <th>(-inf, 0.08]</th>\n",
       "      <td>14558</td>\n",
       "      <td>944</td>\n",
       "      <td>-0.110594</td>\n",
       "    </tr>\n",
       "    <tr>\n",
       "      <th>(0.08, 0.2]</th>\n",
       "      <td>14569</td>\n",
       "      <td>994</td>\n",
       "      <td>-0.059738</td>\n",
       "    </tr>\n",
       "    <tr>\n",
       "      <th>(0.2, 0.3]</th>\n",
       "      <td>14255</td>\n",
       "      <td>789</td>\n",
       "      <td>-0.268921</td>\n",
       "    </tr>\n",
       "    <tr>\n",
       "      <th>(0.3, 0.4]</th>\n",
       "      <td>12806</td>\n",
       "      <td>784</td>\n",
       "      <td>-0.168084</td>\n",
       "    </tr>\n",
       "    <tr>\n",
       "      <th>(0.4, 0.5]</th>\n",
       "      <td>9123</td>\n",
       "      <td>700</td>\n",
       "      <td>0.057702</td>\n",
       "    </tr>\n",
       "    <tr>\n",
       "      <th>(0.5, 0.6]</th>\n",
       "      <td>5716</td>\n",
       "      <td>541</td>\n",
       "      <td>0.267570</td>\n",
       "    </tr>\n",
       "    <tr>\n",
       "      <th>(0.6, 0.7]</th>\n",
       "      <td>3712</td>\n",
       "      <td>379</td>\n",
       "      <td>0.343386</td>\n",
       "    </tr>\n",
       "    <tr>\n",
       "      <th>(0.7, 0.8]</th>\n",
       "      <td>2255</td>\n",
       "      <td>284</td>\n",
       "      <td>0.553245</td>\n",
       "    </tr>\n",
       "    <tr>\n",
       "      <th>(0.8, 0.9]</th>\n",
       "      <td>1461</td>\n",
       "      <td>193</td>\n",
       "      <td>0.600989</td>\n",
       "    </tr>\n",
       "    <tr>\n",
       "      <th>(0.9, 1.0]</th>\n",
       "      <td>1120</td>\n",
       "      <td>149</td>\n",
       "      <td>0.608038</td>\n",
       "    </tr>\n",
       "    <tr>\n",
       "      <th>(1.0, 2.0]</th>\n",
       "      <td>2616</td>\n",
       "      <td>406</td>\n",
       "      <td>0.762127</td>\n",
       "    </tr>\n",
       "    <tr>\n",
       "      <th>(2.0, 20.0]</th>\n",
       "      <td>1956</td>\n",
       "      <td>131</td>\n",
       "      <td>-0.078284</td>\n",
       "    </tr>\n",
       "    <tr>\n",
       "      <th>(20.0, 98.0]</th>\n",
       "      <td>1987</td>\n",
       "      <td>99</td>\n",
       "      <td>-0.374086</td>\n",
       "    </tr>\n",
       "    <tr>\n",
       "      <th>(98.0, 427.0]</th>\n",
       "      <td>1915</td>\n",
       "      <td>159</td>\n",
       "      <td>0.136607</td>\n",
       "    </tr>\n",
       "    <tr>\n",
       "      <th>(427.0, 831.4]</th>\n",
       "      <td>1906</td>\n",
       "      <td>174</td>\n",
       "      <td>0.231469</td>\n",
       "    </tr>\n",
       "    <tr>\n",
       "      <th>(831.4, 1265.0]</th>\n",
       "      <td>1967</td>\n",
       "      <td>118</td>\n",
       "      <td>-0.188405</td>\n",
       "    </tr>\n",
       "    <tr>\n",
       "      <th>(1265.0, 1699.0]</th>\n",
       "      <td>1976</td>\n",
       "      <td>103</td>\n",
       "      <td>-0.328925</td>\n",
       "    </tr>\n",
       "    <tr>\n",
       "      <th>(1699.0, 2188.0]</th>\n",
       "      <td>1994</td>\n",
       "      <td>88</td>\n",
       "      <td>-0.495386</td>\n",
       "    </tr>\n",
       "    <tr>\n",
       "      <th>(2188.0, 2812.0]</th>\n",
       "      <td>1989</td>\n",
       "      <td>93</td>\n",
       "      <td>-0.437612</td>\n",
       "    </tr>\n",
       "    <tr>\n",
       "      <th>(2812.0, 3852.0]</th>\n",
       "      <td>1983</td>\n",
       "      <td>100</td>\n",
       "      <td>-0.362020</td>\n",
       "    </tr>\n",
       "    <tr>\n",
       "      <th>(3852.0, inf]</th>\n",
       "      <td>1935</td>\n",
       "      <td>145</td>\n",
       "      <td>0.034047</td>\n",
       "    </tr>\n",
       "  </tbody>\n",
       "</table>\n",
       "</div>"
      ],
      "text/plain": [
       "target                0    1       woe\n",
       "DebtRatio                             \n",
       "(-inf, 0.08]      14558  944 -0.110594\n",
       "(0.08, 0.2]       14569  994 -0.059738\n",
       "(0.2, 0.3]        14255  789 -0.268921\n",
       "(0.3, 0.4]        12806  784 -0.168084\n",
       "(0.4, 0.5]         9123  700  0.057702\n",
       "(0.5, 0.6]         5716  541  0.267570\n",
       "(0.6, 0.7]         3712  379  0.343386\n",
       "(0.7, 0.8]         2255  284  0.553245\n",
       "(0.8, 0.9]         1461  193  0.600989\n",
       "(0.9, 1.0]         1120  149  0.608038\n",
       "(1.0, 2.0]         2616  406  0.762127\n",
       "(2.0, 20.0]        1956  131 -0.078284\n",
       "(20.0, 98.0]       1987   99 -0.374086\n",
       "(98.0, 427.0]      1915  159  0.136607\n",
       "(427.0, 831.4]     1906  174  0.231469\n",
       "(831.4, 1265.0]    1967  118 -0.188405\n",
       "(1265.0, 1699.0]   1976  103 -0.328925\n",
       "(1699.0, 2188.0]   1994   88 -0.495386\n",
       "(2188.0, 2812.0]   1989   93 -0.437612\n",
       "(2812.0, 3852.0]   1983  100 -0.362020\n",
       "(3852.0, inf]      1935  145  0.034047"
      ]
     },
     "metadata": {},
     "output_type": "display_data"
    },
    {
     "data": {
      "text/plain": [
       "<matplotlib.axes._subplots.AxesSubplot at 0x1ab6c202d48>"
      ]
     },
     "execution_count": 44,
     "metadata": {},
     "output_type": "execute_result"
    },
    {
     "data": {
      "image/png": "[encoded data removed]",
      "text/plain": [
       "<Figure size 432x288 with 1 Axes>"
      ]
     },
     "metadata": {
      "needs_background": "light"
     },
     "output_type": "display_data"
    }
   ],
   "source": [
    "## 尝试多种分箱方法后的结果：\n",
    "split = [-np.inf,.08,*np.arange(.2,1.1,.1),]\n",
    "split2 = df_train.DebtRatio[data_train.DebtRatio.gt(2)].quantile(np.arange(10)/10).tolist()\n",
    "b=split+split2+[np.inf]\n",
    "debt_box,debt_iv = init_box(df_train.loc[:,['DebtRatio','target']],b)\n",
    "# debt_box,debt_iv = init_box(data_train.loc[:,['DebtRatio','target']],b)\n",
    "# debt_box,debt_iv = spearman_box(data_train.loc[:,['DebtRatio','target']],r_thr=.5)\n",
    "display(debt_box)\n",
    "debt_box.woe.plot(kind='bar',title=f'IV: {debt_iv:.4f}')"
   ]
  },
  {
   "cell_type": "code",
   "execution_count": 45,
   "metadata": {},
   "outputs": [
    {
     "data": {
      "text/plain": [
       "<matplotlib.axes._subplots.AxesSubplot at 0x1ab6c217c88>"
      ]
     },
     "execution_count": 45,
     "metadata": {},
     "output_type": "execute_result"
    },
    {
     "data": {
      "image/png": "[encoded data removed]",
      "text/plain": [
       "<Figure size 432x288 with 1 Axes>"
      ]
     },
     "metadata": {
      "needs_background": "light"
     },
     "output_type": "display_data"
    }
   ],
   "source": [
    "data_train.open_loan.hist(bins=500)"
   ]
  },
  {
   "cell_type": "code",
   "execution_count": 46,
   "metadata": {},
   "outputs": [
    {
     "data": {
      "text/html": [
       "<div>\n",
       "<style scoped>\n",
       "    .dataframe tbody tr th:only-of-type {\n",
       "        vertical-align: middle;\n",
       "    }\n",
       "\n",
       "    .dataframe tbody tr th {\n",
       "        vertical-align: top;\n",
       "    }\n",
       "\n",
       "    .dataframe thead th {\n",
       "        text-align: right;\n",
       "    }\n",
       "</style>\n",
       "<table border=\"1\" class=\"dataframe\">\n",
       "  <thead>\n",
       "    <tr style=\"text-align: right;\">\n",
       "      <th>target</th>\n",
       "      <th>0</th>\n",
       "      <th>1</th>\n",
       "      <th>p_val</th>\n",
       "      <th>woe</th>\n",
       "    </tr>\n",
       "    <tr>\n",
       "      <th>open_loan</th>\n",
       "      <th></th>\n",
       "      <th></th>\n",
       "      <th></th>\n",
       "      <th></th>\n",
       "    </tr>\n",
       "  </thead>\n",
       "  <tbody>\n",
       "    <tr>\n",
       "      <th>(-inf, 2.0]</th>\n",
       "      <td>7619</td>\n",
       "      <td>1214</td>\n",
       "      <td>1.071438e-32</td>\n",
       "      <td>0.788451</td>\n",
       "    </tr>\n",
       "    <tr>\n",
       "      <th>(2.0, 3.0]</th>\n",
       "      <td>5917</td>\n",
       "      <td>486</td>\n",
       "      <td>3.308424e-03</td>\n",
       "      <td>0.125799</td>\n",
       "    </tr>\n",
       "    <tr>\n",
       "      <th>(3.0, 5.0]</th>\n",
       "      <td>16539</td>\n",
       "      <td>1152</td>\n",
       "      <td>4.193887e-04</td>\n",
       "      <td>-0.039046</td>\n",
       "    </tr>\n",
       "    <tr>\n",
       "      <th>(5.0, 7.0]</th>\n",
       "      <td>18586</td>\n",
       "      <td>1111</td>\n",
       "      <td>1.402500e-02</td>\n",
       "      <td>-0.191972</td>\n",
       "    </tr>\n",
       "    <tr>\n",
       "      <th>(7.0, 8.0]</th>\n",
       "      <td>8813</td>\n",
       "      <td>458</td>\n",
       "      <td>1.964331e-04</td>\n",
       "      <td>-0.331938</td>\n",
       "    </tr>\n",
       "    <tr>\n",
       "      <th>(8.0, 12.0]</th>\n",
       "      <td>25116</td>\n",
       "      <td>1598</td>\n",
       "      <td>1.809791e-02</td>\n",
       "      <td>-0.129577</td>\n",
       "    </tr>\n",
       "    <tr>\n",
       "      <th>(12.0, 13.0]</th>\n",
       "      <td>3978</td>\n",
       "      <td>212</td>\n",
       "      <td>8.180599e-06</td>\n",
       "      <td>-0.306773</td>\n",
       "    </tr>\n",
       "    <tr>\n",
       "      <th>(13.0, inf]</th>\n",
       "      <td>15231</td>\n",
       "      <td>1142</td>\n",
       "      <td>1.000000e+00</td>\n",
       "      <td>0.034624</td>\n",
       "    </tr>\n",
       "  </tbody>\n",
       "</table>\n",
       "</div>"
      ],
      "text/plain": [
       "target            0     1         p_val       woe\n",
       "open_loan                                        \n",
       "(-inf, 2.0]    7619  1214  1.071438e-32  0.788451\n",
       "(2.0, 3.0]     5917   486  3.308424e-03  0.125799\n",
       "(3.0, 5.0]    16539  1152  4.193887e-04 -0.039046\n",
       "(5.0, 7.0]    18586  1111  1.402500e-02 -0.191972\n",
       "(7.0, 8.0]     8813   458  1.964331e-04 -0.331938\n",
       "(8.0, 12.0]   25116  1598  1.809791e-02 -0.129577\n",
       "(12.0, 13.0]   3978   212  8.180599e-06 -0.306773\n",
       "(13.0, inf]   15231  1142  1.000000e+00  0.034624"
      ]
     },
     "metadata": {},
     "output_type": "display_data"
    },
    {
     "data": {
      "text/plain": [
       "<matplotlib.axes._subplots.AxesSubplot at 0x1ab6c43cec8>"
      ]
     },
     "execution_count": 46,
     "metadata": {},
     "output_type": "execute_result"
    },
    {
     "data": {
      "image/png": "[encoded data removed]",
      "text/plain": [
       "<Figure size 432x288 with 1 Axes>"
      ]
     },
     "metadata": {
      "needs_background": "light"
     },
     "output_type": "display_data"
    }
   ],
   "source": [
    "# loan_box,loan_iv = init_box(data_train.loc[:,['open_loan','target']],np.arange(15))\n",
    "# loan_box,loan_iv = spearman_box(data_train.loc[:,['open_loan','target']],r_thr=.1)\n",
    "loan_box,loan_iv = chi2_box(df_train.loc[:,['open_loan','target']])\n",
    "display(loan_box)\n",
    "loan_box.woe.plot(kind='bar',title=f'IV: {loan_iv:.4f}')"
   ]
  },
  {
   "cell_type": "code",
   "execution_count": 47,
   "metadata": {},
   "outputs": [
    {
     "data": {
      "text/plain": [
       "<matplotlib.axes._subplots.AxesSubplot at 0x1ab6c467a08>"
      ]
     },
     "execution_count": 47,
     "metadata": {},
     "output_type": "execute_result"
    },
    {
     "data": {
      "image/png": "[encoded data removed]",
      "text/plain": [
       "<Figure size 432x288 with 1 Axes>"
      ]
     },
     "metadata": {
      "needs_background": "light"
     },
     "output_type": "display_data"
    }
   ],
   "source": [
    "df_train.query('estate_loan<6').estate_loan.hist(bins=15)"
   ]
  },
  {
   "cell_type": "code",
   "execution_count": 48,
   "metadata": {},
   "outputs": [
    {
     "data": {
      "text/html": [
       "<div>\n",
       "<style scoped>\n",
       "    .dataframe tbody tr th:only-of-type {\n",
       "        vertical-align: middle;\n",
       "    }\n",
       "\n",
       "    .dataframe tbody tr th {\n",
       "        vertical-align: top;\n",
       "    }\n",
       "\n",
       "    .dataframe thead th {\n",
       "        text-align: right;\n",
       "    }\n",
       "</style>\n",
       "<table border=\"1\" class=\"dataframe\">\n",
       "  <thead>\n",
       "    <tr style=\"text-align: right;\">\n",
       "      <th>target</th>\n",
       "      <th>0</th>\n",
       "      <th>1</th>\n",
       "      <th>woe</th>\n",
       "    </tr>\n",
       "    <tr>\n",
       "      <th>estate_loan</th>\n",
       "      <th></th>\n",
       "      <th></th>\n",
       "      <th></th>\n",
       "    </tr>\n",
       "  </thead>\n",
       "  <tbody>\n",
       "    <tr>\n",
       "      <th>(-inf, 0.0]</th>\n",
       "      <td>36680</td>\n",
       "      <td>3424</td>\n",
       "      <td>0.253753</td>\n",
       "    </tr>\n",
       "    <tr>\n",
       "      <th>(0.0, 1.0]</th>\n",
       "      <td>36268</td>\n",
       "      <td>2035</td>\n",
       "      <td>-0.255264</td>\n",
       "    </tr>\n",
       "    <tr>\n",
       "      <th>(1.0, 2.0]</th>\n",
       "      <td>22081</td>\n",
       "      <td>1308</td>\n",
       "      <td>-0.201043</td>\n",
       "    </tr>\n",
       "    <tr>\n",
       "      <th>(2.0, 3.0]</th>\n",
       "      <td>4369</td>\n",
       "      <td>308</td>\n",
       "      <td>-0.027014</td>\n",
       "    </tr>\n",
       "    <tr>\n",
       "      <th>(3.0, 5.0]</th>\n",
       "      <td>1911</td>\n",
       "      <td>192</td>\n",
       "      <td>0.327289</td>\n",
       "    </tr>\n",
       "    <tr>\n",
       "      <th>(5.0, inf]</th>\n",
       "      <td>490</td>\n",
       "      <td>106</td>\n",
       "      <td>1.094209</td>\n",
       "    </tr>\n",
       "  </tbody>\n",
       "</table>\n",
       "</div>"
      ],
      "text/plain": [
       "target           0     1       woe\n",
       "estate_loan                       \n",
       "(-inf, 0.0]  36680  3424  0.253753\n",
       "(0.0, 1.0]   36268  2035 -0.255264\n",
       "(1.0, 2.0]   22081  1308 -0.201043\n",
       "(2.0, 3.0]    4369   308 -0.027014\n",
       "(3.0, 5.0]    1911   192  0.327289\n",
       "(5.0, inf]     490   106  1.094209"
      ]
     },
     "metadata": {},
     "output_type": "display_data"
    },
    {
     "data": {
      "text/plain": [
       "0.06771504740315935"
      ]
     },
     "metadata": {},
     "output_type": "display_data"
    },
    {
     "data": {
      "text/plain": [
       "<matplotlib.axes._subplots.AxesSubplot at 0x1ab6ca71bc8>"
      ]
     },
     "execution_count": 48,
     "metadata": {},
     "output_type": "execute_result"
    },
    {
     "data": {
      "image/png": "[encoded data removed]",
      "text/plain": [
       "<Figure size 432x288 with 1 Axes>"
      ]
     },
     "metadata": {
      "needs_background": "light"
     },
     "output_type": "display_data"
    }
   ],
   "source": [
    "estate_box,estate_iv = init_box(df_train[['estate_loan','target']],\n",
    "                               n_split = [-np.inf, 0, 1, 2, 3, 5, np.inf])\n",
    "# estate_box,estate_iv = spearman_box(data_train[['estate_loan','target']],r_thr=.05)\n",
    "display(estate_box,estate_iv)\n",
    "estate_box.woe.plot(kind='bar',title=f'IV: {estate_iv:.4f}')"
   ]
  },
  {
   "cell_type": "code",
   "execution_count": 49,
   "metadata": {},
   "outputs": [
    {
     "data": {
      "text/plain": [
       "<matplotlib.axes._subplots.AxesSubplot at 0x1ab6ca48b48>"
      ]
     },
     "execution_count": 49,
     "metadata": {},
     "output_type": "execute_result"
    },
    {
     "data": {
      "image/png": "[encoded data removed]",
      "text/plain": [
       "<Figure size 432x288 with 1 Axes>"
      ]
     },
     "metadata": {
      "needs_background": "light"
     },
     "output_type": "display_data"
    }
   ],
   "source": [
    "df_train.Dependents.hist(bins=500)"
   ]
  },
  {
   "cell_type": "code",
   "execution_count": 50,
   "metadata": {},
   "outputs": [
    {
     "data": {
      "text/html": [
       "<div>\n",
       "<style scoped>\n",
       "    .dataframe tbody tr th:only-of-type {\n",
       "        vertical-align: middle;\n",
       "    }\n",
       "\n",
       "    .dataframe tbody tr th {\n",
       "        vertical-align: top;\n",
       "    }\n",
       "\n",
       "    .dataframe thead th {\n",
       "        text-align: right;\n",
       "    }\n",
       "</style>\n",
       "<table border=\"1\" class=\"dataframe\">\n",
       "  <thead>\n",
       "    <tr style=\"text-align: right;\">\n",
       "      <th>target</th>\n",
       "      <th>0</th>\n",
       "      <th>1</th>\n",
       "      <th>woe</th>\n",
       "    </tr>\n",
       "    <tr>\n",
       "      <th>Dependents</th>\n",
       "      <th></th>\n",
       "      <th></th>\n",
       "      <th></th>\n",
       "    </tr>\n",
       "  </thead>\n",
       "  <tbody>\n",
       "    <tr>\n",
       "      <th>(-inf, 0.0]</th>\n",
       "      <td>60865</td>\n",
       "      <td>3853</td>\n",
       "      <td>-0.134631</td>\n",
       "    </tr>\n",
       "    <tr>\n",
       "      <th>(0.0, 1.0]</th>\n",
       "      <td>18243</td>\n",
       "      <td>1434</td>\n",
       "      <td>0.081862</td>\n",
       "    </tr>\n",
       "    <tr>\n",
       "      <th>(1.0, 2.0]</th>\n",
       "      <td>13552</td>\n",
       "      <td>1180</td>\n",
       "      <td>0.184156</td>\n",
       "    </tr>\n",
       "    <tr>\n",
       "      <th>(2.0, 3.0]</th>\n",
       "      <td>6533</td>\n",
       "      <td>624</td>\n",
       "      <td>0.276704</td>\n",
       "    </tr>\n",
       "    <tr>\n",
       "      <th>(3.0, 5.0]</th>\n",
       "      <td>2449</td>\n",
       "      <td>258</td>\n",
       "      <td>0.374700</td>\n",
       "    </tr>\n",
       "    <tr>\n",
       "      <th>(5.0, inf]</th>\n",
       "      <td>157</td>\n",
       "      <td>24</td>\n",
       "      <td>0.746984</td>\n",
       "    </tr>\n",
       "  </tbody>\n",
       "</table>\n",
       "</div>"
      ],
      "text/plain": [
       "target           0     1       woe\n",
       "Dependents                        \n",
       "(-inf, 0.0]  60865  3853 -0.134631\n",
       "(0.0, 1.0]   18243  1434  0.081862\n",
       "(1.0, 2.0]   13552  1180  0.184156\n",
       "(2.0, 3.0]    6533   624  0.276704\n",
       "(3.0, 5.0]    2449   258  0.374700\n",
       "(5.0, inf]     157    24  0.746984"
      ]
     },
     "metadata": {},
     "output_type": "display_data"
    },
    {
     "data": {
      "text/plain": [
       "<matplotlib.axes._subplots.AxesSubplot at 0x1ab6cfd89c8>"
      ]
     },
     "execution_count": 50,
     "metadata": {},
     "output_type": "execute_result"
    },
    {
     "data": {
      "image/png": "[encoded data removed]",
      "text/plain": [
       "<Figure size 432x288 with 1 Axes>"
      ]
     },
     "metadata": {
      "needs_background": "light"
     },
     "output_type": "display_data"
    }
   ],
   "source": [
    "depend_box,depend_iv = init_box(df_train[['Dependents','target']],\n",
    "                               n_split = [-np.inf, 0, 1, 2, 3, 5, np.inf])\n",
    "# depend_box,depend_iv = chi2_box(data_train[['Dependents','target']])\n",
    "display(depend_box)\n",
    "depend_box.woe.plot(kind='bar',title=f'IV: {depend_iv:.4f}')"
   ]
  },
  {
   "cell_type": "markdown",
   "metadata": {},
   "source": [
    "## WOE替换"
   ]
  },
  {
   "cell_type": "code",
   "execution_count": 51,
   "metadata": {},
   "outputs": [],
   "source": [
    "woe_map = { 'percentage':per_box,\n",
    "            'age':age_box,\n",
    "            '30-59':n30_box,\n",
    "            'DebtRatio':debt_box,\n",
    "            'MonthlyIncome':MI_box,\n",
    "            'open_loan':loan_box,\n",
    "            '90-':n90_box,\n",
    "            'estate_loan':estate_box,\n",
    "            '60-89':n60_box,\n",
    "            'Dependents':depend_box}\n",
    "def woe_swag(df,woe=woe_map):\n",
    "    df2={k:v.loc[df[k],'woe'].reset_index(drop=True) for k,v in woe.items()}\n",
    "    df2['target'] = df.target.reset_index(drop=True)\n",
    "    return pd.DataFrame(df2)"
   ]
  },
  {
   "cell_type": "code",
   "execution_count": 52,
   "metadata": {},
   "outputs": [],
   "source": [
    "## 替换变量\n",
    "data_train_bak = df_train.copy()\n",
    "# data_train = data_train_bak.copy()"
   ]
  },
  {
   "cell_type": "code",
   "execution_count": 53,
   "metadata": {},
   "outputs": [],
   "source": [
    "df_train = woe_swag(df_train)"
   ]
  },
  {
   "cell_type": "code",
   "execution_count": 54,
   "metadata": {},
   "outputs": [
    {
     "data": {
      "text/html": [
       "<div>\n",
       "<style scoped>\n",
       "    .dataframe tbody tr th:only-of-type {\n",
       "        vertical-align: middle;\n",
       "    }\n",
       "\n",
       "    .dataframe tbody tr th {\n",
       "        vertical-align: top;\n",
       "    }\n",
       "\n",
       "    .dataframe thead th {\n",
       "        text-align: right;\n",
       "    }\n",
       "</style>\n",
       "<table border=\"1\" class=\"dataframe\">\n",
       "  <thead>\n",
       "    <tr style=\"text-align: right;\">\n",
       "      <th></th>\n",
       "      <th>percentage</th>\n",
       "      <th>age</th>\n",
       "      <th>30-59</th>\n",
       "      <th>DebtRatio</th>\n",
       "      <th>MonthlyIncome</th>\n",
       "      <th>open_loan</th>\n",
       "      <th>90-</th>\n",
       "      <th>estate_loan</th>\n",
       "      <th>60-89</th>\n",
       "      <th>Dependents</th>\n",
       "      <th>target</th>\n",
       "    </tr>\n",
       "  </thead>\n",
       "  <tbody>\n",
       "    <tr>\n",
       "      <th>0</th>\n",
       "      <td>1.204158</td>\n",
       "      <td>0.552320</td>\n",
       "      <td>0.893351</td>\n",
       "      <td>-0.168084</td>\n",
       "      <td>0.023298</td>\n",
       "      <td>-0.039046</td>\n",
       "      <td>-0.393017</td>\n",
       "      <td>-0.255264</td>\n",
       "      <td>-0.285485</td>\n",
       "      <td>-0.134631</td>\n",
       "      <td>0</td>\n",
       "    </tr>\n",
       "    <tr>\n",
       "      <th>1</th>\n",
       "      <td>-1.255796</td>\n",
       "      <td>0.127063</td>\n",
       "      <td>-0.539241</td>\n",
       "      <td>-0.059738</td>\n",
       "      <td>0.295822</td>\n",
       "      <td>-0.039046</td>\n",
       "      <td>-0.393017</td>\n",
       "      <td>-0.255264</td>\n",
       "      <td>-0.285485</td>\n",
       "      <td>-0.134631</td>\n",
       "      <td>0</td>\n",
       "    </tr>\n",
       "    <tr>\n",
       "      <th>2</th>\n",
       "      <td>-0.809379</td>\n",
       "      <td>0.127063</td>\n",
       "      <td>-0.539241</td>\n",
       "      <td>0.267570</td>\n",
       "      <td>-0.446559</td>\n",
       "      <td>0.034624</td>\n",
       "      <td>-0.393017</td>\n",
       "      <td>0.327289</td>\n",
       "      <td>-0.285485</td>\n",
       "      <td>0.184156</td>\n",
       "      <td>0</td>\n",
       "    </tr>\n",
       "    <tr>\n",
       "      <th>3</th>\n",
       "      <td>-0.478387</td>\n",
       "      <td>0.127063</td>\n",
       "      <td>-0.539241</td>\n",
       "      <td>-0.268921</td>\n",
       "      <td>-0.210562</td>\n",
       "      <td>-0.331938</td>\n",
       "      <td>-0.393017</td>\n",
       "      <td>-0.201043</td>\n",
       "      <td>-0.285485</td>\n",
       "      <td>0.184156</td>\n",
       "      <td>0</td>\n",
       "    </tr>\n",
       "    <tr>\n",
       "      <th>4</th>\n",
       "      <td>-1.645056</td>\n",
       "      <td>-1.093561</td>\n",
       "      <td>-0.539241</td>\n",
       "      <td>-0.110594</td>\n",
       "      <td>0.295822</td>\n",
       "      <td>-0.039046</td>\n",
       "      <td>-0.393017</td>\n",
       "      <td>0.253753</td>\n",
       "      <td>-0.285485</td>\n",
       "      <td>-0.134631</td>\n",
       "      <td>0</td>\n",
       "    </tr>\n",
       "  </tbody>\n",
       "</table>\n",
       "</div>"
      ],
      "text/plain": [
       "   percentage       age     30-59  DebtRatio  MonthlyIncome  open_loan  \\\n",
       "0    1.204158  0.552320  0.893351  -0.168084       0.023298  -0.039046   \n",
       "1   -1.255796  0.127063 -0.539241  -0.059738       0.295822  -0.039046   \n",
       "2   -0.809379  0.127063 -0.539241   0.267570      -0.446559   0.034624   \n",
       "3   -0.478387  0.127063 -0.539241  -0.268921      -0.210562  -0.331938   \n",
       "4   -1.645056 -1.093561 -0.539241  -0.110594       0.295822  -0.039046   \n",
       "\n",
       "        90-  estate_loan     60-89  Dependents  target  \n",
       "0 -0.393017    -0.255264 -0.285485   -0.134631       0  \n",
       "1 -0.393017    -0.255264 -0.285485   -0.134631       0  \n",
       "2 -0.393017     0.327289 -0.285485    0.184156       0  \n",
       "3 -0.393017    -0.201043 -0.285485    0.184156       0  \n",
       "4 -0.393017     0.253753 -0.285485   -0.134631       0  "
      ]
     },
     "execution_count": 54,
     "metadata": {},
     "output_type": "execute_result"
    }
   ],
   "source": [
    "df_train.head()"
   ]
  },
  {
   "cell_type": "code",
   "execution_count": 55,
   "metadata": {},
   "outputs": [
    {
     "data": {
      "image/png": "[encoded data removed]",
      "text/plain": [
       "<Figure size 1152x648 with 11 Axes>"
      ]
     },
     "metadata": {
      "needs_background": "light"
     },
     "output_type": "display_data"
    }
   ],
   "source": [
    "plt.figure(figsize=(16,9))\n",
    "for i,col in enumerate(df_train.columns):\n",
    "    plt.subplot(3,4,i+1)\n",
    "    df_train[col].hist(bins=50)\n",
    "    plt.ylabel(col)"
   ]
  },
  {
   "cell_type": "code",
   "execution_count": 56,
   "metadata": {},
   "outputs": [],
   "source": [
    "df_test = woe_swag(df_test)"
   ]
  },
  {
   "cell_type": "code",
   "execution_count": 97,
   "metadata": {},
   "outputs": [],
   "source": [
    "## 将正负样本SMOTE\n",
    "# X, y = df_train.iloc[:,:-1].values, df_train.iloc[:,-1:].values\n",
    "from imblearn.over_sampling import SMOTE\n",
    "smote = SMOTE(sampling_strategy=.5,n_jobs=-1)\n",
    "X, y = smote.fit_resample(df_train.iloc[:,:-1], df_train.iloc[:,-1])"
   ]
  },
  {
   "cell_type": "markdown",
   "metadata": {},
   "source": [
    "## 模型训练"
   ]
  },
  {
   "cell_type": "code",
   "execution_count": 86,
   "metadata": {},
   "outputs": [],
   "source": [
    "from sklearn.linear_model import LogisticRegression\n",
    "from sklearn.preprocessing import StandardScaler\n",
    "from sklearn.model_selection import GridSearchCV\n",
    "from sklearn.metrics import make_scorer, roc_auc_score, roc_curve\n",
    "my_scorer = make_scorer(roc_auc_score,needs_proba=True)\n",
    "from sklearn.metrics import plot_roc_curve"
   ]
  },
  {
   "cell_type": "code",
   "execution_count": 95,
   "metadata": {},
   "outputs": [],
   "source": [
    "# ss = StandardScaler()\n",
    "# ss.fit(df_train.iloc[:,:-1])\n",
    "# X = ss.fit_transform(X)\n",
    "# X_test = ss.transform(X_test)"
   ]
  },
  {
   "cell_type": "code",
   "execution_count": 98,
   "metadata": {},
   "outputs": [
    {
     "data": {
      "text/plain": [
       "GridSearchCV(estimator=LogisticRegression(solver='liblinear'), n_jobs=-1,\n",
       "             param_grid={'C': [0.0005, 0.001, 0.01, 0.015, 0.02]},\n",
       "             scoring=make_scorer(roc_auc_score, needs_proba=True))"
      ]
     },
     "execution_count": 98,
     "metadata": {},
     "output_type": "execute_result"
    }
   ],
   "source": [
    "params = {'C':[.0005,.001,.01,.015,.02]}\n",
    "lr = LogisticRegression(solver='liblinear')\n",
    "clf = GridSearchCV(lr,params,n_jobs=-1,scoring=my_scorer)\n",
    "clf.fit(X,y)"
   ]
  },
  {
   "cell_type": "code",
   "execution_count": 148,
   "metadata": {},
   "outputs": [
    {
     "data": {
      "text/plain": [
       "0.8603445930918546"
      ]
     },
     "metadata": {},
     "output_type": "display_data"
    },
    {
     "data": {
      "text/plain": [
       "{'C': 0.01}"
      ]
     },
     "metadata": {},
     "output_type": "display_data"
    }
   ],
   "source": [
    "display(clf.best_score_, clf.best_params_)"
   ]
  },
  {
   "cell_type": "code",
   "execution_count": 149,
   "metadata": {},
   "outputs": [
    {
     "data": {
      "text/plain": [
       "0.855005107825436"
      ]
     },
     "execution_count": 149,
     "metadata": {},
     "output_type": "execute_result"
    },
    {
     "data": {
      "image/png": "[encoded data removed]",
      "text/plain": [
       "<Figure size 432x288 with 1 Axes>"
      ]
     },
     "metadata": {
      "needs_background": "light"
     },
     "output_type": "display_data"
    }
   ],
   "source": [
    "## 模型评估--auc\n",
    "_ = plot_roc_curve(clf.best_estimator_,df_test.iloc[:,:-1],df_test.target.values)\n",
    "roc_auc_score(df_test.target.values, clf.best_estimator_.predict_proba(df_test.iloc[:,:-1])[:,1])"
   ]
  },
  {
   "cell_type": "code",
   "execution_count": 103,
   "metadata": {},
   "outputs": [],
   "source": [
    "from xgboost import XGBClassifier"
   ]
  },
  {
   "cell_type": "code",
   "execution_count": 136,
   "metadata": {},
   "outputs": [
    {
     "data": {
      "text/plain": [
       "0.8532204022299531"
      ]
     },
     "execution_count": 136,
     "metadata": {},
     "output_type": "execute_result"
    },
    {
     "data": {
      "image/png": "[encoded data removed]",
      "text/plain": [
       "<Figure size 432x288 with 1 Axes>"
      ]
     },
     "metadata": {
      "needs_background": "light"
     },
     "output_type": "display_data"
    }
   ],
   "source": [
    "xgb = XGBClassifier(n_jobs=-1)\n",
    "xgb.fit(X,y)\n",
    "_ = plot_roc_curve(xgb,df_test.iloc[:,:-1],df_test.target.values)\n",
    "roc_auc_score(df_test.target.values, xgb.predict_proba(df_test.iloc[:,:-1])[:,1])"
   ]
  },
  {
   "cell_type": "code",
   "execution_count": 137,
   "metadata": {},
   "outputs": [],
   "source": [
    "from sklearn.ensemble import RandomForestClassifier, VotingClassifier"
   ]
  },
  {
   "cell_type": "code",
   "execution_count": 144,
   "metadata": {},
   "outputs": [
    {
     "name": "stdout",
     "output_type": "stream",
     "text": [
      "Fitting 5 folds for each of 9 candidates, totalling 45 fits\n"
     ]
    },
    {
     "name": "stderr",
     "output_type": "stream",
     "text": [
      "[Parallel(n_jobs=-1)]: Using backend LokyBackend with 4 concurrent workers.\n",
      "[Parallel(n_jobs=-1)]: Done  45 out of  45 | elapsed:  1.4min finished\n"
     ]
    },
    {
     "data": {
      "text/plain": [
       "GridSearchCV(estimator=RandomForestClassifier(), n_jobs=-1,\n",
       "             param_grid={'max_depth': [3, 5, 7],\n",
       "                         'min_samples_leaf': [1, 10, 20]},\n",
       "             scoring=make_scorer(roc_auc_score, needs_proba=True),\n",
       "             verbose=True)"
      ]
     },
     "execution_count": 144,
     "metadata": {},
     "output_type": "execute_result"
    }
   ],
   "source": [
    "rf = RandomForestClassifier()\n",
    "params2 = {'max_depth':[3,5,7],'min_samples_leaf':[1,10,20]}\n",
    "clf2 = GridSearchCV(rf,params2,scoring=my_scorer,n_jobs=-1)\n",
    "clf2.fit(X,y)"
   ]
  },
  {
   "cell_type": "code",
   "execution_count": 146,
   "metadata": {},
   "outputs": [
    {
     "name": "stdout",
     "output_type": "stream",
     "text": [
      "{'max_depth': 7, 'min_samples_leaf': 1} 0.9147483949260028\n"
     ]
    }
   ],
   "source": [
    "print(clf2.best_params_,clf2.best_score_)"
   ]
  },
  {
   "cell_type": "code",
   "execution_count": 147,
   "metadata": {},
   "outputs": [
    {
     "data": {
      "text/plain": [
       "0.852461691788804"
      ]
     },
     "execution_count": 147,
     "metadata": {},
     "output_type": "execute_result"
    },
    {
     "data": {
      "image/png": "[encoded data removed]",
      "text/plain": [
       "<Figure size 432x288 with 1 Axes>"
      ]
     },
     "metadata": {
      "needs_background": "light"
     },
     "output_type": "display_data"
    }
   ],
   "source": [
    "## 模型评估--auc\n",
    "_ = plot_roc_curve(clf2.best_estimator_,df_test.iloc[:,:-1],df_test.target.values)\n",
    "roc_auc_score(df_test.target.values, clf2.best_estimator_.predict_proba(df_test.iloc[:,:-1])[:,1])"
   ]
  },
  {
   "cell_type": "code",
   "execution_count": 177,
   "metadata": {},
   "outputs": [
    {
     "data": {
      "text/plain": [
       "VotingClassifier(estimators=[('lr',\n",
       "                              LogisticRegression(C=0.01, solver='liblinear')),\n",
       "                             ('xgb',\n",
       "                              XGBClassifier(base_score=0.5, booster='gbtree',\n",
       "                                            colsample_bylevel=1,\n",
       "                                            colsample_bynode=1,\n",
       "                                            colsample_bytree=1, gamma=0,\n",
       "                                            gpu_id=-1, importance_type='gain',\n",
       "                                            interaction_constraints='',\n",
       "                                            learning_rate=0.300000012,\n",
       "                                            max_delta_step=0, max_depth=6,\n",
       "                                            min_child_weight=1, missing=nan,\n",
       "                                            monotone_constraints='()',\n",
       "                                            n_estimators=100, n_jobs=-1,\n",
       "                                            num_parallel_tree=1, random_state=0,\n",
       "                                            reg_alpha=0, reg_lambda=1,\n",
       "                                            scale_pos_weight=1, subsample=1,\n",
       "                                            tree_method='exact',\n",
       "                                            validate_parameters=1,\n",
       "                                            verbosity=None)),\n",
       "                             ('rf', RandomForestClassifier(max_depth=7))],\n",
       "                 voting='soft', weights=[3.5, 4.5, 2])"
      ]
     },
     "execution_count": 177,
     "metadata": {},
     "output_type": "execute_result"
    }
   ],
   "source": [
    "clf_t = VotingClassifier([('lr',clf.best_estimator_),\n",
    "                          ('xgb',xgb),\n",
    "                          ('rf',clf2.best_estimator_)],voting='soft',weights=[3.5,4.5,2])\n",
    "clf_t.fit(X,y)"
   ]
  },
  {
   "cell_type": "code",
   "execution_count": 178,
   "metadata": {},
   "outputs": [
    {
     "data": {
      "text/plain": [
       "0.8577483204890162"
      ]
     },
     "execution_count": 178,
     "metadata": {},
     "output_type": "execute_result"
    },
    {
     "data": {
      "image/png": "[encoded data removed]",
      "text/plain": [
       "<Figure size 432x288 with 1 Axes>"
      ]
     },
     "metadata": {
      "needs_background": "light"
     },
     "output_type": "display_data"
    }
   ],
   "source": [
    "## 模型评估--auc\n",
    "_ = plot_roc_curve(clf_t,df_test.iloc[:,:-1],df_test.target.values)\n",
    "roc_auc_score(df_test.target.values, clf_t.predict_proba(df_test.iloc[:,:-1])[:,1])"
   ]
  },
  {
   "cell_type": "markdown",
   "metadata": {},
   "source": [
    "## 预测结果"
   ]
  },
  {
   "cell_type": "code",
   "execution_count": 153,
   "metadata": {},
   "outputs": [],
   "source": [
    "data_test.rename(columns=col_replace,inplace=True)"
   ]
  },
  {
   "cell_type": "code",
   "execution_count": 154,
   "metadata": {},
   "outputs": [
    {
     "data": {
      "text/plain": [
       "target           101503\n",
       "percentage            0\n",
       "age                   0\n",
       "30-59                 0\n",
       "DebtRatio             0\n",
       "MonthlyIncome     20103\n",
       "open_loan             0\n",
       "90-                   0\n",
       "estate_loan           0\n",
       "60-89                 0\n",
       "Dependents         2626\n",
       "dtype: int64"
      ]
     },
     "execution_count": 154,
     "metadata": {},
     "output_type": "execute_result"
    }
   ],
   "source": [
    "## 准备测试集\n",
    "data_test.isna().sum()"
   ]
  },
  {
   "cell_type": "code",
   "execution_count": 158,
   "metadata": {},
   "outputs": [],
   "source": [
    "fill_len = data_test.Dependents.isna().sum()\n",
    "data_test.loc[data_test.Dependents.isna(),'Dependents']=\\\n",
    "np.random.choice(data_train.loc[data_train.Dependents.notna(),'Dependents'],fill_len,False)"
   ]
  },
  {
   "cell_type": "code",
   "execution_count": 159,
   "metadata": {},
   "outputs": [],
   "source": [
    "fill_len = data_test.MonthlyIncome.isna().sum()\n",
    "data_test.loc[data_test.MonthlyIncome.isna(),'MonthlyIncome']=\\\n",
    "np.random.choice(data_train.loc[data_train.MonthlyIncome.notna(),'MonthlyIncome'],fill_len,False)"
   ]
  },
  {
   "cell_type": "code",
   "execution_count": 160,
   "metadata": {},
   "outputs": [],
   "source": [
    "data_test2 = woe_swag(data_test)"
   ]
  },
  {
   "cell_type": "code",
   "execution_count": 161,
   "metadata": {},
   "outputs": [
    {
     "data": {
      "text/html": [
       "<div>\n",
       "<style scoped>\n",
       "    .dataframe tbody tr th:only-of-type {\n",
       "        vertical-align: middle;\n",
       "    }\n",
       "\n",
       "    .dataframe tbody tr th {\n",
       "        vertical-align: top;\n",
       "    }\n",
       "\n",
       "    .dataframe thead th {\n",
       "        text-align: right;\n",
       "    }\n",
       "</style>\n",
       "<table border=\"1\" class=\"dataframe\">\n",
       "  <thead>\n",
       "    <tr style=\"text-align: right;\">\n",
       "      <th></th>\n",
       "      <th>percentage</th>\n",
       "      <th>age</th>\n",
       "      <th>30-59</th>\n",
       "      <th>DebtRatio</th>\n",
       "      <th>MonthlyIncome</th>\n",
       "      <th>open_loan</th>\n",
       "      <th>90-</th>\n",
       "      <th>estate_loan</th>\n",
       "      <th>60-89</th>\n",
       "      <th>Dependents</th>\n",
       "      <th>target</th>\n",
       "    </tr>\n",
       "  </thead>\n",
       "  <tbody>\n",
       "    <tr>\n",
       "      <th>0</th>\n",
       "      <td>1.204158</td>\n",
       "      <td>0.323744</td>\n",
       "      <td>-0.539241</td>\n",
       "      <td>-0.059738</td>\n",
       "      <td>0.023298</td>\n",
       "      <td>-0.039046</td>\n",
       "      <td>-0.393017</td>\n",
       "      <td>0.253753</td>\n",
       "      <td>-0.285485</td>\n",
       "      <td>-0.134631</td>\n",
       "      <td>NaN</td>\n",
       "    </tr>\n",
       "    <tr>\n",
       "      <th>1</th>\n",
       "      <td>0.158387</td>\n",
       "      <td>-0.291692</td>\n",
       "      <td>-0.539241</td>\n",
       "      <td>0.267570</td>\n",
       "      <td>-0.210562</td>\n",
       "      <td>0.034624</td>\n",
       "      <td>-0.393017</td>\n",
       "      <td>0.327289</td>\n",
       "      <td>-0.285485</td>\n",
       "      <td>0.184156</td>\n",
       "      <td>NaN</td>\n",
       "    </tr>\n",
       "    <tr>\n",
       "      <th>2</th>\n",
       "      <td>-1.645056</td>\n",
       "      <td>-0.291692</td>\n",
       "      <td>-0.539241</td>\n",
       "      <td>0.343386</td>\n",
       "      <td>0.023298</td>\n",
       "      <td>-0.129577</td>\n",
       "      <td>-0.393017</td>\n",
       "      <td>-0.255264</td>\n",
       "      <td>-0.285485</td>\n",
       "      <td>0.184156</td>\n",
       "      <td>NaN</td>\n",
       "    </tr>\n",
       "    <tr>\n",
       "      <th>3</th>\n",
       "      <td>-0.478387</td>\n",
       "      <td>0.323744</td>\n",
       "      <td>0.893351</td>\n",
       "      <td>0.608038</td>\n",
       "      <td>0.295822</td>\n",
       "      <td>-0.191972</td>\n",
       "      <td>-0.393017</td>\n",
       "      <td>-0.201043</td>\n",
       "      <td>-0.285485</td>\n",
       "      <td>-0.134631</td>\n",
       "      <td>NaN</td>\n",
       "    </tr>\n",
       "    <tr>\n",
       "      <th>4</th>\n",
       "      <td>1.204158</td>\n",
       "      <td>0.552320</td>\n",
       "      <td>-0.539241</td>\n",
       "      <td>-0.110594</td>\n",
       "      <td>0.144211</td>\n",
       "      <td>-0.039046</td>\n",
       "      <td>-0.393017</td>\n",
       "      <td>0.253753</td>\n",
       "      <td>-0.285485</td>\n",
       "      <td>0.081862</td>\n",
       "      <td>NaN</td>\n",
       "    </tr>\n",
       "  </tbody>\n",
       "</table>\n",
       "</div>"
      ],
      "text/plain": [
       "   percentage       age     30-59  DebtRatio  MonthlyIncome  open_loan  \\\n",
       "0    1.204158  0.323744 -0.539241  -0.059738       0.023298  -0.039046   \n",
       "1    0.158387 -0.291692 -0.539241   0.267570      -0.210562   0.034624   \n",
       "2   -1.645056 -0.291692 -0.539241   0.343386       0.023298  -0.129577   \n",
       "3   -0.478387  0.323744  0.893351   0.608038       0.295822  -0.191972   \n",
       "4    1.204158  0.552320 -0.539241  -0.110594       0.144211  -0.039046   \n",
       "\n",
       "        90-  estate_loan     60-89  Dependents  target  \n",
       "0 -0.393017     0.253753 -0.285485   -0.134631     NaN  \n",
       "1 -0.393017     0.327289 -0.285485    0.184156     NaN  \n",
       "2 -0.393017    -0.255264 -0.285485    0.184156     NaN  \n",
       "3 -0.393017    -0.201043 -0.285485   -0.134631     NaN  \n",
       "4 -0.393017     0.253753 -0.285485    0.081862     NaN  "
      ]
     },
     "execution_count": 161,
     "metadata": {},
     "output_type": "execute_result"
    }
   ],
   "source": [
    "data_test2.head()"
   ]
  },
  {
   "cell_type": "code",
   "execution_count": 162,
   "metadata": {},
   "outputs": [
    {
     "name": "stdout",
     "output_type": "stream",
     "text": [
      "<class 'pandas.core.frame.DataFrame'>\n",
      "RangeIndex: 101503 entries, 0 to 101502\n",
      "Data columns (total 11 columns):\n",
      "percentage       101503 non-null float64\n",
      "age              101503 non-null float64\n",
      "30-59            101503 non-null float64\n",
      "DebtRatio        101503 non-null float64\n",
      "MonthlyIncome    101503 non-null float64\n",
      "open_loan        101503 non-null float64\n",
      "90-              101503 non-null float64\n",
      "estate_loan      101503 non-null float64\n",
      "60-89            101503 non-null float64\n",
      "Dependents       101503 non-null float64\n",
      "target           0 non-null float64\n",
      "dtypes: float64(11)\n",
      "memory usage: 8.5 MB\n"
     ]
    }
   ],
   "source": [
    "data_test2.info()"
   ]
  },
  {
   "cell_type": "code",
   "execution_count": 180,
   "metadata": {},
   "outputs": [],
   "source": [
    "y_hat = clf_t.predict_proba(data_test2.iloc[:,:-1])[:,1]"
   ]
  },
  {
   "cell_type": "code",
   "execution_count": 182,
   "metadata": {},
   "outputs": [],
   "source": [
    "to_push = pd.DataFrame({'Id':data_test.index.tolist(),\n",
    "                        'Probability':y_hat})\n",
    "to_push.to_csv('submission.csv', index=False)"
   ]
  },
  {
   "cell_type": "code",
   "execution_count": 183,
   "metadata": {},
   "outputs": [
    {
     "data": {
      "text/html": [
       "<div>\n",
       "<style scoped>\n",
       "    .dataframe tbody tr th:only-of-type {\n",
       "        vertical-align: middle;\n",
       "    }\n",
       "\n",
       "    .dataframe tbody tr th {\n",
       "        vertical-align: top;\n",
       "    }\n",
       "\n",
       "    .dataframe thead th {\n",
       "        text-align: right;\n",
       "    }\n",
       "</style>\n",
       "<table border=\"1\" class=\"dataframe\">\n",
       "  <thead>\n",
       "    <tr style=\"text-align: right;\">\n",
       "      <th></th>\n",
       "      <th>Id</th>\n",
       "      <th>Probability</th>\n",
       "    </tr>\n",
       "  </thead>\n",
       "  <tbody>\n",
       "    <tr>\n",
       "      <th>0</th>\n",
       "      <td>1</td>\n",
       "      <td>0.265402</td>\n",
       "    </tr>\n",
       "    <tr>\n",
       "      <th>1</th>\n",
       "      <td>2</td>\n",
       "      <td>0.152029</td>\n",
       "    </tr>\n",
       "    <tr>\n",
       "      <th>2</th>\n",
       "      <td>3</td>\n",
       "      <td>0.053243</td>\n",
       "    </tr>\n",
       "    <tr>\n",
       "      <th>3</th>\n",
       "      <td>4</td>\n",
       "      <td>0.233310</td>\n",
       "    </tr>\n",
       "    <tr>\n",
       "      <th>4</th>\n",
       "      <td>5</td>\n",
       "      <td>0.335554</td>\n",
       "    </tr>\n",
       "  </tbody>\n",
       "</table>\n",
       "</div>"
      ],
      "text/plain": [
       "   Id  Probability\n",
       "0   1     0.265402\n",
       "1   2     0.152029\n",
       "2   3     0.053243\n",
       "3   4     0.233310\n",
       "4   5     0.335554"
      ]
     },
     "execution_count": 183,
     "metadata": {},
     "output_type": "execute_result"
    }
   ],
   "source": [
    "to_push.head()"
   ]
  },
  {
   "cell_type": "markdown",
   "metadata": {},
   "source": [
    "## 模型评估--psi"
   ]
  },
  {
   "cell_type": "code",
   "execution_count": 101,
   "metadata": {},
   "outputs": [],
   "source": [
    "def PSI(model, X_train,X_test):\n",
    "    '''\n",
    "    训练集样本分箱频率统计与待预测样本分箱频率统计的KL散度求和\n",
    "    '''\n",
    "    bins = np.arange(11)/10.0\n",
    "    \n",
    "    y_train = model.predict_proba(X_train)[:,1]\n",
    "    train_count = pd.value_counts(y_train,sort=False,bins=bins,normalize=True)\n",
    "    \n",
    "    y_test = model.predict_proba(X_test)[:,1]\n",
    "    test_count = pd.value_counts(y_test,sort=False,bins=bins,normalize=True)\n",
    "    \n",
    "    return (train_count-test_count).dot(np.log(train_count/test_count))"
   ]
  },
  {
   "cell_type": "code",
   "execution_count": 188,
   "metadata": {},
   "outputs": [
    {
     "name": "stdout",
     "output_type": "stream",
     "text": [
      "PSI= 0.0272%, 低于10%, 模型稳定。\n"
     ]
    }
   ],
   "source": [
    "## data_test3是下面计算结果，这里提前用一下\n",
    "psi=PSI(clf_t, df_train.iloc[:,:-1], data_test2.iloc[:,:-1])*100\n",
    "print(f'PSI= {psi:.4f}%, 低于10%, 模型稳定。')"
   ]
  },
  {
   "cell_type": "markdown",
   "metadata": {},
   "source": [
    "## 评分规则建立"
   ]
  },
  {
   "cell_type": "code",
   "execution_count": 184,
   "metadata": {},
   "outputs": [],
   "source": [
    "## 确定阈值--KS检验\n",
    "def KS(model, X, y):\n",
    "    y_prob = model.predict_proba(X)[:,1]\n",
    "    df = pd.DataFrame(roc_curve(y, y_prob),index=['fpr','tpr','thre']).T\n",
    "    df['gap'] = df.tpr - df.fpr\n",
    "    ks = df.gap.max()\n",
    "    fpr_max, tpr_max, thre, _  = df.loc[df.gap.idxmax(),:]\n",
    "    \n",
    "    df.plot(x='thre',y=['fpr','tpr'],xlim=(0,1),\n",
    "           title=f'KS: {ks:.4f}, thre: {thre:.4f}')\n",
    "    plt.vlines(thre,fpr_max,tpr_max,color='r')\n",
    "    \n",
    "    return thre"
   ]
  },
  {
   "cell_type": "code",
   "execution_count": 185,
   "metadata": {},
   "outputs": [
    {
     "data": {
      "image/png": "[encoded data removed]",
      "text/plain": [
       "<Figure size 432x288 with 1 Axes>"
      ]
     },
     "metadata": {
      "needs_background": "light"
     },
     "output_type": "display_data"
    }
   ],
   "source": [
    "thre = KS(clf_t, X, y)"
   ]
  },
  {
   "cell_type": "code",
   "execution_count": 186,
   "metadata": {},
   "outputs": [
    {
     "name": "stdout",
     "output_type": "stream",
     "text": [
      "y = 71.1897 * X + 28.8103\n"
     ]
    }
   ],
   "source": [
    "from sklearn.linear_model import LinearRegression\n",
    "lr = LinearRegression()\n",
    "lr.fit([[thre], [1]],[60,100])\n",
    "print(f'y = {lr.coef_[0]:.4f} * X + {lr.intercept_:.4f}')"
   ]
  },
  {
   "cell_type": "code",
   "execution_count": null,
   "metadata": {},
   "outputs": [],
   "source": []
  }
 ],
 "metadata": {
  "kernelspec": {
   "display_name": "Python 3",
   "language": "python",
   "name": "python3"
  },
  "language_info": {
   "codemirror_mode": {
    "name": "ipython",
    "version": 3
   },
   "file_extension": ".py",
   "mimetype": "text/x-python",
   "name": "python",
   "nbconvert_exporter": "python",
   "pygments_lexer": "ipython3",
   "version": "3.7.4"
  }
 },
 "nbformat": 4,
 "nbformat_minor": 4
}
